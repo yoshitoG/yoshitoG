{
  "nbformat": 4,
  "nbformat_minor": 0,
  "metadata": {
    "colab": {
      "name": "NICAR21補講のColab版.ipynb",
      "provenance": [],
      "collapsed_sections": [
        "H6daGOzItS72",
        "hTGLtuqDXdrB",
        "Xj-1puAZn8H8",
        "44WQ2H931pq3",
        "3u56mK1A1r2c",
        "oebjPI35n8Ok",
        "Yii54CPYSPBN",
        "NUjAI1YLUl15",
        "OgyVeviTeoKk",
        "WTl3mDbPmOwn",
        "JXLmbNEGaHGH",
        "ZDPc2rTtWAGd",
        "6Z79XWYm0xIk",
        "UmnugC0oxx1F"
      ]
    },
    "kernelspec": {
      "name": "python3",
      "display_name": "Python 3"
    }
  },
  "cells": [
    {
      "cell_type": "markdown",
      "metadata": {
        "id": "H6daGOzItS72"
      },
      "source": [
        "# Google Colab版「First Python Notebook」\n",
        "\n",
        "update: Mar26, 2021\n"
      ]
    },
    {
      "cell_type": "markdown",
      "metadata": {
        "id": "hTGLtuqDXdrB"
      },
      "source": [
        "## 0) これは何？\n"
      ]
    },
    {
      "cell_type": "markdown",
      "metadata": {
        "id": "TFEnQDnGoDLd"
      },
      "source": [
        "[First Python Notebook](https://www.firstpythonnotebook.org/) の Google Colabolatory 版として、そのまま手順を追ってみたもの。環境構築でつまずきそうで気後れする人も、Colab なら大丈夫なのでは？ というココロ。もちろん、非公式。私自身の復習も兼ねているので、お使いの方は、お手数でもご自分のドライブにコピーして、そちらを触ってほしい。\n",
        "\n",
        "やっているのは、米カリフォルニア州の政治資金についての分析。具体的には、マリファナ解禁について、賛否どちらの立場で誰がどのぐらい献金をしているのか、を調べる。詳しい説明は本家サイトに任せ、ここでは、本家には載っていない「コードの実行結果」を見られるようにした。\n",
        "\n",
        "本家は、[**NICAR21**](https://nicar21.pathable.co/) の補講を兼ねた[ハンズオン](https://palewi.re/posts/2021/02/23/nicar21-after-party-first-python-notebook/)にもなった。そのときの講師陣は、Ben Welshさんをはじめ、Iris Leeさん、Andrea Suozzoさん、Cheryl Phillipsさん、Joe Germuskaさん、Derek Willisさん。誠に恐れ多い顔ぶれだ。誰だろう？ と検索する方のために注記すると、Derek はバスケットボール選手ではなく ProPublica のほうね。すばらしい教材と、自分の時間を割いて辛抱強く教えてくれた心意気と根気に深謝します。\n",
        "\n",
        "なお、pipenv と Mac OS「Big Sur」の相性に起因するらしい、インストール時のトラブルについては[こちら](https://github.com/pypa/pipenv/issues/4576)\n",
        "が参考になるとのこと。後日、こういったフォローをしてくれるのも、ありがたい。\n"
      ]
    },
    {
      "cell_type": "markdown",
      "metadata": {
        "id": "Xj-1puAZn8H8"
      },
      "source": [
        "### 本家との違いは？\n",
        "\n",
        "本家はローカルに pipenv でサンドボックス（その中でいろいろ試せるお砂場）環境を構築し、そこで pandas と Jupyter Lab を使っている。また、下準備として、ターミナルからのコマンド入力や、Python のバージョン確認、pipenv の使い方にも丁寧に触れているが、こちらでは省略する。そこを飛ばしてハードルを下げ、まずは体験する、というのが狙いだから。\n",
        "\n",
        "でも、時間の許す人は、きちんと本家に当たって、一からやってみる価値はある。プロローグから２章まで、「[Prerequisites](https://www.firstpythonnotebook.org/prerequisites/index.html)」「[Hello pipenv](https://www.firstpythonnotebook.org/pipenv/index.html)」「[Hello notebook](https://www.firstpythonnotebook.org/notebook/index.html)」の部分。\n",
        "\n",
        "<font color = 'gray'>あと、ところどころに「蛇足」を付した。</font>"
      ]
    },
    {
      "cell_type": "markdown",
      "metadata": {
        "id": "44WQ2H931pq3"
      },
      "source": [
        "### 操作に困ったら？\n",
        "\n",
        "Colab のショートカットキーの一覧は、Windows なら <kbd>Ctrl</kbd> + <kbd>M</kbd> <kbd>H</kbd>（<kbd>Ctrl</kbd> を押しっぱなしにして、順に <kbd>M</kbd> と <kbd>H</kbd> を押す）で表示されるので、活用を。Mac なら <kbd>Ctrl</kbd> の代わりに <kbd>⌘</kbd> キーでもよい。\n"
      ]
    },
    {
      "cell_type": "markdown",
      "metadata": {
        "id": "3u56mK1A1r2c"
      },
      "source": [
        "### その他\n",
        "\n",
        "グラフ作成には [Altair](https://altair-viz.github.io/) を使っている。新顔のライブラリなので、まだ日本語文献は多くない。私のローカル環境では、補講の際に型エラーが出て、グラフ作成がうまくいかなかった。その直前の10傑の表も、講師の画面とは違っていた。その原因を探りたい、というのも、これを作ったごく個人的な理由。\n",
        "\n",
        "<font color=\"gray\">彦星の\b「アルタイル」にちなんだ名前らしい。織姫星「ベガ」の名前がついた [Vega-Lite](https://vega.github.io/vega-lite/)というものがベースになっているから。</font>"
      ]
    },
    {
      "cell_type": "markdown",
      "metadata": {
        "id": "oebjPI35n8Ok"
      },
      "source": [
        "---\n",
        "\n",
        "## 3) pandasを使えるようにする\n",
        "\n",
        "#### [Chapter 3: Hello pandas](https://www.firstpythonnotebook.org/pandas/index.html)\n"
      ]
    },
    {
      "cell_type": "markdown",
      "metadata": {
        "id": "HQ83NohGoJq3"
      },
      "source": [
        "\n",
        "※章立ての番号は本家に合わせた。こちらは 1) と2) は欠番。\n",
        "\n"
      ]
    },
    {
      "cell_type": "code",
      "metadata": {
        "id": "i7gDTpdGtJ_I"
      },
      "source": [
        "import pandas as pd"
      ],
      "execution_count": 1,
      "outputs": []
    },
    {
      "cell_type": "markdown",
      "metadata": {
        "id": "nE-tMnfxvsn-"
      },
      "source": [
        "この講座のメインツール [**pandas**](https://pandas.pydata.org/docs/) を呼び込んで、プログラム中でいつでも使えるようにする。pandas とは、表形式のデータをまとめて扱うのに適したライブラリ（追加ソフト群）。\n",
        "\n",
        "<font color = 'gray'>日本語で参考になりそうな資料は、たとえば[こちら](https://qiita.com/ysdyt/items/9ccca82fc5b504e7913a)。英語版のチートシートは[こちら](https://github.com/pandas-dev/pandas/blob/master/doc/cheatsheet/Pandas_Cheat_Sheet.pdf)。</font>\n",
        "\n",
        "上のコードでは、単に pandas をインポートするだけでなく、短く「pd」と名前をつけ直している。コードを書くときに繰り返し出てくるものは、短い方が楽なので、これが pandas の通り名になっている。あくまで慣行なので、従わなくてもよいが、こうしておいたほうが、先達にコードを見てもらったり、ほかの人が書いたコードを読んで勉強するときにも、迷わない。ということで、初心者のうちは従っておく。\n",
        "\n",
        "pandas は縦横二次元の「データフレーム」と、一次元の「シリーズ」という形式のものを使う。データフレームは、Excel のシートを思い浮かべればよい。表計算ソフトや、R の data.frame、SQL を使ったことのある人には、抵抗はないはず。  \n",
        "\n",
        "注意点は、縦方向には同種のデータが並ぶ、ということ。つまり、あるカラム（列）に入っているものは、数値なら数値、日付なら日付、文字列なら文字列、で揃っていなければならない。これをデータの「型」が揃っている、という。シリーズも、データはすべて同じ型でないといけない。\n",
        "Python のリストを作り、それを pandas のシリーズに変換してみる。その後、合計、最大、最小、各種の代表値、標準偏差を見てみる。  \n",
        "\n",
        "<font color = 'gray'>ここで使っている、ひとつだけのイコールは、「等しい」という等号の意味ではなく、右辺を左辺に代入して保存するよう、指示する働きをするものだ。直感的ではないかもしれないが、おおかたのプログラミング言語に共通する使い方。そのうち気にならなくなると思う。「等しい」の意味では、等号を複数並べて使う。</font>"
      ]
    },
    {
      "cell_type": "code",
      "metadata": {
        "colab": {
          "base_uri": "https://localhost:8080/"
        },
        "id": "mM9U_XPm_KeM",
        "collapsed": true,
        "outputId": "8908b889-77c1-40fd-aa52-d7964ce74afc"
      },
      "source": [
        "my_list = [2, 4, 6, 8]\n",
        "print(my_list)"
      ],
      "execution_count": 2,
      "outputs": [
        {
          "output_type": "stream",
          "text": [
            "[2, 4, 6, 8]\n"
          ],
          "name": "stdout"
        }
      ]
    },
    {
      "cell_type": "markdown",
      "metadata": {
        "id": "g4qWj4Fz_5fw"
      },
      "source": [
        "リストの内容は、好きなように変えて結構。いろいろ試してみて。  \n",
        "pandas のシリーズにするには、以下のように書く。シリーズにしたら、後にいろいろな指示をつけることで、各種の計算ができる。なお、データ型は「整数」と表示されている。  \n",
        "\n",
        "<font color = 'gray'>関数名や変数名の大文字と小文字は区別されるので、下のコードで pd.Series を pd.series と入力すると、エラーになる。my_seriesのほうは自分で命名した変数なので、出てくる箇所（直下のセルだけなら２箇所）で大文字か小文字かが揃っていればエラーしない。でも、初出は小文字、二度目は大文字（あるいはその逆）のようにしたら、エラーになる。</font>"
      ]
    },
    {
      "cell_type": "code",
      "metadata": {
        "colab": {
          "base_uri": "https://localhost:8080/"
        },
        "id": "BI1OOU3kATeZ",
        "outputId": "38b47562-0829-4426-e72d-6b74456edddc"
      },
      "source": [
        "my_series = pd.Series(my_list)\n",
        "print(my_series)"
      ],
      "execution_count": 3,
      "outputs": [
        {
          "output_type": "stream",
          "text": [
            "0    2\n",
            "1    4\n",
            "2    6\n",
            "3    8\n",
            "dtype: int64\n"
          ],
          "name": "stdout"
        }
      ]
    },
    {
      "cell_type": "markdown",
      "metadata": {
        "id": "EETuA-ixBRKF"
      },
      "source": [
        "まず、合計を計算する。"
      ]
    },
    {
      "cell_type": "code",
      "metadata": {
        "colab": {
          "base_uri": "https://localhost:8080/"
        },
        "id": "aE4YBf53BXRD",
        "outputId": "f6810824-0bba-4a41-dd66-97ba334ddf8e"
      },
      "source": [
        "my_series.sum()"
      ],
      "execution_count": 4,
      "outputs": [
        {
          "output_type": "execute_result",
          "data": {
            "text/plain": [
              "20"
            ]
          },
          "metadata": {
            "tags": []
          },
          "execution_count": 4
        }
      ]
    },
    {
      "cell_type": "markdown",
      "metadata": {
        "id": "LWIfz0vlBfa-"
      },
      "source": [
        "最大値は？"
      ]
    },
    {
      "cell_type": "code",
      "metadata": {
        "colab": {
          "base_uri": "https://localhost:8080/"
        },
        "id": "LEmyp9j7BkBd",
        "outputId": "a9b16b8c-297e-486d-fb18-714336e1cdb4"
      },
      "source": [
        "my_series.max()"
      ],
      "execution_count": 5,
      "outputs": [
        {
          "output_type": "execute_result",
          "data": {
            "text/plain": [
              "8"
            ]
          },
          "metadata": {
            "tags": []
          },
          "execution_count": 5
        }
      ]
    },
    {
      "cell_type": "markdown",
      "metadata": {
        "id": "669rZI7sBngL"
      },
      "source": [
        "最小値は？"
      ]
    },
    {
      "cell_type": "code",
      "metadata": {
        "colab": {
          "base_uri": "https://localhost:8080/"
        },
        "id": "XtUQzOvjBsL3",
        "outputId": "c184df1d-873d-42f2-89af-140817bd1a3a"
      },
      "source": [
        "my_series.min()"
      ],
      "execution_count": 6,
      "outputs": [
        {
          "output_type": "execute_result",
          "data": {
            "text/plain": [
              "2"
            ]
          },
          "metadata": {
            "tags": []
          },
          "execution_count": 6
        }
      ]
    },
    {
      "cell_type": "markdown",
      "metadata": {
        "id": "TWZoDNWKBvPK"
      },
      "source": [
        "各種の代表値を計算してみる。本家にはないが、最頻値もやってみる。"
      ]
    },
    {
      "cell_type": "code",
      "metadata": {
        "colab": {
          "base_uri": "https://localhost:8080/"
        },
        "id": "_4ZllmEKB-CP",
        "outputId": "9465d1e0-08be-4de8-baa3-a53908cdf8b1"
      },
      "source": [
        "print(\"mean:\", my_series.mean())\n",
        "print(\"median:\", my_series.median())\n",
        "print(\"mode:\", my_series.mode())"
      ],
      "execution_count": 7,
      "outputs": [
        {
          "output_type": "stream",
          "text": [
            "mean: 5.0\n",
            "median: 5.0\n",
            "mode: 0    2\n",
            "1    4\n",
            "2    6\n",
            "3    8\n",
            "dtype: int64\n"
          ],
          "name": "stdout"
        }
      ]
    },
    {
      "cell_type": "markdown",
      "metadata": {
        "id": "O23RQRj5CeXt"
      },
      "source": [
        "<font color = 'gray'>最頻値は、同頻度のものが複数あると、すべて返してくるようだ。一峰型にしてみると、こうなる。</font>"
      ]
    },
    {
      "cell_type": "code",
      "metadata": {
        "colab": {
          "base_uri": "https://localhost:8080/"
        },
        "id": "XKtgKY8HCpUz",
        "outputId": "0215d7d1-0764-4a3a-b0b4-7200c242e652"
      },
      "source": [
        "my_list2 = [1, 1, 1, 2, 3, 4, 4, 4, 4, 5, 5]\n",
        "my_series2 = pd.Series(my_list2)\n",
        "my_series2.mode()"
      ],
      "execution_count": 8,
      "outputs": [
        {
          "output_type": "execute_result",
          "data": {
            "text/plain": [
              "0    4\n",
              "dtype: int64"
            ]
          },
          "metadata": {
            "tags": []
          },
          "execution_count": 8
        }
      ]
    },
    {
      "cell_type": "markdown",
      "metadata": {
        "id": "wGdY30GHDCc7"
      },
      "source": [
        "脱線したが、本家に沿って標準偏差を計算してみる。"
      ]
    },
    {
      "cell_type": "code",
      "metadata": {
        "colab": {
          "base_uri": "https://localhost:8080/"
        },
        "id": "0OM-qTs8DR-R",
        "outputId": "e63e8dd0-8ead-4341-9e5e-5426795834a6"
      },
      "source": [
        "my_series.std()"
      ],
      "execution_count": 9,
      "outputs": [
        {
          "output_type": "execute_result",
          "data": {
            "text/plain": [
              "2.581988897471611"
            ]
          },
          "metadata": {
            "tags": []
          },
          "execution_count": 9
        }
      ]
    },
    {
      "cell_type": "markdown",
      "metadata": {
        "id": "ChjgofrJEyMi"
      },
      "source": [
        "<font color ='gray'>富士山麓オウム鳴く……でなく、2.5819……が返ってきているので、N ではなく N-1 で割るほうの分散の平方根だ。つまり、NumPy とはデフォルトの挙動が違うということになる。ドキュメントにもその旨記載がある。もし変えたければ、`ddof = 0` などのオプションをつける必要がある。`ddof` とは自由度のことで、デフォルト値は1。  \n",
        "なお、[三重大・奥村先生のサイト](https://oku.edu.mie-u.ac.jp/~okumura/stat/basics.html)など参照のこと。</font>  \n",
        "\n",
        "さて、シリーズやデータフレームについて調べるときのおすすめが、これ。`describe()` は欠損値を除いた項目数・mean・標準偏差・最小値・パーセンタイル値（50%が median に相当）・最大値・データ型の情報を一度に返してくれる。\n",
        "\n",
        "<font color ='gray'>数値データでないものについて、describe() を用いた場合には、count・unique（ユニークなデータ数）・top（データ数が最も多い値）・freq（top のデータ数）を返す。</font>"
      ]
    },
    {
      "cell_type": "code",
      "metadata": {
        "colab": {
          "base_uri": "https://localhost:8080/"
        },
        "id": "-NfFt3CIQ18Q",
        "outputId": "18a4f787-8729-428e-87b2-9e50a2b0ba0b"
      },
      "source": [
        "my_series.describe()"
      ],
      "execution_count": 10,
      "outputs": [
        {
          "output_type": "execute_result",
          "data": {
            "text/plain": [
              "count    4.000000\n",
              "mean     5.000000\n",
              "std      2.581989\n",
              "min      2.000000\n",
              "25%      3.500000\n",
              "50%      5.000000\n",
              "75%      6.500000\n",
              "max      8.000000\n",
              "dtype: float64"
            ]
          },
          "metadata": {
            "tags": []
          },
          "execution_count": 10
        }
      ]
    },
    {
      "cell_type": "markdown",
      "metadata": {
        "id": "Yii54CPYSPBN"
      },
      "source": [
        "---\n",
        "\n",
        "## 4) カリフォルニア州の制度の説明\n",
        "\n",
        "#### [Chapter 4: Hello money in politics](https://www.firstpythonnotebook.org/money/index.html)\n"
      ]
    },
    {
      "cell_type": "markdown",
      "metadata": {
        "id": "gTJW9DTnoecq"
      },
      "source": [
        "\n",
        "※省略。本家を当たって下さい。\n",
        "\n"
      ]
    },
    {
      "cell_type": "markdown",
      "metadata": {
        "id": "NUjAI1YLUl15"
      },
      "source": [
        "---\n",
        "\n",
        "## 5) データを読み込む\n",
        "\n",
        "#### [Chapter 5: Hello data](https://www.firstpythonnotebook.org/dataframe/index.html)\n"
      ]
    },
    {
      "cell_type": "markdown",
      "metadata": {
        "id": "f3MkPs9SolQo"
      },
      "source": [
        "\n",
        "この練習で使うデータのファイル２つを読み込む。公的データの収集・整形・公開が継続的になされ、改善が続けられている点、私たちも見習いたい。\n",
        "\n",
        "いずれもコンマ区切りのテキストである CSV 形式ファイルで、「選挙運動委員会」の一覧 \n",
        "[committees.csv](https://raw.githubusercontent.com/california-civic-data-coalition/first-python-notebook/master/docs/_static/committees.csv) \n",
        "と、一定金額以上の献金の一覧 \n",
        "[contributions.csv](https://raw.githubusercontent.com/california-civic-data-coalition/first-python-notebook/master/docs/_static/contributions.csv)\n",
        "。  \n",
        "\n",
        "pandas はローカルのファイルだけでなく、URL を指定してオンラインのファイルを読み込むことができる。委員会のほうのファイルのありかを指定して、以下のようにすると、読み込んだ上で先頭と末尾部分を表示してくれる。"
      ]
    },
    {
      "cell_type": "code",
      "metadata": {
        "colab": {
          "base_uri": "https://localhost:8080/",
          "height": 1000
        },
        "id": "HO2ISgelS2dd",
        "outputId": "443b67f7-3325-4f87-d75e-07edea9b17b0"
      },
      "source": [
        "pd.read_csv(\"https://raw.githubusercontent.com/california-civic-data-coalition/first-python-notebook/master/docs/_static/committees.csv\")"
      ],
      "execution_count": 11,
      "outputs": [
        {
          "output_type": "execute_result",
          "data": {
            "text/html": [
              "<div>\n",
              "<style scoped>\n",
              "    .dataframe tbody tr th:only-of-type {\n",
              "        vertical-align: middle;\n",
              "    }\n",
              "\n",
              "    .dataframe tbody tr th {\n",
              "        vertical-align: top;\n",
              "    }\n",
              "\n",
              "    .dataframe thead th {\n",
              "        text-align: right;\n",
              "    }\n",
              "</style>\n",
              "<table border=\"1\" class=\"dataframe\">\n",
              "  <thead>\n",
              "    <tr style=\"text-align: right;\">\n",
              "      <th></th>\n",
              "      <th>ocd_prop_id</th>\n",
              "      <th>calaccess_prop_id</th>\n",
              "      <th>ccdc_prop_id</th>\n",
              "      <th>prop_name</th>\n",
              "      <th>ccdc_committee_id</th>\n",
              "      <th>calaccess_committee_id</th>\n",
              "      <th>committee_name</th>\n",
              "      <th>committee_position</th>\n",
              "    </tr>\n",
              "  </thead>\n",
              "  <tbody>\n",
              "    <tr>\n",
              "      <th>0</th>\n",
              "      <td>ocd-contest/b51dc64d-3562-4913-a190-69f5088c22a6</td>\n",
              "      <td>1376258</td>\n",
              "      <td>70</td>\n",
              "      <td>PROPOSITION 051 - SCHOOL BONDS. FUNDING FOR K-...</td>\n",
              "      <td>382</td>\n",
              "      <td>1374469</td>\n",
              "      <td>YES ON PROPOSITION 51 - CALIFORNIANS FOR QUALI...</td>\n",
              "      <td>SUPPORT</td>\n",
              "    </tr>\n",
              "    <tr>\n",
              "      <th>1</th>\n",
              "      <td>ocd-contest/b51dc64d-3562-4913-a190-69f5088c22a6</td>\n",
              "      <td>1376258</td>\n",
              "      <td>70</td>\n",
              "      <td>PROPOSITION 051 - SCHOOL BONDS. FUNDING FOR K-...</td>\n",
              "      <td>383</td>\n",
              "      <td>1220380</td>\n",
              "      <td>COMMUNITY COLLEGE FACILITY COALITION ISSUES CO...</td>\n",
              "      <td>SUPPORT</td>\n",
              "    </tr>\n",
              "    <tr>\n",
              "      <th>2</th>\n",
              "      <td>ocd-contest/b51dc64d-3562-4913-a190-69f5088c22a6</td>\n",
              "      <td>1376258</td>\n",
              "      <td>70</td>\n",
              "      <td>PROPOSITION 051 - SCHOOL BONDS. FUNDING FOR K-...</td>\n",
              "      <td>384</td>\n",
              "      <td>1282321</td>\n",
              "      <td>TORLAKSON'S INVEST IN CALIFORNIA A BALLOT MEAS...</td>\n",
              "      <td>SUPPORT</td>\n",
              "    </tr>\n",
              "    <tr>\n",
              "      <th>3</th>\n",
              "      <td>ocd-contest/b51dc64d-3562-4913-a190-69f5088c22a6</td>\n",
              "      <td>1376258</td>\n",
              "      <td>70</td>\n",
              "      <td>PROPOSITION 051 - SCHOOL BONDS. FUNDING FOR K-...</td>\n",
              "      <td>385</td>\n",
              "      <td>1382843</td>\n",
              "      <td>CALIFORNIA TAXPAYERS AND EDUCATORS OPPOSED TO ...</td>\n",
              "      <td>OPPOSE</td>\n",
              "    </tr>\n",
              "    <tr>\n",
              "      <th>4</th>\n",
              "      <td>ocd-contest/85990193-9d6f-4600-b8e7-bf1317841d82</td>\n",
              "      <td>1362198</td>\n",
              "      <td>71</td>\n",
              "      <td>PROPOSITION 052 - STATE FEES ON HOSPITALS. FED...</td>\n",
              "      <td>386</td>\n",
              "      <td>1362973</td>\n",
              "      <td>YES ON PROPOSITION 52 - A COALITION OF CALIFOR...</td>\n",
              "      <td>SUPPORT</td>\n",
              "    </tr>\n",
              "    <tr>\n",
              "      <th>...</th>\n",
              "      <td>...</td>\n",
              "      <td>...</td>\n",
              "      <td>...</td>\n",
              "      <td>...</td>\n",
              "      <td>...</td>\n",
              "      <td>...</td>\n",
              "      <td>...</td>\n",
              "      <td>...</td>\n",
              "    </tr>\n",
              "    <tr>\n",
              "      <th>97</th>\n",
              "      <td>ocd-contest/7495cdbe-1aa7-4c26-9a55-aa4130347b95</td>\n",
              "      <td>1372638</td>\n",
              "      <td>86</td>\n",
              "      <td>PROPOSITION 067- REFERENDUM TO OVERTURN BAN ON...</td>\n",
              "      <td>479</td>\n",
              "      <td>1329332</td>\n",
              "      <td>SAVE THE BAG BAN, YES ON 67, SPONSORED BY ENVI...</td>\n",
              "      <td>SUPPORT</td>\n",
              "    </tr>\n",
              "    <tr>\n",
              "      <th>98</th>\n",
              "      <td>ocd-contest/7495cdbe-1aa7-4c26-9a55-aa4130347b95</td>\n",
              "      <td>1372638</td>\n",
              "      <td>86</td>\n",
              "      <td>PROPOSITION 067- REFERENDUM TO OVERTURN BAN ON...</td>\n",
              "      <td>480</td>\n",
              "      <td>1374885</td>\n",
              "      <td>YES ON 67 - CALIFORNIANS AGAINST WASTE - PROTE...</td>\n",
              "      <td>SUPPORT</td>\n",
              "    </tr>\n",
              "    <tr>\n",
              "      <th>99</th>\n",
              "      <td>ocd-contest/7495cdbe-1aa7-4c26-9a55-aa4130347b95</td>\n",
              "      <td>1372638</td>\n",
              "      <td>86</td>\n",
              "      <td>PROPOSITION 067- REFERENDUM TO OVERTURN BAN ON...</td>\n",
              "      <td>481</td>\n",
              "      <td>1346973</td>\n",
              "      <td>CALIFORNIA GROCERS ASSOCIATION ISSUES COMMITTE...</td>\n",
              "      <td>SUPPORT</td>\n",
              "    </tr>\n",
              "    <tr>\n",
              "      <th>100</th>\n",
              "      <td>ocd-contest/7495cdbe-1aa7-4c26-9a55-aa4130347b95</td>\n",
              "      <td>1372638</td>\n",
              "      <td>86</td>\n",
              "      <td>PROPOSITION 067- REFERENDUM TO OVERTURN BAN ON...</td>\n",
              "      <td>482</td>\n",
              "      <td>1381938</td>\n",
              "      <td>SAVE THE BAY ACTION FUND PAC - YES ON PROP 67</td>\n",
              "      <td>SUPPORT</td>\n",
              "    </tr>\n",
              "    <tr>\n",
              "      <th>101</th>\n",
              "      <td>ocd-contest/7495cdbe-1aa7-4c26-9a55-aa4130347b95</td>\n",
              "      <td>1372638</td>\n",
              "      <td>86</td>\n",
              "      <td>PROPOSITION 067- REFERENDUM TO OVERTURN BAN ON...</td>\n",
              "      <td>483</td>\n",
              "      <td>1389817</td>\n",
              "      <td>SAVE THE BAY ACTION FUND COMMITTEE TO SUPPORT ...</td>\n",
              "      <td>SUPPORT</td>\n",
              "    </tr>\n",
              "  </tbody>\n",
              "</table>\n",
              "<p>102 rows × 8 columns</p>\n",
              "</div>"
            ],
            "text/plain": [
              "                                          ocd_prop_id  ...  committee_position\n",
              "0    ocd-contest/b51dc64d-3562-4913-a190-69f5088c22a6  ...             SUPPORT\n",
              "1    ocd-contest/b51dc64d-3562-4913-a190-69f5088c22a6  ...             SUPPORT\n",
              "2    ocd-contest/b51dc64d-3562-4913-a190-69f5088c22a6  ...             SUPPORT\n",
              "3    ocd-contest/b51dc64d-3562-4913-a190-69f5088c22a6  ...              OPPOSE\n",
              "4    ocd-contest/85990193-9d6f-4600-b8e7-bf1317841d82  ...             SUPPORT\n",
              "..                                                ...  ...                 ...\n",
              "97   ocd-contest/7495cdbe-1aa7-4c26-9a55-aa4130347b95  ...             SUPPORT\n",
              "98   ocd-contest/7495cdbe-1aa7-4c26-9a55-aa4130347b95  ...             SUPPORT\n",
              "99   ocd-contest/7495cdbe-1aa7-4c26-9a55-aa4130347b95  ...             SUPPORT\n",
              "100  ocd-contest/7495cdbe-1aa7-4c26-9a55-aa4130347b95  ...             SUPPORT\n",
              "101  ocd-contest/7495cdbe-1aa7-4c26-9a55-aa4130347b95  ...             SUPPORT\n",
              "\n",
              "[102 rows x 8 columns]"
            ]
          },
          "metadata": {
            "tags": []
          },
          "execution_count": 11
        }
      ]
    },
    {
      "cell_type": "markdown",
      "metadata": {
        "id": "FiR7daylXug6"
      },
      "source": [
        "きちとん読み込めているようだ。  \n",
        "\n",
        "でも、このままでは、読み込んだデータがそのまま置いてきぼりになってしまう。この先使うために、変数に入れておこう。上の式を、以下のように書き直す。データを読み込むときは毎度、読めているか確かめた後で、代入に書き直すのがよい。  \n",
        "\n",
        "<font color = 'gray'>繰り返しになるが、ひとつだけのイコールは「等しい」ではなく、右辺を左辺に代入する、という意味。左向きの矢印「←」だと思うべし。</font>"
      ]
    },
    {
      "cell_type": "code",
      "metadata": {
        "id": "JoUAffCyZGV2"
      },
      "source": [
        "# １つ前の式を再利用して、前に書き足しただけ\n",
        "committee_list = pd.read_csv(\"https://raw.githubusercontent.com/california-civic-data-coalition/first-python-notebook/master/docs/_static/committees.csv\")"
      ],
      "execution_count": 12,
      "outputs": []
    },
    {
      "cell_type": "markdown",
      "metadata": {
        "id": "HYKtq2IUVIJY"
      },
      "source": [
        "<font color = 'gray'>この方法で読み込んだデータは、自動的にデータフレームになっている。シリーズのときのように、明示的にデータフレームに変換するには、`pd.Dataframe()` を使う。</font>  \n",
        "\n",
        "内容と型の確認を習慣にしておく。読み込んだら、以下の２つ、`head()` と `info()` を必ず実行しよう。  \n",
        "\n",
        "データのヘッダーと冒頭部分を見るには、`head()`。デフォルトで冒頭５行を表示するが、括弧に数字を入れて、行数を指定することもできる。  \n",
        "\n",
        "<font color = 'gray'>私だったら、末尾も見ておく（今回は実は、データを読み込んだだけで代入しなかった際に見ている）。`tail()` を使う。あと、`shape` でカラム数・行数を確かめておくのもよいだろう。\n",
        "ところで、`head()` や `tail()`、先ほど出てきた `max()` や `min()` には括弧がついているのに対し、`shape` や後で出てくる `dtype` には括弧がない。その理由は、前者はメソッドでファンクションの一種だから。後者はアトリビュートだから。なのだが、深入りしない。\n",
        "</font>\n"
      ]
    },
    {
      "cell_type": "code",
      "metadata": {
        "colab": {
          "base_uri": "https://localhost:8080/",
          "height": 544
        },
        "id": "k6bX_jjwYte8",
        "outputId": "4d85dcae-0e8d-4af9-b2f5-c9f70e923d68"
      },
      "source": [
        "committee_list.head()\n",
        "# 末尾を見たければ、tail()を使う\n",
        "# committee_list.tail()"
      ],
      "execution_count": 13,
      "outputs": [
        {
          "output_type": "execute_result",
          "data": {
            "text/html": [
              "<div>\n",
              "<style scoped>\n",
              "    .dataframe tbody tr th:only-of-type {\n",
              "        vertical-align: middle;\n",
              "    }\n",
              "\n",
              "    .dataframe tbody tr th {\n",
              "        vertical-align: top;\n",
              "    }\n",
              "\n",
              "    .dataframe thead th {\n",
              "        text-align: right;\n",
              "    }\n",
              "</style>\n",
              "<table border=\"1\" class=\"dataframe\">\n",
              "  <thead>\n",
              "    <tr style=\"text-align: right;\">\n",
              "      <th></th>\n",
              "      <th>ocd_prop_id</th>\n",
              "      <th>calaccess_prop_id</th>\n",
              "      <th>ccdc_prop_id</th>\n",
              "      <th>prop_name</th>\n",
              "      <th>ccdc_committee_id</th>\n",
              "      <th>calaccess_committee_id</th>\n",
              "      <th>committee_name</th>\n",
              "      <th>committee_position</th>\n",
              "    </tr>\n",
              "  </thead>\n",
              "  <tbody>\n",
              "    <tr>\n",
              "      <th>0</th>\n",
              "      <td>ocd-contest/b51dc64d-3562-4913-a190-69f5088c22a6</td>\n",
              "      <td>1376258</td>\n",
              "      <td>70</td>\n",
              "      <td>PROPOSITION 051 - SCHOOL BONDS. FUNDING FOR K-...</td>\n",
              "      <td>382</td>\n",
              "      <td>1374469</td>\n",
              "      <td>YES ON PROPOSITION 51 - CALIFORNIANS FOR QUALI...</td>\n",
              "      <td>SUPPORT</td>\n",
              "    </tr>\n",
              "    <tr>\n",
              "      <th>1</th>\n",
              "      <td>ocd-contest/b51dc64d-3562-4913-a190-69f5088c22a6</td>\n",
              "      <td>1376258</td>\n",
              "      <td>70</td>\n",
              "      <td>PROPOSITION 051 - SCHOOL BONDS. FUNDING FOR K-...</td>\n",
              "      <td>383</td>\n",
              "      <td>1220380</td>\n",
              "      <td>COMMUNITY COLLEGE FACILITY COALITION ISSUES CO...</td>\n",
              "      <td>SUPPORT</td>\n",
              "    </tr>\n",
              "    <tr>\n",
              "      <th>2</th>\n",
              "      <td>ocd-contest/b51dc64d-3562-4913-a190-69f5088c22a6</td>\n",
              "      <td>1376258</td>\n",
              "      <td>70</td>\n",
              "      <td>PROPOSITION 051 - SCHOOL BONDS. FUNDING FOR K-...</td>\n",
              "      <td>384</td>\n",
              "      <td>1282321</td>\n",
              "      <td>TORLAKSON'S INVEST IN CALIFORNIA A BALLOT MEAS...</td>\n",
              "      <td>SUPPORT</td>\n",
              "    </tr>\n",
              "    <tr>\n",
              "      <th>3</th>\n",
              "      <td>ocd-contest/b51dc64d-3562-4913-a190-69f5088c22a6</td>\n",
              "      <td>1376258</td>\n",
              "      <td>70</td>\n",
              "      <td>PROPOSITION 051 - SCHOOL BONDS. FUNDING FOR K-...</td>\n",
              "      <td>385</td>\n",
              "      <td>1382843</td>\n",
              "      <td>CALIFORNIA TAXPAYERS AND EDUCATORS OPPOSED TO ...</td>\n",
              "      <td>OPPOSE</td>\n",
              "    </tr>\n",
              "    <tr>\n",
              "      <th>4</th>\n",
              "      <td>ocd-contest/85990193-9d6f-4600-b8e7-bf1317841d82</td>\n",
              "      <td>1362198</td>\n",
              "      <td>71</td>\n",
              "      <td>PROPOSITION 052 - STATE FEES ON HOSPITALS. FED...</td>\n",
              "      <td>386</td>\n",
              "      <td>1362973</td>\n",
              "      <td>YES ON PROPOSITION 52 - A COALITION OF CALIFOR...</td>\n",
              "      <td>SUPPORT</td>\n",
              "    </tr>\n",
              "  </tbody>\n",
              "</table>\n",
              "</div>"
            ],
            "text/plain": [
              "                                        ocd_prop_id  ...  committee_position\n",
              "0  ocd-contest/b51dc64d-3562-4913-a190-69f5088c22a6  ...             SUPPORT\n",
              "1  ocd-contest/b51dc64d-3562-4913-a190-69f5088c22a6  ...             SUPPORT\n",
              "2  ocd-contest/b51dc64d-3562-4913-a190-69f5088c22a6  ...             SUPPORT\n",
              "3  ocd-contest/b51dc64d-3562-4913-a190-69f5088c22a6  ...              OPPOSE\n",
              "4  ocd-contest/85990193-9d6f-4600-b8e7-bf1317841d82  ...             SUPPORT\n",
              "\n",
              "[5 rows x 8 columns]"
            ]
          },
          "metadata": {
            "tags": []
          },
          "execution_count": 13
        }
      ]
    },
    {
      "cell_type": "code",
      "metadata": {
        "colab": {
          "base_uri": "https://localhost:8080/"
        },
        "id": "IdPpxNTfZsnC",
        "outputId": "d4732790-2a70-4626-f7c2-158fbe08886a"
      },
      "source": [
        "committee_list.info()"
      ],
      "execution_count": 14,
      "outputs": [
        {
          "output_type": "stream",
          "text": [
            "<class 'pandas.core.frame.DataFrame'>\n",
            "RangeIndex: 102 entries, 0 to 101\n",
            "Data columns (total 8 columns):\n",
            " #   Column                  Non-Null Count  Dtype \n",
            "---  ------                  --------------  ----- \n",
            " 0   ocd_prop_id             102 non-null    object\n",
            " 1   calaccess_prop_id       102 non-null    int64 \n",
            " 2   ccdc_prop_id            102 non-null    int64 \n",
            " 3   prop_name               102 non-null    object\n",
            " 4   ccdc_committee_id       102 non-null    int64 \n",
            " 5   calaccess_committee_id  102 non-null    int64 \n",
            " 6   committee_name          102 non-null    object\n",
            " 7   committee_position      102 non-null    object\n",
            "dtypes: int64(4), object(4)\n",
            "memory usage: 6.5+ KB\n"
          ],
          "name": "stdout"
        }
      ]
    },
    {
      "cell_type": "markdown",
      "metadata": {
        "id": "rqi9y2odbFwQ"
      },
      "source": [
        "各カラムの、値の入った行数や、データ型が分かった。どのカラムもすべて値が入っているようだ。object というのは、ここでは文字列のこと。  \n",
        "\n",
        "もうひとつ、献金一覧の CSV ファイルも同様に読み込む。"
      ]
    },
    {
      "cell_type": "code",
      "metadata": {
        "colab": {
          "base_uri": "https://localhost:8080/",
          "height": 1000
        },
        "id": "rdMp6Aawc0WA",
        "outputId": "799ca1f3-2c94-436d-aca1-daf044f90f62"
      },
      "source": [
        "pd.read_csv(\"https://raw.githubusercontent.com/california-civic-data-coalition/first-python-notebook/master/docs/_static/contributions.csv\")"
      ],
      "execution_count": 15,
      "outputs": [
        {
          "output_type": "execute_result",
          "data": {
            "text/html": [
              "<div>\n",
              "<style scoped>\n",
              "    .dataframe tbody tr th:only-of-type {\n",
              "        vertical-align: middle;\n",
              "    }\n",
              "\n",
              "    .dataframe tbody tr th {\n",
              "        vertical-align: top;\n",
              "    }\n",
              "\n",
              "    .dataframe thead th {\n",
              "        text-align: right;\n",
              "    }\n",
              "</style>\n",
              "<table border=\"1\" class=\"dataframe\">\n",
              "  <thead>\n",
              "    <tr style=\"text-align: right;\">\n",
              "      <th></th>\n",
              "      <th>calaccess_committee_id</th>\n",
              "      <th>committee_name</th>\n",
              "      <th>calaccess_filing_id</th>\n",
              "      <th>date_received</th>\n",
              "      <th>contributor_lastname</th>\n",
              "      <th>contributor_firstname</th>\n",
              "      <th>contributor_city</th>\n",
              "      <th>contributor_state</th>\n",
              "      <th>contributor_zip</th>\n",
              "      <th>contributor_employer</th>\n",
              "      <th>contributor_occupation</th>\n",
              "      <th>contributor_is_self_employed</th>\n",
              "      <th>amount</th>\n",
              "    </tr>\n",
              "  </thead>\n",
              "  <tbody>\n",
              "    <tr>\n",
              "      <th>0</th>\n",
              "      <td>1386560</td>\n",
              "      <td>ADULT USE CAMPAIGN FOR PROPOSITION 64; THE</td>\n",
              "      <td>2083796</td>\n",
              "      <td>2016-09-18</td>\n",
              "      <td>BERGMAN</td>\n",
              "      <td>GRETCHEN</td>\n",
              "      <td>SPRING VALLEY</td>\n",
              "      <td>CA</td>\n",
              "      <td>91978</td>\n",
              "      <td>A NEW PATH</td>\n",
              "      <td>EXECUTIVE DIRECTOR</td>\n",
              "      <td>False</td>\n",
              "      <td>84.0</td>\n",
              "    </tr>\n",
              "    <tr>\n",
              "      <th>1</th>\n",
              "      <td>1386560</td>\n",
              "      <td>ADULT USE CAMPAIGN FOR PROPOSITION 64; THE</td>\n",
              "      <td>2083796</td>\n",
              "      <td>2016-09-18</td>\n",
              "      <td>KAHLE</td>\n",
              "      <td>MYRNA</td>\n",
              "      <td>SAN DIEGO</td>\n",
              "      <td>CA</td>\n",
              "      <td>92109</td>\n",
              "      <td>NATIONAL SCHOOL DISTRICT</td>\n",
              "      <td>TEACHER</td>\n",
              "      <td>False</td>\n",
              "      <td>35.0</td>\n",
              "    </tr>\n",
              "    <tr>\n",
              "      <th>2</th>\n",
              "      <td>1386560</td>\n",
              "      <td>ADULT USE CAMPAIGN FOR PROPOSITION 64; THE</td>\n",
              "      <td>2083796</td>\n",
              "      <td>2016-07-15</td>\n",
              "      <td>MCDEVITT</td>\n",
              "      <td>LEO</td>\n",
              "      <td>ESCONDIDO</td>\n",
              "      <td>CA</td>\n",
              "      <td>92025</td>\n",
              "      <td>LIFE IONIZERS</td>\n",
              "      <td>SEO/CONTENT MANAGER</td>\n",
              "      <td>False</td>\n",
              "      <td>198.0</td>\n",
              "    </tr>\n",
              "    <tr>\n",
              "      <th>3</th>\n",
              "      <td>1386560</td>\n",
              "      <td>ADULT USE CAMPAIGN FOR PROPOSITION 64; THE</td>\n",
              "      <td>2083796</td>\n",
              "      <td>2016-08-10</td>\n",
              "      <td>WARREN-SAMARIPA</td>\n",
              "      <td>STEPHANIE</td>\n",
              "      <td>SAN DIEGO</td>\n",
              "      <td>CA</td>\n",
              "      <td>92116</td>\n",
              "      <td>STEPHANIE WARREN SAMARIPA</td>\n",
              "      <td>ENTREPRENEUR</td>\n",
              "      <td>False</td>\n",
              "      <td>-50.0</td>\n",
              "    </tr>\n",
              "    <tr>\n",
              "      <th>4</th>\n",
              "      <td>1386560</td>\n",
              "      <td>ADULT USE CAMPAIGN FOR PROPOSITION 64; THE</td>\n",
              "      <td>2083796</td>\n",
              "      <td>2016-07-26</td>\n",
              "      <td>WARREN-SAMARIPA</td>\n",
              "      <td>STEPHANIE</td>\n",
              "      <td>SAN DIEGO</td>\n",
              "      <td>CA</td>\n",
              "      <td>92116</td>\n",
              "      <td>STEPHANIE WARREN SAMARIPA</td>\n",
              "      <td>ENTREPRENEUR</td>\n",
              "      <td>True</td>\n",
              "      <td>50.0</td>\n",
              "    </tr>\n",
              "    <tr>\n",
              "      <th>...</th>\n",
              "      <td>...</td>\n",
              "      <td>...</td>\n",
              "      <td>...</td>\n",
              "      <td>...</td>\n",
              "      <td>...</td>\n",
              "      <td>...</td>\n",
              "      <td>...</td>\n",
              "      <td>...</td>\n",
              "      <td>...</td>\n",
              "      <td>...</td>\n",
              "      <td>...</td>\n",
              "      <td>...</td>\n",
              "      <td>...</td>\n",
              "    </tr>\n",
              "    <tr>\n",
              "      <th>56374</th>\n",
              "      <td>1362973</td>\n",
              "      <td>YES ON PROPOSITION 52 - A COALITION OF CALIFOR...</td>\n",
              "      <td>2009922</td>\n",
              "      <td>2015-12-22</td>\n",
              "      <td>CALIFORNIA HEALTH FOUNDATION AND TRUST</td>\n",
              "      <td>NaN</td>\n",
              "      <td>SACRAMENTO</td>\n",
              "      <td>CA</td>\n",
              "      <td>95814</td>\n",
              "      <td>NaN</td>\n",
              "      <td>NaN</td>\n",
              "      <td>False</td>\n",
              "      <td>2000000.0</td>\n",
              "    </tr>\n",
              "    <tr>\n",
              "      <th>56375</th>\n",
              "      <td>1362973</td>\n",
              "      <td>YES ON PROPOSITION 52 - A COALITION OF CALIFOR...</td>\n",
              "      <td>2009922</td>\n",
              "      <td>2015-12-22</td>\n",
              "      <td>CFHS HOLDINGS, INC./MARINA DEL REY HOSPITAL</td>\n",
              "      <td>NaN</td>\n",
              "      <td>MARINA DEL REY</td>\n",
              "      <td>CA</td>\n",
              "      <td>90292</td>\n",
              "      <td>NaN</td>\n",
              "      <td>NaN</td>\n",
              "      <td>False</td>\n",
              "      <td>4629.0</td>\n",
              "    </tr>\n",
              "    <tr>\n",
              "      <th>56376</th>\n",
              "      <td>1362973</td>\n",
              "      <td>YES ON PROPOSITION 52 - A COALITION OF CALIFOR...</td>\n",
              "      <td>2033916</td>\n",
              "      <td>2016-01-20</td>\n",
              "      <td>DIGNITY HEALTH</td>\n",
              "      <td>NaN</td>\n",
              "      <td>SAN FRANCISCO</td>\n",
              "      <td>CA</td>\n",
              "      <td>91107</td>\n",
              "      <td>NaN</td>\n",
              "      <td>NaN</td>\n",
              "      <td>False</td>\n",
              "      <td>8478390.0</td>\n",
              "    </tr>\n",
              "    <tr>\n",
              "      <th>56377</th>\n",
              "      <td>1362973</td>\n",
              "      <td>YES ON PROPOSITION 52 - A COALITION OF CALIFOR...</td>\n",
              "      <td>2082752</td>\n",
              "      <td>2016-08-01</td>\n",
              "      <td>MEMBERS' VOICE OF THE STATE BUILDING AND CONST...</td>\n",
              "      <td>NaN</td>\n",
              "      <td>SACRAMENTO</td>\n",
              "      <td>CA</td>\n",
              "      <td>95814</td>\n",
              "      <td>NaN</td>\n",
              "      <td>NaN</td>\n",
              "      <td>False</td>\n",
              "      <td>100000.0</td>\n",
              "    </tr>\n",
              "    <tr>\n",
              "      <th>56378</th>\n",
              "      <td>1362973</td>\n",
              "      <td>YES ON PROPOSITION 52 - A COALITION OF CALIFOR...</td>\n",
              "      <td>2082752</td>\n",
              "      <td>2016-08-16</td>\n",
              "      <td>CALIFORNIA HOSPITALS COMMITTEE ON ISSUES, (CHC...</td>\n",
              "      <td>NaN</td>\n",
              "      <td>SACRAMENTO</td>\n",
              "      <td>CA</td>\n",
              "      <td>95814</td>\n",
              "      <td>NaN</td>\n",
              "      <td>NaN</td>\n",
              "      <td>False</td>\n",
              "      <td>1000000.0</td>\n",
              "    </tr>\n",
              "  </tbody>\n",
              "</table>\n",
              "<p>56379 rows × 13 columns</p>\n",
              "</div>"
            ],
            "text/plain": [
              "       calaccess_committee_id  ...     amount\n",
              "0                     1386560  ...       84.0\n",
              "1                     1386560  ...       35.0\n",
              "2                     1386560  ...      198.0\n",
              "3                     1386560  ...      -50.0\n",
              "4                     1386560  ...       50.0\n",
              "...                       ...  ...        ...\n",
              "56374                 1362973  ...  2000000.0\n",
              "56375                 1362973  ...     4629.0\n",
              "56376                 1362973  ...  8478390.0\n",
              "56377                 1362973  ...   100000.0\n",
              "56378                 1362973  ...  1000000.0\n",
              "\n",
              "[56379 rows x 13 columns]"
            ]
          },
          "metadata": {
            "tags": []
          },
          "execution_count": 15
        }
      ]
    },
    {
      "cell_type": "markdown",
      "metadata": {
        "id": "DR9svFpPdDlX"
      },
      "source": [
        "こちらは件数が多い。５万行を超えている。"
      ]
    },
    {
      "cell_type": "code",
      "metadata": {
        "id": "8gTzVlwedO0G"
      },
      "source": [
        "contrib_list = pd.read_csv(\"https://raw.githubusercontent.com/california-civic-data-coalition/first-python-notebook/master/docs/_static/contributions.csv\")"
      ],
      "execution_count": 16,
      "outputs": []
    },
    {
      "cell_type": "code",
      "metadata": {
        "colab": {
          "base_uri": "https://localhost:8080/",
          "height": 479
        },
        "id": "EkBcd1QFdlzz",
        "outputId": "185706a4-1b36-4003-a682-a539fcd46074"
      },
      "source": [
        "contrib_list.head()"
      ],
      "execution_count": 17,
      "outputs": [
        {
          "output_type": "execute_result",
          "data": {
            "text/html": [
              "<div>\n",
              "<style scoped>\n",
              "    .dataframe tbody tr th:only-of-type {\n",
              "        vertical-align: middle;\n",
              "    }\n",
              "\n",
              "    .dataframe tbody tr th {\n",
              "        vertical-align: top;\n",
              "    }\n",
              "\n",
              "    .dataframe thead th {\n",
              "        text-align: right;\n",
              "    }\n",
              "</style>\n",
              "<table border=\"1\" class=\"dataframe\">\n",
              "  <thead>\n",
              "    <tr style=\"text-align: right;\">\n",
              "      <th></th>\n",
              "      <th>calaccess_committee_id</th>\n",
              "      <th>committee_name</th>\n",
              "      <th>calaccess_filing_id</th>\n",
              "      <th>date_received</th>\n",
              "      <th>contributor_lastname</th>\n",
              "      <th>contributor_firstname</th>\n",
              "      <th>contributor_city</th>\n",
              "      <th>contributor_state</th>\n",
              "      <th>contributor_zip</th>\n",
              "      <th>contributor_employer</th>\n",
              "      <th>contributor_occupation</th>\n",
              "      <th>contributor_is_self_employed</th>\n",
              "      <th>amount</th>\n",
              "    </tr>\n",
              "  </thead>\n",
              "  <tbody>\n",
              "    <tr>\n",
              "      <th>0</th>\n",
              "      <td>1386560</td>\n",
              "      <td>ADULT USE CAMPAIGN FOR PROPOSITION 64; THE</td>\n",
              "      <td>2083796</td>\n",
              "      <td>2016-09-18</td>\n",
              "      <td>BERGMAN</td>\n",
              "      <td>GRETCHEN</td>\n",
              "      <td>SPRING VALLEY</td>\n",
              "      <td>CA</td>\n",
              "      <td>91978</td>\n",
              "      <td>A NEW PATH</td>\n",
              "      <td>EXECUTIVE DIRECTOR</td>\n",
              "      <td>False</td>\n",
              "      <td>84.0</td>\n",
              "    </tr>\n",
              "    <tr>\n",
              "      <th>1</th>\n",
              "      <td>1386560</td>\n",
              "      <td>ADULT USE CAMPAIGN FOR PROPOSITION 64; THE</td>\n",
              "      <td>2083796</td>\n",
              "      <td>2016-09-18</td>\n",
              "      <td>KAHLE</td>\n",
              "      <td>MYRNA</td>\n",
              "      <td>SAN DIEGO</td>\n",
              "      <td>CA</td>\n",
              "      <td>92109</td>\n",
              "      <td>NATIONAL SCHOOL DISTRICT</td>\n",
              "      <td>TEACHER</td>\n",
              "      <td>False</td>\n",
              "      <td>35.0</td>\n",
              "    </tr>\n",
              "    <tr>\n",
              "      <th>2</th>\n",
              "      <td>1386560</td>\n",
              "      <td>ADULT USE CAMPAIGN FOR PROPOSITION 64; THE</td>\n",
              "      <td>2083796</td>\n",
              "      <td>2016-07-15</td>\n",
              "      <td>MCDEVITT</td>\n",
              "      <td>LEO</td>\n",
              "      <td>ESCONDIDO</td>\n",
              "      <td>CA</td>\n",
              "      <td>92025</td>\n",
              "      <td>LIFE IONIZERS</td>\n",
              "      <td>SEO/CONTENT MANAGER</td>\n",
              "      <td>False</td>\n",
              "      <td>198.0</td>\n",
              "    </tr>\n",
              "    <tr>\n",
              "      <th>3</th>\n",
              "      <td>1386560</td>\n",
              "      <td>ADULT USE CAMPAIGN FOR PROPOSITION 64; THE</td>\n",
              "      <td>2083796</td>\n",
              "      <td>2016-08-10</td>\n",
              "      <td>WARREN-SAMARIPA</td>\n",
              "      <td>STEPHANIE</td>\n",
              "      <td>SAN DIEGO</td>\n",
              "      <td>CA</td>\n",
              "      <td>92116</td>\n",
              "      <td>STEPHANIE WARREN SAMARIPA</td>\n",
              "      <td>ENTREPRENEUR</td>\n",
              "      <td>False</td>\n",
              "      <td>-50.0</td>\n",
              "    </tr>\n",
              "    <tr>\n",
              "      <th>4</th>\n",
              "      <td>1386560</td>\n",
              "      <td>ADULT USE CAMPAIGN FOR PROPOSITION 64; THE</td>\n",
              "      <td>2083796</td>\n",
              "      <td>2016-07-26</td>\n",
              "      <td>WARREN-SAMARIPA</td>\n",
              "      <td>STEPHANIE</td>\n",
              "      <td>SAN DIEGO</td>\n",
              "      <td>CA</td>\n",
              "      <td>92116</td>\n",
              "      <td>STEPHANIE WARREN SAMARIPA</td>\n",
              "      <td>ENTREPRENEUR</td>\n",
              "      <td>True</td>\n",
              "      <td>50.0</td>\n",
              "    </tr>\n",
              "  </tbody>\n",
              "</table>\n",
              "</div>"
            ],
            "text/plain": [
              "   calaccess_committee_id  ... amount\n",
              "0                 1386560  ...   84.0\n",
              "1                 1386560  ...   35.0\n",
              "2                 1386560  ...  198.0\n",
              "3                 1386560  ...  -50.0\n",
              "4                 1386560  ...   50.0\n",
              "\n",
              "[5 rows x 13 columns]"
            ]
          },
          "metadata": {
            "tags": []
          },
          "execution_count": 17
        }
      ]
    },
    {
      "cell_type": "code",
      "metadata": {
        "colab": {
          "base_uri": "https://localhost:8080/"
        },
        "id": "EZ3Wtc-NdlVz",
        "outputId": "4e3c16ee-b46f-423c-fcb9-19b3c5f61056"
      },
      "source": [
        "contrib_list.info()"
      ],
      "execution_count": 18,
      "outputs": [
        {
          "output_type": "stream",
          "text": [
            "<class 'pandas.core.frame.DataFrame'>\n",
            "RangeIndex: 56379 entries, 0 to 56378\n",
            "Data columns (total 13 columns):\n",
            " #   Column                        Non-Null Count  Dtype  \n",
            "---  ------                        --------------  -----  \n",
            " 0   calaccess_committee_id        56379 non-null  int64  \n",
            " 1   committee_name                56379 non-null  object \n",
            " 2   calaccess_filing_id           56379 non-null  int64  \n",
            " 3   date_received                 56379 non-null  object \n",
            " 4   contributor_lastname          56375 non-null  object \n",
            " 5   contributor_firstname         53411 non-null  object \n",
            " 6   contributor_city              56369 non-null  object \n",
            " 7   contributor_state             56363 non-null  object \n",
            " 8   contributor_zip               56366 non-null  object \n",
            " 9   contributor_employer          48572 non-null  object \n",
            " 10  contributor_occupation        53273 non-null  object \n",
            " 11  contributor_is_self_employed  56379 non-null  bool   \n",
            " 12  amount                        56379 non-null  float64\n",
            "dtypes: bool(1), float64(1), int64(2), object(9)\n",
            "memory usage: 5.2+ MB\n"
          ],
          "name": "stdout"
        }
      ]
    },
    {
      "cell_type": "markdown",
      "metadata": {
        "id": "5QUbaMRnebdt"
      },
      "source": [
        "今度はカラムによって、値の入っているレコード数が違う。欠損値に気をつけないといけないようだ。"
      ]
    },
    {
      "cell_type": "code",
      "metadata": {
        "id": "FFjQF5ZXZ4hQ"
      },
      "source": [
        "# マジックコマンドを使って、フィルター機能つきのインタラクティブなテーブルを見たい場合はこうする。Colabならでは。\n",
        "# %load_ext google.colab.data_table\n",
        "# committee_list\n",
        "# %unload_ext google.colab.data_table"
      ],
      "execution_count": 19,
      "outputs": []
    },
    {
      "cell_type": "markdown",
      "metadata": {
        "id": "OgyVeviTeoKk"
      },
      "source": [
        "---\n",
        "\n",
        "## 6) データフレームのカラムを取り出す\n",
        "\n",
        "#### [Chapter 6: Hello columns](https://www.firstpythonnotebook.org/value_counts/index.html)\n"
      ]
    },
    {
      "cell_type": "markdown",
      "metadata": {
        "id": "AButSTwQozdG"
      },
      "source": [
        "\n",
        "カラムというのは、縦の列のこと。対して、横はレコードとか行という。  \n",
        "\n",
        "さて、データフレームのあるカラムに着目してデータを取り出したいときには、ドットでカラム名をつなげばよい。委員会が、どの提案について影響を及ぼそうと活動しているか、が入っている prop_name というカラムだったら"
      ]
    },
    {
      "cell_type": "code",
      "metadata": {
        "colab": {
          "base_uri": "https://localhost:8080/"
        },
        "id": "MSW32fCShQpC",
        "outputId": "381577dd-c6a0-4d87-e45c-ccc14d28c8f9"
      },
      "source": [
        "committee_list.prop_name"
      ],
      "execution_count": 20,
      "outputs": [
        {
          "output_type": "execute_result",
          "data": {
            "text/plain": [
              "0      PROPOSITION 051 - SCHOOL BONDS. FUNDING FOR K-...\n",
              "1      PROPOSITION 051 - SCHOOL BONDS. FUNDING FOR K-...\n",
              "2      PROPOSITION 051 - SCHOOL BONDS. FUNDING FOR K-...\n",
              "3      PROPOSITION 051 - SCHOOL BONDS. FUNDING FOR K-...\n",
              "4      PROPOSITION 052 - STATE FEES ON HOSPITALS. FED...\n",
              "                             ...                        \n",
              "97     PROPOSITION 067- REFERENDUM TO OVERTURN BAN ON...\n",
              "98     PROPOSITION 067- REFERENDUM TO OVERTURN BAN ON...\n",
              "99     PROPOSITION 067- REFERENDUM TO OVERTURN BAN ON...\n",
              "100    PROPOSITION 067- REFERENDUM TO OVERTURN BAN ON...\n",
              "101    PROPOSITION 067- REFERENDUM TO OVERTURN BAN ON...\n",
              "Name: prop_name, Length: 102, dtype: object"
            ]
          },
          "metadata": {
            "tags": []
          },
          "execution_count": 20
        }
      ]
    },
    {
      "cell_type": "markdown",
      "metadata": {
        "id": "0v7arH7GhedC"
      },
      "source": [
        "としてやる。または、同じ結果になるが、"
      ]
    },
    {
      "cell_type": "code",
      "metadata": {
        "colab": {
          "base_uri": "https://localhost:8080/"
        },
        "id": "n4g3vSQVhjnp",
        "outputId": "da026a41-9409-4bc9-fdba-301fc18b0c37"
      },
      "source": [
        "committee_list['prop_name']"
      ],
      "execution_count": 21,
      "outputs": [
        {
          "output_type": "execute_result",
          "data": {
            "text/plain": [
              "0      PROPOSITION 051 - SCHOOL BONDS. FUNDING FOR K-...\n",
              "1      PROPOSITION 051 - SCHOOL BONDS. FUNDING FOR K-...\n",
              "2      PROPOSITION 051 - SCHOOL BONDS. FUNDING FOR K-...\n",
              "3      PROPOSITION 051 - SCHOOL BONDS. FUNDING FOR K-...\n",
              "4      PROPOSITION 052 - STATE FEES ON HOSPITALS. FED...\n",
              "                             ...                        \n",
              "97     PROPOSITION 067- REFERENDUM TO OVERTURN BAN ON...\n",
              "98     PROPOSITION 067- REFERENDUM TO OVERTURN BAN ON...\n",
              "99     PROPOSITION 067- REFERENDUM TO OVERTURN BAN ON...\n",
              "100    PROPOSITION 067- REFERENDUM TO OVERTURN BAN ON...\n",
              "101    PROPOSITION 067- REFERENDUM TO OVERTURN BAN ON...\n",
              "Name: prop_name, Length: 102, dtype: object"
            ]
          },
          "metadata": {
            "tags": []
          },
          "execution_count": 21
        }
      ]
    },
    {
      "cell_type": "markdown",
      "metadata": {
        "id": "lBhDvIeHhp-P"
      },
      "source": [
        "という記法もある。カラム名が空白を含む場合や、メソッドと偶然にも同名の場合には、後者しか使えない。  \n",
        "\n",
        "カラムのデータで、同じものがいくつあるかは、`value_counts()` を使うと数えられる。カラムを取り出した、さっきの式をベースにして"
      ]
    },
    {
      "cell_type": "code",
      "metadata": {
        "colab": {
          "base_uri": "https://localhost:8080/"
        },
        "id": "L8jVq3UujYYN",
        "outputId": "8d1cd9b2-e32b-4f2b-e676-3e1e2919e193"
      },
      "source": [
        "committee_list.prop_name.value_counts()"
      ],
      "execution_count": 22,
      "outputs": [
        {
          "output_type": "execute_result",
          "data": {
            "text/plain": [
              "PROPOSITION 057 - CRIMINAL SENTENCES. JUVENILE CRIMINAL PROCEEDINGS AND SENTENCING. INITIATIVE CONSTITUTIONAL AMENDMENT AND STATUTE.                           13\n",
              "PROPOSITION 056 - CIGARETTE TAX TO FUND HEALTHCARE, TOBACCO USE PREVENTION, RESEARCH, AND LAW ENFORCEMENT. INITIATIVE CONSTITUTIONAL AMENDMENT AND STATUTE.    12\n",
              "PROPOSITION 064- MARIJUANA LEGALIZATION. INITIATIVE STATUTE.                                                                                                   11\n",
              "PROPOSITION 066- DEATH PENALTY. PROCEDURES. INITIATIVE STATUTE.                                                                                                 9\n",
              "PROPOSITION 055 - TAX EXTENSION TO FUND EDUCATION AND HEALTHCARE. INITIATIVE CONSTITUTIONAL AMENDMENT.                                                          8\n",
              "PROPOSITION 062- DEATH PENALTY. INITIATIVE STATUTE.                                                                                                             7\n",
              "PROPOSITION 067- REFERENDUM TO OVERTURN BAN ON SINGLE-USE PLASTIC BAGS.                                                                                         7\n",
              "PROPOSITION 059- SB 254 (CHAPTER 20, STATUTES OF 2016), ALLEN. CAMPAIGN FINANCE: VOTER INSTRUCTION                                                              6\n",
              "PROPOSITION 054 - LEGISLATURE. LEGISLATION AND PROCEEDINGS. INITIATIVE CONSTITUTIONAL AMENDMENT AND STATUTE.                                                    4\n",
              "PROPOSITION 053 - REVENUE BONDS. STATEWIDE VOTER APPROVAL. INITIATIVE CONSTITUTIONAL AMENDMENT.                                                                 4\n",
              "PROPOSITION 051 - SCHOOL BONDS. FUNDING FOR K-12 SCHOOL AND COMMUNITY COLLEGE FACILITIES. INITIATIVE STATUTORY AMENDMENT.                                       4\n",
              "PROPOSITION 058 - SB 1174 (CHAPTER 753, STATUTES OF 2014), LARA. ENGLISH LANGUAGE EDUCATION                                                                     4\n",
              "PROPOSITION 063- FIREARMS. AMMUNITION SALES. INTIATIVE STATUTE.                                                                                                 4\n",
              "PROPOSITION 061- STATE PRESCRIPTION DRUG PURCHASES. PRICING STANDARDS. INITIATIVE STATUTE.                                                                      3\n",
              "PROPOSITION 052 - STATE FEES ON HOSPITALS. FEDERAL MEDI-CAL MATCHING FUNDS. INITIATIVE STATUTORY AND CONSTITUTIONAL AMENDMENT.                                  3\n",
              "PROPOSITION 060- ADULT FILMS. CONDOMS. HEALTH REQUIREMENTS. INITIATIVE STATUTE.                                                                                 2\n",
              "PROPOSITION 065- CARRY-OUT BAGS. CHARGES. INITIATIVE STATUTE.                                                                                                   1\n",
              "Name: prop_name, dtype: int64"
            ]
          },
          "metadata": {
            "tags": []
          },
          "execution_count": 22
        }
      ]
    },
    {
      "cell_type": "markdown",
      "metadata": {
        "id": "-w4i49vcjdcU"
      },
      "source": [
        "と、ドットでつなげばよい。こうやって、鎖のようにつなげば、順次処理してくれる。  \n",
        "\n",
        "さて、出てきた一覧だが、ちょっと見にくい。カウントしてくれたんじゃなかったのかよ……。残念ながら、右端までスクロールしないと見えないし、カウント数の位置も揃っていない。  \n",
        "\n",
        "これは、１カラムだけ取り出したものは、データフレームではなく、シリーズになってしまって、挙動が異なるため。何だかなあ、と思うが、pandas の癖だと割り切るしかない。もちろん、そのままでいいわけはないので、見やすくする。  \n",
        "\n",
        "そのためには、鎖にさらに、`reset_index()`を加えてやる。なぜそんなメソッド名か、はこれまた pandas の仕様としか言いようがない。ともあれ、これで見やすくなった。"
      ]
    },
    {
      "cell_type": "code",
      "metadata": {
        "colab": {
          "base_uri": "https://localhost:8080/",
          "height": 576
        },
        "id": "aMWdVa5ZlcpH",
        "outputId": "7cf676fd-c0a4-4001-c055-af7eabc6321a"
      },
      "source": [
        "committee_list.prop_name.value_counts().reset_index()"
      ],
      "execution_count": 23,
      "outputs": [
        {
          "output_type": "execute_result",
          "data": {
            "text/html": [
              "<div>\n",
              "<style scoped>\n",
              "    .dataframe tbody tr th:only-of-type {\n",
              "        vertical-align: middle;\n",
              "    }\n",
              "\n",
              "    .dataframe tbody tr th {\n",
              "        vertical-align: top;\n",
              "    }\n",
              "\n",
              "    .dataframe thead th {\n",
              "        text-align: right;\n",
              "    }\n",
              "</style>\n",
              "<table border=\"1\" class=\"dataframe\">\n",
              "  <thead>\n",
              "    <tr style=\"text-align: right;\">\n",
              "      <th></th>\n",
              "      <th>index</th>\n",
              "      <th>prop_name</th>\n",
              "    </tr>\n",
              "  </thead>\n",
              "  <tbody>\n",
              "    <tr>\n",
              "      <th>0</th>\n",
              "      <td>PROPOSITION 057 - CRIMINAL SENTENCES. JUVENILE...</td>\n",
              "      <td>13</td>\n",
              "    </tr>\n",
              "    <tr>\n",
              "      <th>1</th>\n",
              "      <td>PROPOSITION 056 - CIGARETTE TAX TO FUND HEALTH...</td>\n",
              "      <td>12</td>\n",
              "    </tr>\n",
              "    <tr>\n",
              "      <th>2</th>\n",
              "      <td>PROPOSITION 064- MARIJUANA LEGALIZATION. INITI...</td>\n",
              "      <td>11</td>\n",
              "    </tr>\n",
              "    <tr>\n",
              "      <th>3</th>\n",
              "      <td>PROPOSITION 066- DEATH PENALTY. PROCEDURES. IN...</td>\n",
              "      <td>9</td>\n",
              "    </tr>\n",
              "    <tr>\n",
              "      <th>4</th>\n",
              "      <td>PROPOSITION 055 - TAX EXTENSION TO FUND EDUCAT...</td>\n",
              "      <td>8</td>\n",
              "    </tr>\n",
              "    <tr>\n",
              "      <th>5</th>\n",
              "      <td>PROPOSITION 062- DEATH PENALTY. INITIATIVE STA...</td>\n",
              "      <td>7</td>\n",
              "    </tr>\n",
              "    <tr>\n",
              "      <th>6</th>\n",
              "      <td>PROPOSITION 067- REFERENDUM TO OVERTURN BAN ON...</td>\n",
              "      <td>7</td>\n",
              "    </tr>\n",
              "    <tr>\n",
              "      <th>7</th>\n",
              "      <td>PROPOSITION 059- SB 254 (CHAPTER 20, STATUTES ...</td>\n",
              "      <td>6</td>\n",
              "    </tr>\n",
              "    <tr>\n",
              "      <th>8</th>\n",
              "      <td>PROPOSITION 054 - LEGISLATURE. LEGISLATION AND...</td>\n",
              "      <td>4</td>\n",
              "    </tr>\n",
              "    <tr>\n",
              "      <th>9</th>\n",
              "      <td>PROPOSITION 053 - REVENUE BONDS. STATEWIDE VOT...</td>\n",
              "      <td>4</td>\n",
              "    </tr>\n",
              "    <tr>\n",
              "      <th>10</th>\n",
              "      <td>PROPOSITION 051 - SCHOOL BONDS. FUNDING FOR K-...</td>\n",
              "      <td>4</td>\n",
              "    </tr>\n",
              "    <tr>\n",
              "      <th>11</th>\n",
              "      <td>PROPOSITION 058 - SB 1174 (CHAPTER 753, STATUT...</td>\n",
              "      <td>4</td>\n",
              "    </tr>\n",
              "    <tr>\n",
              "      <th>12</th>\n",
              "      <td>PROPOSITION 063- FIREARMS. AMMUNITION SALES. I...</td>\n",
              "      <td>4</td>\n",
              "    </tr>\n",
              "    <tr>\n",
              "      <th>13</th>\n",
              "      <td>PROPOSITION 061- STATE PRESCRIPTION DRUG PURCH...</td>\n",
              "      <td>3</td>\n",
              "    </tr>\n",
              "    <tr>\n",
              "      <th>14</th>\n",
              "      <td>PROPOSITION 052 - STATE FEES ON HOSPITALS. FED...</td>\n",
              "      <td>3</td>\n",
              "    </tr>\n",
              "    <tr>\n",
              "      <th>15</th>\n",
              "      <td>PROPOSITION 060- ADULT FILMS. CONDOMS. HEALTH ...</td>\n",
              "      <td>2</td>\n",
              "    </tr>\n",
              "    <tr>\n",
              "      <th>16</th>\n",
              "      <td>PROPOSITION 065- CARRY-OUT BAGS. CHARGES. INIT...</td>\n",
              "      <td>1</td>\n",
              "    </tr>\n",
              "  </tbody>\n",
              "</table>\n",
              "</div>"
            ],
            "text/plain": [
              "                                                index  prop_name\n",
              "0   PROPOSITION 057 - CRIMINAL SENTENCES. JUVENILE...         13\n",
              "1   PROPOSITION 056 - CIGARETTE TAX TO FUND HEALTH...         12\n",
              "2   PROPOSITION 064- MARIJUANA LEGALIZATION. INITI...         11\n",
              "3   PROPOSITION 066- DEATH PENALTY. PROCEDURES. IN...          9\n",
              "4   PROPOSITION 055 - TAX EXTENSION TO FUND EDUCAT...          8\n",
              "5   PROPOSITION 062- DEATH PENALTY. INITIATIVE STA...          7\n",
              "6   PROPOSITION 067- REFERENDUM TO OVERTURN BAN ON...          7\n",
              "7   PROPOSITION 059- SB 254 (CHAPTER 20, STATUTES ...          6\n",
              "8   PROPOSITION 054 - LEGISLATURE. LEGISLATION AND...          4\n",
              "9   PROPOSITION 053 - REVENUE BONDS. STATEWIDE VOT...          4\n",
              "10  PROPOSITION 051 - SCHOOL BONDS. FUNDING FOR K-...          4\n",
              "11  PROPOSITION 058 - SB 1174 (CHAPTER 753, STATUT...          4\n",
              "12  PROPOSITION 063- FIREARMS. AMMUNITION SALES. I...          4\n",
              "13  PROPOSITION 061- STATE PRESCRIPTION DRUG PURCH...          3\n",
              "14  PROPOSITION 052 - STATE FEES ON HOSPITALS. FED...          3\n",
              "15  PROPOSITION 060- ADULT FILMS. CONDOMS. HEALTH ...          2\n",
              "16  PROPOSITION 065- CARRY-OUT BAGS. CHARGES. INIT...          1"
            ]
          },
          "metadata": {
            "tags": []
          },
          "execution_count": 23
        }
      ]
    },
    {
      "cell_type": "markdown",
      "metadata": {
        "id": "WTl3mDbPmOwn"
      },
      "source": [
        "---\n",
        "\n",
        "## 7) 絞り込む\n",
        "\n",
        "#### [Chapter 7: Hello filters](https://www.firstpythonnotebook.org/filter/index.html)"
      ]
    },
    {
      "cell_type": "markdown",
      "metadata": {
        "id": "q_cEOCS4mVA7"
      },
      "source": [
        "2016年11月まで、カリフォルニア州ではマリファナの娯楽目的での使用は違法だった。合法化されたのは、選挙の際にあわせて投票に付された各種提案のうち、マリファナ合法化を主張する「64号議案」が57％の賛成を得たためだ。  \n",
        "\n",
        "そこで、この64号に関係する、選挙運動委員会および献金者だけを抜き出して調べてみることにしよう。  \n",
        "\n",
        "先ほども取り出してみた、prop_name というカラムに手がかりはある。"
      ]
    },
    {
      "cell_type": "code",
      "metadata": {
        "colab": {
          "base_uri": "https://localhost:8080/"
        },
        "id": "ALk1l1TjUuWI",
        "outputId": "3f199c7c-af8f-4669-9e17-35f2b9dcec06"
      },
      "source": [
        "# この式は再掲（見にくかったほう。その後のでも、もちろんよい）\n",
        "committee_list.prop_name.value_counts()"
      ],
      "execution_count": 24,
      "outputs": [
        {
          "output_type": "execute_result",
          "data": {
            "text/plain": [
              "PROPOSITION 057 - CRIMINAL SENTENCES. JUVENILE CRIMINAL PROCEEDINGS AND SENTENCING. INITIATIVE CONSTITUTIONAL AMENDMENT AND STATUTE.                           13\n",
              "PROPOSITION 056 - CIGARETTE TAX TO FUND HEALTHCARE, TOBACCO USE PREVENTION, RESEARCH, AND LAW ENFORCEMENT. INITIATIVE CONSTITUTIONAL AMENDMENT AND STATUTE.    12\n",
              "PROPOSITION 064- MARIJUANA LEGALIZATION. INITIATIVE STATUTE.                                                                                                   11\n",
              "PROPOSITION 066- DEATH PENALTY. PROCEDURES. INITIATIVE STATUTE.                                                                                                 9\n",
              "PROPOSITION 055 - TAX EXTENSION TO FUND EDUCATION AND HEALTHCARE. INITIATIVE CONSTITUTIONAL AMENDMENT.                                                          8\n",
              "PROPOSITION 062- DEATH PENALTY. INITIATIVE STATUTE.                                                                                                             7\n",
              "PROPOSITION 067- REFERENDUM TO OVERTURN BAN ON SINGLE-USE PLASTIC BAGS.                                                                                         7\n",
              "PROPOSITION 059- SB 254 (CHAPTER 20, STATUTES OF 2016), ALLEN. CAMPAIGN FINANCE: VOTER INSTRUCTION                                                              6\n",
              "PROPOSITION 054 - LEGISLATURE. LEGISLATION AND PROCEEDINGS. INITIATIVE CONSTITUTIONAL AMENDMENT AND STATUTE.                                                    4\n",
              "PROPOSITION 053 - REVENUE BONDS. STATEWIDE VOTER APPROVAL. INITIATIVE CONSTITUTIONAL AMENDMENT.                                                                 4\n",
              "PROPOSITION 051 - SCHOOL BONDS. FUNDING FOR K-12 SCHOOL AND COMMUNITY COLLEGE FACILITIES. INITIATIVE STATUTORY AMENDMENT.                                       4\n",
              "PROPOSITION 058 - SB 1174 (CHAPTER 753, STATUTES OF 2014), LARA. ENGLISH LANGUAGE EDUCATION                                                                     4\n",
              "PROPOSITION 063- FIREARMS. AMMUNITION SALES. INTIATIVE STATUTE.                                                                                                 4\n",
              "PROPOSITION 061- STATE PRESCRIPTION DRUG PURCHASES. PRICING STANDARDS. INITIATIVE STATUTE.                                                                      3\n",
              "PROPOSITION 052 - STATE FEES ON HOSPITALS. FEDERAL MEDI-CAL MATCHING FUNDS. INITIATIVE STATUTORY AND CONSTITUTIONAL AMENDMENT.                                  3\n",
              "PROPOSITION 060- ADULT FILMS. CONDOMS. HEALTH REQUIREMENTS. INITIATIVE STATUTE.                                                                                 2\n",
              "PROPOSITION 065- CARRY-OUT BAGS. CHARGES. INITIATIVE STATUTE.                                                                                                   1\n",
              "Name: prop_name, dtype: int64"
            ]
          },
          "metadata": {
            "tags": []
          },
          "execution_count": 24
        }
      ]
    },
    {
      "cell_type": "markdown",
      "metadata": {
        "id": "o_lw2ChYVjgH"
      },
      "source": [
        "ここから、64号の正式名称をコピーしておこう。これと合致するものだけを、抜き出すのに使う。  \n",
        "\n",
        "「PROPOSITION 064- MARIJUANA LEGALIZATION. INITIATIVE STATUTE.」 \n",
        "\n",
        "これから使い回すのだから、変数に保存したほうが便利だ。  \n",
        "\n",
        "<font color = 'gray'>代入はイコールひとつ（しつこい）。</font>"
      ]
    },
    {
      "cell_type": "code",
      "metadata": {
        "id": "SDlN5Tj-WPyj"
      },
      "source": [
        "my_prop = 'PROPOSITION 064- MARIJUANA LEGALIZATION. INITIATIVE STATUTE.'"
      ],
      "execution_count": 25,
      "outputs": []
    },
    {
      "cell_type": "markdown",
      "metadata": {
        "id": "Pw0G5vYkXFhF"
      },
      "source": [
        "では、絞り込む。[ ]の中に式を入れてやると、その式が成立する（**True** になる）行だけが、抜き出されてくる。\n",
        "\n",
        "いま抜き出したいのは、\n",
        "\n",
        "```prop_name イコール「64号」```  \n",
        "\n",
        "が成立する行だけ。いよいよ「等しい」の出番だ。"
      ]
    },
    {
      "cell_type": "code",
      "metadata": {
        "colab": {
          "base_uri": "https://localhost:8080/"
        },
        "id": "ujVkwSz3B1TJ",
        "outputId": "df17f0eb-65d4-4cc7-c768-0632ed218779"
      },
      "source": [
        "committee_list.prop_name == my_prop"
      ],
      "execution_count": 26,
      "outputs": [
        {
          "output_type": "execute_result",
          "data": {
            "text/plain": [
              "0      False\n",
              "1      False\n",
              "2      False\n",
              "3      False\n",
              "4      False\n",
              "       ...  \n",
              "97     False\n",
              "98     False\n",
              "99     False\n",
              "100    False\n",
              "101    False\n",
              "Name: prop_name, Length: 102, dtype: bool"
            ]
          },
          "metadata": {
            "tags": []
          },
          "execution_count": 26
        }
      ]
    },
    {
      "cell_type": "markdown",
      "metadata": {
        "id": "QpYNluKLB_EP"
      },
      "source": [
        "このように、等号を２つ並べて表す。これを[ ]に入れてやると"
      ]
    },
    {
      "cell_type": "code",
      "metadata": {
        "colab": {
          "base_uri": "https://localhost:8080/",
          "height": 1000
        },
        "id": "nUCDGbZiYmRD",
        "outputId": "4624b8c7-11b8-4a28-c2cf-6ad35bda556a"
      },
      "source": [
        "committee_list[committee_list.prop_name == my_prop]"
      ],
      "execution_count": 27,
      "outputs": [
        {
          "output_type": "execute_result",
          "data": {
            "text/html": [
              "<div>\n",
              "<style scoped>\n",
              "    .dataframe tbody tr th:only-of-type {\n",
              "        vertical-align: middle;\n",
              "    }\n",
              "\n",
              "    .dataframe tbody tr th {\n",
              "        vertical-align: top;\n",
              "    }\n",
              "\n",
              "    .dataframe thead th {\n",
              "        text-align: right;\n",
              "    }\n",
              "</style>\n",
              "<table border=\"1\" class=\"dataframe\">\n",
              "  <thead>\n",
              "    <tr style=\"text-align: right;\">\n",
              "      <th></th>\n",
              "      <th>ocd_prop_id</th>\n",
              "      <th>calaccess_prop_id</th>\n",
              "      <th>ccdc_prop_id</th>\n",
              "      <th>prop_name</th>\n",
              "      <th>ccdc_committee_id</th>\n",
              "      <th>calaccess_committee_id</th>\n",
              "      <th>committee_name</th>\n",
              "      <th>committee_position</th>\n",
              "    </tr>\n",
              "  </thead>\n",
              "  <tbody>\n",
              "    <tr>\n",
              "      <th>74</th>\n",
              "      <td>ocd-contest/232cb72c-1b11-4293-b4e2-a181e80d172e</td>\n",
              "      <td>1381868</td>\n",
              "      <td>83</td>\n",
              "      <td>PROPOSITION 064- MARIJUANA LEGALIZATION. INITI...</td>\n",
              "      <td>456</td>\n",
              "      <td>1381808</td>\n",
              "      <td>YES ON 64, CALIFORNIANS TO CONTROL, REGULATE A...</td>\n",
              "      <td>SUPPORT</td>\n",
              "    </tr>\n",
              "    <tr>\n",
              "      <th>75</th>\n",
              "      <td>ocd-contest/232cb72c-1b11-4293-b4e2-a181e80d172e</td>\n",
              "      <td>1381868</td>\n",
              "      <td>83</td>\n",
              "      <td>PROPOSITION 064- MARIJUANA LEGALIZATION. INITI...</td>\n",
              "      <td>457</td>\n",
              "      <td>1382525</td>\n",
              "      <td>NEW APPROACH PAC (MPO)</td>\n",
              "      <td>SUPPORT</td>\n",
              "    </tr>\n",
              "    <tr>\n",
              "      <th>76</th>\n",
              "      <td>ocd-contest/232cb72c-1b11-4293-b4e2-a181e80d172e</td>\n",
              "      <td>1381868</td>\n",
              "      <td>83</td>\n",
              "      <td>PROPOSITION 064- MARIJUANA LEGALIZATION. INITI...</td>\n",
              "      <td>458</td>\n",
              "      <td>1376077</td>\n",
              "      <td>CALIFORNIANS FOR SENSIBLE REFORM, SPONSORED BY...</td>\n",
              "      <td>SUPPORT</td>\n",
              "    </tr>\n",
              "    <tr>\n",
              "      <th>77</th>\n",
              "      <td>ocd-contest/232cb72c-1b11-4293-b4e2-a181e80d172e</td>\n",
              "      <td>1381868</td>\n",
              "      <td>83</td>\n",
              "      <td>PROPOSITION 064- MARIJUANA LEGALIZATION. INITI...</td>\n",
              "      <td>459</td>\n",
              "      <td>1382568</td>\n",
              "      <td>PUBLIC AND MENTAL HEALTH ADVOCATES AGAINST 64,...</td>\n",
              "      <td>OPPOSE</td>\n",
              "    </tr>\n",
              "    <tr>\n",
              "      <th>78</th>\n",
              "      <td>ocd-contest/232cb72c-1b11-4293-b4e2-a181e80d172e</td>\n",
              "      <td>1381868</td>\n",
              "      <td>83</td>\n",
              "      <td>PROPOSITION 064- MARIJUANA LEGALIZATION. INITI...</td>\n",
              "      <td>460</td>\n",
              "      <td>1371855</td>\n",
              "      <td>MARIJUANA POLICY PROJECT OF CALIFORNIA, YES ON 64</td>\n",
              "      <td>SUPPORT</td>\n",
              "    </tr>\n",
              "    <tr>\n",
              "      <th>79</th>\n",
              "      <td>ocd-contest/232cb72c-1b11-4293-b4e2-a181e80d172e</td>\n",
              "      <td>1381868</td>\n",
              "      <td>83</td>\n",
              "      <td>PROPOSITION 064- MARIJUANA LEGALIZATION. INITI...</td>\n",
              "      <td>461</td>\n",
              "      <td>1343793</td>\n",
              "      <td>CALIFORNIANS FOR RESPONSIBLE MARIJUANA REFORM,...</td>\n",
              "      <td>SUPPORT</td>\n",
              "    </tr>\n",
              "    <tr>\n",
              "      <th>80</th>\n",
              "      <td>ocd-contest/232cb72c-1b11-4293-b4e2-a181e80d172e</td>\n",
              "      <td>1381868</td>\n",
              "      <td>83</td>\n",
              "      <td>PROPOSITION 064- MARIJUANA LEGALIZATION. INITI...</td>\n",
              "      <td>462</td>\n",
              "      <td>1386560</td>\n",
              "      <td>ADULT USE CAMPAIGN FOR PROPOSITION 64; THE</td>\n",
              "      <td>SUPPORT</td>\n",
              "    </tr>\n",
              "    <tr>\n",
              "      <th>81</th>\n",
              "      <td>ocd-contest/232cb72c-1b11-4293-b4e2-a181e80d172e</td>\n",
              "      <td>1381868</td>\n",
              "      <td>83</td>\n",
              "      <td>PROPOSITION 064- MARIJUANA LEGALIZATION. INITI...</td>\n",
              "      <td>463</td>\n",
              "      <td>1387789</td>\n",
              "      <td>SAM ACTION, INC., A COMMITTEE AGAINST PROPOSIT...</td>\n",
              "      <td>OPPOSE</td>\n",
              "    </tr>\n",
              "    <tr>\n",
              "      <th>82</th>\n",
              "      <td>ocd-contest/232cb72c-1b11-4293-b4e2-a181e80d172e</td>\n",
              "      <td>1381868</td>\n",
              "      <td>83</td>\n",
              "      <td>PROPOSITION 064- MARIJUANA LEGALIZATION. INITI...</td>\n",
              "      <td>464</td>\n",
              "      <td>1385506</td>\n",
              "      <td>DRUG POLICY ACTION - NON PROFIT 501C4, YES ON ...</td>\n",
              "      <td>SUPPORT</td>\n",
              "    </tr>\n",
              "    <tr>\n",
              "      <th>83</th>\n",
              "      <td>ocd-contest/232cb72c-1b11-4293-b4e2-a181e80d172e</td>\n",
              "      <td>1381868</td>\n",
              "      <td>83</td>\n",
              "      <td>PROPOSITION 064- MARIJUANA LEGALIZATION. INITI...</td>\n",
              "      <td>465</td>\n",
              "      <td>1385745</td>\n",
              "      <td>FUND FOR POLICY REFORM (NONPROFIT 501(C)(4))</td>\n",
              "      <td>SUPPORT</td>\n",
              "    </tr>\n",
              "    <tr>\n",
              "      <th>84</th>\n",
              "      <td>ocd-contest/232cb72c-1b11-4293-b4e2-a181e80d172e</td>\n",
              "      <td>1381868</td>\n",
              "      <td>83</td>\n",
              "      <td>PROPOSITION 064- MARIJUANA LEGALIZATION. INITI...</td>\n",
              "      <td>466</td>\n",
              "      <td>1390962</td>\n",
              "      <td>MOMS STRONG AGAINST PROP 64</td>\n",
              "      <td>OPPOSE</td>\n",
              "    </tr>\n",
              "  </tbody>\n",
              "</table>\n",
              "</div>"
            ],
            "text/plain": [
              "                                         ocd_prop_id  ...  committee_position\n",
              "74  ocd-contest/232cb72c-1b11-4293-b4e2-a181e80d172e  ...             SUPPORT\n",
              "75  ocd-contest/232cb72c-1b11-4293-b4e2-a181e80d172e  ...             SUPPORT\n",
              "76  ocd-contest/232cb72c-1b11-4293-b4e2-a181e80d172e  ...             SUPPORT\n",
              "77  ocd-contest/232cb72c-1b11-4293-b4e2-a181e80d172e  ...              OPPOSE\n",
              "78  ocd-contest/232cb72c-1b11-4293-b4e2-a181e80d172e  ...             SUPPORT\n",
              "79  ocd-contest/232cb72c-1b11-4293-b4e2-a181e80d172e  ...             SUPPORT\n",
              "80  ocd-contest/232cb72c-1b11-4293-b4e2-a181e80d172e  ...             SUPPORT\n",
              "81  ocd-contest/232cb72c-1b11-4293-b4e2-a181e80d172e  ...              OPPOSE\n",
              "82  ocd-contest/232cb72c-1b11-4293-b4e2-a181e80d172e  ...             SUPPORT\n",
              "83  ocd-contest/232cb72c-1b11-4293-b4e2-a181e80d172e  ...             SUPPORT\n",
              "84  ocd-contest/232cb72c-1b11-4293-b4e2-a181e80d172e  ...              OPPOSE\n",
              "\n",
              "[11 rows x 8 columns]"
            ]
          },
          "metadata": {
            "tags": []
          },
          "execution_count": 27
        }
      ]
    },
    {
      "cell_type": "markdown",
      "metadata": {
        "id": "VbxgPDE9Y2fB"
      },
      "source": [
        "となる。うまく行った。では、変数に保存しておこう。代入のときは……\n"
      ]
    },
    {
      "cell_type": "code",
      "metadata": {
        "id": "-5Fb60GKY-Ft"
      },
      "source": [
        "my_committees = committee_list[committee_list.prop_name == my_prop] "
      ],
      "execution_count": 28,
      "outputs": []
    },
    {
      "cell_type": "markdown",
      "metadata": {
        "id": "wjrP9LrnZGes"
      },
      "source": [
        "あとは、いつものように、概観しておく。まず、先頭部分。"
      ]
    },
    {
      "cell_type": "code",
      "metadata": {
        "colab": {
          "base_uri": "https://localhost:8080/",
          "height": 564
        },
        "id": "nml1089rZSXE",
        "outputId": "af47bc32-5e69-4242-838f-70759632b4d4"
      },
      "source": [
        "my_committees.head()"
      ],
      "execution_count": 29,
      "outputs": [
        {
          "output_type": "execute_result",
          "data": {
            "text/html": [
              "<div>\n",
              "<style scoped>\n",
              "    .dataframe tbody tr th:only-of-type {\n",
              "        vertical-align: middle;\n",
              "    }\n",
              "\n",
              "    .dataframe tbody tr th {\n",
              "        vertical-align: top;\n",
              "    }\n",
              "\n",
              "    .dataframe thead th {\n",
              "        text-align: right;\n",
              "    }\n",
              "</style>\n",
              "<table border=\"1\" class=\"dataframe\">\n",
              "  <thead>\n",
              "    <tr style=\"text-align: right;\">\n",
              "      <th></th>\n",
              "      <th>ocd_prop_id</th>\n",
              "      <th>calaccess_prop_id</th>\n",
              "      <th>ccdc_prop_id</th>\n",
              "      <th>prop_name</th>\n",
              "      <th>ccdc_committee_id</th>\n",
              "      <th>calaccess_committee_id</th>\n",
              "      <th>committee_name</th>\n",
              "      <th>committee_position</th>\n",
              "    </tr>\n",
              "  </thead>\n",
              "  <tbody>\n",
              "    <tr>\n",
              "      <th>74</th>\n",
              "      <td>ocd-contest/232cb72c-1b11-4293-b4e2-a181e80d172e</td>\n",
              "      <td>1381868</td>\n",
              "      <td>83</td>\n",
              "      <td>PROPOSITION 064- MARIJUANA LEGALIZATION. INITI...</td>\n",
              "      <td>456</td>\n",
              "      <td>1381808</td>\n",
              "      <td>YES ON 64, CALIFORNIANS TO CONTROL, REGULATE A...</td>\n",
              "      <td>SUPPORT</td>\n",
              "    </tr>\n",
              "    <tr>\n",
              "      <th>75</th>\n",
              "      <td>ocd-contest/232cb72c-1b11-4293-b4e2-a181e80d172e</td>\n",
              "      <td>1381868</td>\n",
              "      <td>83</td>\n",
              "      <td>PROPOSITION 064- MARIJUANA LEGALIZATION. INITI...</td>\n",
              "      <td>457</td>\n",
              "      <td>1382525</td>\n",
              "      <td>NEW APPROACH PAC (MPO)</td>\n",
              "      <td>SUPPORT</td>\n",
              "    </tr>\n",
              "    <tr>\n",
              "      <th>76</th>\n",
              "      <td>ocd-contest/232cb72c-1b11-4293-b4e2-a181e80d172e</td>\n",
              "      <td>1381868</td>\n",
              "      <td>83</td>\n",
              "      <td>PROPOSITION 064- MARIJUANA LEGALIZATION. INITI...</td>\n",
              "      <td>458</td>\n",
              "      <td>1376077</td>\n",
              "      <td>CALIFORNIANS FOR SENSIBLE REFORM, SPONSORED BY...</td>\n",
              "      <td>SUPPORT</td>\n",
              "    </tr>\n",
              "    <tr>\n",
              "      <th>77</th>\n",
              "      <td>ocd-contest/232cb72c-1b11-4293-b4e2-a181e80d172e</td>\n",
              "      <td>1381868</td>\n",
              "      <td>83</td>\n",
              "      <td>PROPOSITION 064- MARIJUANA LEGALIZATION. INITI...</td>\n",
              "      <td>459</td>\n",
              "      <td>1382568</td>\n",
              "      <td>PUBLIC AND MENTAL HEALTH ADVOCATES AGAINST 64,...</td>\n",
              "      <td>OPPOSE</td>\n",
              "    </tr>\n",
              "    <tr>\n",
              "      <th>78</th>\n",
              "      <td>ocd-contest/232cb72c-1b11-4293-b4e2-a181e80d172e</td>\n",
              "      <td>1381868</td>\n",
              "      <td>83</td>\n",
              "      <td>PROPOSITION 064- MARIJUANA LEGALIZATION. INITI...</td>\n",
              "      <td>460</td>\n",
              "      <td>1371855</td>\n",
              "      <td>MARIJUANA POLICY PROJECT OF CALIFORNIA, YES ON 64</td>\n",
              "      <td>SUPPORT</td>\n",
              "    </tr>\n",
              "  </tbody>\n",
              "</table>\n",
              "</div>"
            ],
            "text/plain": [
              "                                         ocd_prop_id  ...  committee_position\n",
              "74  ocd-contest/232cb72c-1b11-4293-b4e2-a181e80d172e  ...             SUPPORT\n",
              "75  ocd-contest/232cb72c-1b11-4293-b4e2-a181e80d172e  ...             SUPPORT\n",
              "76  ocd-contest/232cb72c-1b11-4293-b4e2-a181e80d172e  ...             SUPPORT\n",
              "77  ocd-contest/232cb72c-1b11-4293-b4e2-a181e80d172e  ...              OPPOSE\n",
              "78  ocd-contest/232cb72c-1b11-4293-b4e2-a181e80d172e  ...             SUPPORT\n",
              "\n",
              "[5 rows x 8 columns]"
            ]
          },
          "metadata": {
            "tags": []
          },
          "execution_count": 29
        }
      ]
    },
    {
      "cell_type": "markdown",
      "metadata": {
        "id": "mJ9jO4r5ZXFB"
      },
      "source": [
        "それから、こちらも。"
      ]
    },
    {
      "cell_type": "code",
      "metadata": {
        "colab": {
          "base_uri": "https://localhost:8080/"
        },
        "id": "w_f0X_HiZjRm",
        "outputId": "e250492b-985f-409a-a998-e7b100bbcf82"
      },
      "source": [
        "my_committees.info()"
      ],
      "execution_count": 30,
      "outputs": [
        {
          "output_type": "stream",
          "text": [
            "<class 'pandas.core.frame.DataFrame'>\n",
            "Int64Index: 11 entries, 74 to 84\n",
            "Data columns (total 8 columns):\n",
            " #   Column                  Non-Null Count  Dtype \n",
            "---  ------                  --------------  ----- \n",
            " 0   ocd_prop_id             11 non-null     object\n",
            " 1   calaccess_prop_id       11 non-null     int64 \n",
            " 2   ccdc_prop_id            11 non-null     int64 \n",
            " 3   prop_name               11 non-null     object\n",
            " 4   ccdc_committee_id       11 non-null     int64 \n",
            " 5   calaccess_committee_id  11 non-null     int64 \n",
            " 6   committee_name          11 non-null     object\n",
            " 7   committee_position      11 non-null     object\n",
            "dtypes: int64(4), object(4)\n",
            "memory usage: 792.0+ bytes\n"
          ],
          "name": "stdout"
        }
      ]
    },
    {
      "cell_type": "markdown",
      "metadata": {
        "id": "7EdYf6D9Z020"
      },
      "source": [
        "６章末の表でも分かることだが、64号関係の委員会は11ある。"
      ]
    },
    {
      "cell_type": "markdown",
      "metadata": {
        "id": "JXLmbNEGaHGH"
      },
      "source": [
        "---\n",
        "\n",
        "## 8) ２つのデータフレームを結合する\n",
        "\n",
        "#### [Chapter 8: Hello merge](https://www.firstpythonnotebook.org/merge/index.html)"
      ]
    },
    {
      "cell_type": "markdown",
      "metadata": {
        "id": "kPpH9OA61ufa"
      },
      "source": [
        "今度は、献金者のデータについて、やはり64号に関係するものだけを抜き出したい。前章と同様の方法で、絞り込むことはもちろんできる。\n",
        "\n",
        "が、注意深く見てみよう。"
      ]
    },
    {
      "cell_type": "code",
      "metadata": {
        "colab": {
          "base_uri": "https://localhost:8080/"
        },
        "id": "yavwdrtV2bjT",
        "outputId": "e5499ec7-1075-4aec-f732-d314ef2b8f19"
      },
      "source": [
        "contrib_list.info()"
      ],
      "execution_count": 31,
      "outputs": [
        {
          "output_type": "stream",
          "text": [
            "<class 'pandas.core.frame.DataFrame'>\n",
            "RangeIndex: 56379 entries, 0 to 56378\n",
            "Data columns (total 13 columns):\n",
            " #   Column                        Non-Null Count  Dtype  \n",
            "---  ------                        --------------  -----  \n",
            " 0   calaccess_committee_id        56379 non-null  int64  \n",
            " 1   committee_name                56379 non-null  object \n",
            " 2   calaccess_filing_id           56379 non-null  int64  \n",
            " 3   date_received                 56379 non-null  object \n",
            " 4   contributor_lastname          56375 non-null  object \n",
            " 5   contributor_firstname         53411 non-null  object \n",
            " 6   contributor_city              56369 non-null  object \n",
            " 7   contributor_state             56363 non-null  object \n",
            " 8   contributor_zip               56366 non-null  object \n",
            " 9   contributor_employer          48572 non-null  object \n",
            " 10  contributor_occupation        53273 non-null  object \n",
            " 11  contributor_is_self_employed  56379 non-null  bool   \n",
            " 12  amount                        56379 non-null  float64\n",
            "dtypes: bool(1), float64(1), int64(2), object(9)\n",
            "memory usage: 5.2+ MB\n"
          ],
          "name": "stdout"
        }
      ]
    },
    {
      "cell_type": "markdown",
      "metadata": {
        "id": "l4_R5FGi2d45"
      },
      "source": [
        "先ほどの委員会と比べてみる。"
      ]
    },
    {
      "cell_type": "code",
      "metadata": {
        "colab": {
          "base_uri": "https://localhost:8080/"
        },
        "id": "sn-wi4tJ2ceT",
        "outputId": "9c539c6a-e0a2-44e2-fb78-c49305e62f6d"
      },
      "source": [
        "committee_list.info()"
      ],
      "execution_count": 32,
      "outputs": [
        {
          "output_type": "stream",
          "text": [
            "<class 'pandas.core.frame.DataFrame'>\n",
            "RangeIndex: 102 entries, 0 to 101\n",
            "Data columns (total 8 columns):\n",
            " #   Column                  Non-Null Count  Dtype \n",
            "---  ------                  --------------  ----- \n",
            " 0   ocd_prop_id             102 non-null    object\n",
            " 1   calaccess_prop_id       102 non-null    int64 \n",
            " 2   ccdc_prop_id            102 non-null    int64 \n",
            " 3   prop_name               102 non-null    object\n",
            " 4   ccdc_committee_id       102 non-null    int64 \n",
            " 5   calaccess_committee_id  102 non-null    int64 \n",
            " 6   committee_name          102 non-null    object\n",
            " 7   committee_position      102 non-null    object\n",
            "dtypes: int64(4), object(4)\n",
            "memory usage: 6.5+ KB\n"
          ],
          "name": "stdout"
        }
      ]
    },
    {
      "cell_type": "markdown",
      "metadata": {
        "id": "Pg_g011S288c"
      },
      "source": [
        "どちらにも、calaccess_committee_id というカラムがあることが分かる。だったら、この列をキーとして、２つのデータを付き合わせて、１つに結合することができるではないか。\n",
        "\n",
        "<font color ='gray'>表記の揺れがなければ、だが、両データは実はリレーショナルデータベースを切り分けたものらしいので、委員会名については、ない。</font>\n",
        "\n",
        "SQL で JOIN と言っているものに相当する。pandas では `merge()` と言っているが、呼び名が違うだけだ。\n",
        "\n",
        "<font color = 'gray'>JOIN にも、INNER JOIN や LEFT JOIN など何種類かあって、突合できなかったレコードをどう扱うかが違う。残すか、なかったことになるか、とんでもない挙動の差なので、よくよく考えてから使うこと。</font>\n",
        "\n",
        "pandas の `merge()` は、２つのデータフレームを見てキーを付き合わせ、両方のデータフレームにあったレコードだけを保持するのが、デフォルトの動作。INNER JOIN に相当する。\n",
        "\n",
        "というわけで、すでに64号関係分だけに絞った委員会のデータフレームと、元のままの献金者のデータフレームを `merge()` してやれば、64号関係分だけが残る。つまり、突き合わせと絞り込み処理が一度に済むので、好都合。"
      ]
    },
    {
      "cell_type": "code",
      "metadata": {
        "id": "bYWP_Ka76vDr"
      },
      "source": [
        "merged = pd.merge(my_committees, contrib_list, on = \"calaccess_committee_id\") "
      ],
      "execution_count": 33,
      "outputs": []
    },
    {
      "cell_type": "markdown",
      "metadata": {
        "id": "hliZoywM8p4A"
      },
      "source": [
        "概要を見ておく。冒頭部分。"
      ]
    },
    {
      "cell_type": "code",
      "metadata": {
        "colab": {
          "base_uri": "https://localhost:8080/",
          "height": 564
        },
        "id": "0L1nEPzh8pcX",
        "outputId": "c8e5a809-e63b-4766-9728-d05b81bb6935"
      },
      "source": [
        "merged.head()"
      ],
      "execution_count": 34,
      "outputs": [
        {
          "output_type": "execute_result",
          "data": {
            "text/html": [
              "<div>\n",
              "<style scoped>\n",
              "    .dataframe tbody tr th:only-of-type {\n",
              "        vertical-align: middle;\n",
              "    }\n",
              "\n",
              "    .dataframe tbody tr th {\n",
              "        vertical-align: top;\n",
              "    }\n",
              "\n",
              "    .dataframe thead th {\n",
              "        text-align: right;\n",
              "    }\n",
              "</style>\n",
              "<table border=\"1\" class=\"dataframe\">\n",
              "  <thead>\n",
              "    <tr style=\"text-align: right;\">\n",
              "      <th></th>\n",
              "      <th>ocd_prop_id</th>\n",
              "      <th>calaccess_prop_id</th>\n",
              "      <th>ccdc_prop_id</th>\n",
              "      <th>prop_name</th>\n",
              "      <th>ccdc_committee_id</th>\n",
              "      <th>calaccess_committee_id</th>\n",
              "      <th>committee_name_x</th>\n",
              "      <th>committee_position</th>\n",
              "      <th>committee_name_y</th>\n",
              "      <th>calaccess_filing_id</th>\n",
              "      <th>date_received</th>\n",
              "      <th>contributor_lastname</th>\n",
              "      <th>contributor_firstname</th>\n",
              "      <th>contributor_city</th>\n",
              "      <th>contributor_state</th>\n",
              "      <th>contributor_zip</th>\n",
              "      <th>contributor_employer</th>\n",
              "      <th>contributor_occupation</th>\n",
              "      <th>contributor_is_self_employed</th>\n",
              "      <th>amount</th>\n",
              "    </tr>\n",
              "  </thead>\n",
              "  <tbody>\n",
              "    <tr>\n",
              "      <th>0</th>\n",
              "      <td>ocd-contest/232cb72c-1b11-4293-b4e2-a181e80d172e</td>\n",
              "      <td>1381868</td>\n",
              "      <td>83</td>\n",
              "      <td>PROPOSITION 064- MARIJUANA LEGALIZATION. INITI...</td>\n",
              "      <td>456</td>\n",
              "      <td>1381808</td>\n",
              "      <td>YES ON 64, CALIFORNIANS TO CONTROL, REGULATE A...</td>\n",
              "      <td>SUPPORT</td>\n",
              "      <td>YES ON 64, CALIFORNIANS TO CONTROL, REGULATE A...</td>\n",
              "      <td>2038581</td>\n",
              "      <td>2016-02-04</td>\n",
              "      <td>BRADEN QUIGLEY</td>\n",
              "      <td>LAURA</td>\n",
              "      <td>SACRAMENTO</td>\n",
              "      <td>CA</td>\n",
              "      <td>95825</td>\n",
              "      <td>LBQ STRATEGIES</td>\n",
              "      <td>CONSULTANT</td>\n",
              "      <td>False</td>\n",
              "      <td>100.0</td>\n",
              "    </tr>\n",
              "    <tr>\n",
              "      <th>1</th>\n",
              "      <td>ocd-contest/232cb72c-1b11-4293-b4e2-a181e80d172e</td>\n",
              "      <td>1381868</td>\n",
              "      <td>83</td>\n",
              "      <td>PROPOSITION 064- MARIJUANA LEGALIZATION. INITI...</td>\n",
              "      <td>456</td>\n",
              "      <td>1381808</td>\n",
              "      <td>YES ON 64, CALIFORNIANS TO CONTROL, REGULATE A...</td>\n",
              "      <td>SUPPORT</td>\n",
              "      <td>YES ON 64, CALIFORNIANS TO CONTROL, REGULATE A...</td>\n",
              "      <td>2038581</td>\n",
              "      <td>2016-01-05</td>\n",
              "      <td>CALIFORNIANS FOR SENSIBLE REFORM, SPONSORED BY...</td>\n",
              "      <td>NaN</td>\n",
              "      <td>IRVINE</td>\n",
              "      <td>CA</td>\n",
              "      <td>92618</td>\n",
              "      <td>NaN</td>\n",
              "      <td>NaN</td>\n",
              "      <td>False</td>\n",
              "      <td>250000.0</td>\n",
              "    </tr>\n",
              "    <tr>\n",
              "      <th>2</th>\n",
              "      <td>ocd-contest/232cb72c-1b11-4293-b4e2-a181e80d172e</td>\n",
              "      <td>1381868</td>\n",
              "      <td>83</td>\n",
              "      <td>PROPOSITION 064- MARIJUANA LEGALIZATION. INITI...</td>\n",
              "      <td>456</td>\n",
              "      <td>1381808</td>\n",
              "      <td>YES ON 64, CALIFORNIANS TO CONTROL, REGULATE A...</td>\n",
              "      <td>SUPPORT</td>\n",
              "      <td>YES ON 64, CALIFORNIANS TO CONTROL, REGULATE A...</td>\n",
              "      <td>2038581</td>\n",
              "      <td>2016-01-29</td>\n",
              "      <td>CALIFORNIANS FOR SENSIBLE REFORM, SPONSORED BY...</td>\n",
              "      <td>NaN</td>\n",
              "      <td>IRVINE</td>\n",
              "      <td>CA</td>\n",
              "      <td>92618</td>\n",
              "      <td>NaN</td>\n",
              "      <td>NaN</td>\n",
              "      <td>False</td>\n",
              "      <td>250000.0</td>\n",
              "    </tr>\n",
              "    <tr>\n",
              "      <th>3</th>\n",
              "      <td>ocd-contest/232cb72c-1b11-4293-b4e2-a181e80d172e</td>\n",
              "      <td>1381868</td>\n",
              "      <td>83</td>\n",
              "      <td>PROPOSITION 064- MARIJUANA LEGALIZATION. INITI...</td>\n",
              "      <td>456</td>\n",
              "      <td>1381808</td>\n",
              "      <td>YES ON 64, CALIFORNIANS TO CONTROL, REGULATE A...</td>\n",
              "      <td>SUPPORT</td>\n",
              "      <td>YES ON 64, CALIFORNIANS TO CONTROL, REGULATE A...</td>\n",
              "      <td>2038581</td>\n",
              "      <td>2016-03-28</td>\n",
              "      <td>CALIFORNIANS FOR SENSIBLE REFORM, SPONSORED BY...</td>\n",
              "      <td>NaN</td>\n",
              "      <td>IRVINE</td>\n",
              "      <td>CA</td>\n",
              "      <td>92618</td>\n",
              "      <td>NaN</td>\n",
              "      <td>NaN</td>\n",
              "      <td>False</td>\n",
              "      <td>250000.0</td>\n",
              "    </tr>\n",
              "    <tr>\n",
              "      <th>4</th>\n",
              "      <td>ocd-contest/232cb72c-1b11-4293-b4e2-a181e80d172e</td>\n",
              "      <td>1381868</td>\n",
              "      <td>83</td>\n",
              "      <td>PROPOSITION 064- MARIJUANA LEGALIZATION. INITI...</td>\n",
              "      <td>456</td>\n",
              "      <td>1381808</td>\n",
              "      <td>YES ON 64, CALIFORNIANS TO CONTROL, REGULATE A...</td>\n",
              "      <td>SUPPORT</td>\n",
              "      <td>YES ON 64, CALIFORNIANS TO CONTROL, REGULATE A...</td>\n",
              "      <td>2038581</td>\n",
              "      <td>2016-01-05</td>\n",
              "      <td>DRUG POLICY ACTION</td>\n",
              "      <td>NaN</td>\n",
              "      <td>NEW YORK</td>\n",
              "      <td>NY</td>\n",
              "      <td>10001</td>\n",
              "      <td>NaN</td>\n",
              "      <td>NaN</td>\n",
              "      <td>False</td>\n",
              "      <td>250000.0</td>\n",
              "    </tr>\n",
              "  </tbody>\n",
              "</table>\n",
              "</div>"
            ],
            "text/plain": [
              "                                        ocd_prop_id  ...    amount\n",
              "0  ocd-contest/232cb72c-1b11-4293-b4e2-a181e80d172e  ...     100.0\n",
              "1  ocd-contest/232cb72c-1b11-4293-b4e2-a181e80d172e  ...  250000.0\n",
              "2  ocd-contest/232cb72c-1b11-4293-b4e2-a181e80d172e  ...  250000.0\n",
              "3  ocd-contest/232cb72c-1b11-4293-b4e2-a181e80d172e  ...  250000.0\n",
              "4  ocd-contest/232cb72c-1b11-4293-b4e2-a181e80d172e  ...  250000.0\n",
              "\n",
              "[5 rows x 20 columns]"
            ]
          },
          "metadata": {
            "tags": []
          },
          "execution_count": 34
        }
      ]
    },
    {
      "cell_type": "markdown",
      "metadata": {
        "id": "FlUn4Anm9T3B"
      },
      "source": [
        "`merge()` の結果は？　５万レコード超の献金一覧のうち、何行残っただろうか。"
      ]
    },
    {
      "cell_type": "code",
      "metadata": {
        "colab": {
          "base_uri": "https://localhost:8080/"
        },
        "id": "AQ7vdWXE82gk",
        "outputId": "b2c72384-d5b3-49eb-a3c1-87cf44d9524d"
      },
      "source": [
        "merged.info()"
      ],
      "execution_count": 35,
      "outputs": [
        {
          "output_type": "stream",
          "text": [
            "<class 'pandas.core.frame.DataFrame'>\n",
            "Int64Index: 860 entries, 0 to 859\n",
            "Data columns (total 20 columns):\n",
            " #   Column                        Non-Null Count  Dtype  \n",
            "---  ------                        --------------  -----  \n",
            " 0   ocd_prop_id                   860 non-null    object \n",
            " 1   calaccess_prop_id             860 non-null    int64  \n",
            " 2   ccdc_prop_id                  860 non-null    int64  \n",
            " 3   prop_name                     860 non-null    object \n",
            " 4   ccdc_committee_id             860 non-null    int64  \n",
            " 5   calaccess_committee_id        860 non-null    int64  \n",
            " 6   committee_name_x              860 non-null    object \n",
            " 7   committee_position            860 non-null    object \n",
            " 8   committee_name_y              860 non-null    object \n",
            " 9   calaccess_filing_id           860 non-null    int64  \n",
            " 10  date_received                 860 non-null    object \n",
            " 11  contributor_lastname          860 non-null    object \n",
            " 12  contributor_firstname         750 non-null    object \n",
            " 13  contributor_city              860 non-null    object \n",
            " 14  contributor_state             860 non-null    object \n",
            " 15  contributor_zip               860 non-null    object \n",
            " 16  contributor_employer          657 non-null    object \n",
            " 17  contributor_occupation        742 non-null    object \n",
            " 18  contributor_is_self_employed  860 non-null    bool   \n",
            " 19  amount                        860 non-null    float64\n",
            "dtypes: bool(1), float64(1), int64(5), object(13)\n",
            "memory usage: 135.2+ KB\n"
          ],
          "name": "stdout"
        }
      ]
    },
    {
      "cell_type": "markdown",
      "metadata": {
        "id": "hKlwMmtQ91Gc"
      },
      "source": [
        "5万超のレコードが、860行まで絞り込まれた。\n",
        "\n",
        "`merge()` してできた新しいデータフレームには、元になった２つの表のカラムが、すべて含まれている。\n",
        "\n",
        "もし、両方の表に同名のカラムがあれば、両方を保持した上で、committee_name_x と committee_name_y のように、区別がつくよう目印付きに変更される。ただし、突合に使ったキー列は、ダブらない（突き合わせ処理しているわけだから）。\n",
        "\n",
        "さあ、これで、64号議案分だけの献金者＋委員会のデータベースが手に入った。データにインタビューするつもりで、さらに見ていこう。"
      ]
    },
    {
      "cell_type": "markdown",
      "metadata": {
        "id": "ZDPc2rTtWAGd"
      },
      "source": [
        "---\n",
        "\n",
        "## 9) 合計する\n",
        "\n",
        "#### [Chapter 9: Hello totals](https://www.firstpythonnotebook.org/totals/index.html)\n"
      ]
    },
    {
      "cell_type": "markdown",
      "metadata": {
        "id": "CTSJVxp4WmXT"
      },
      "source": [
        "この私製データベースから何が引き出せるか。人間の情報源に接するときと、ポイントは変わらない。つまるところ、よいストーリーを書くためには，注意深く、徹底して、問いをぶつける必要がある。64号議案に関する最大の献金者は何者なのか解明するため、探索を続けよう。\n",
        "\n",
        "３章で使った小技を利用して、64号についての献金報告の合計額を求めてみる。着目するのは、amount のカラムだ。まず、そのカラムを取り出す。"
      ]
    },
    {
      "cell_type": "code",
      "metadata": {
        "colab": {
          "base_uri": "https://localhost:8080/"
        },
        "id": "khp_Kku4X6kR",
        "outputId": "387aad0d-cad0-4f38-d0f9-f15e856f7334"
      },
      "source": [
        "merged.amount"
      ],
      "execution_count": 36,
      "outputs": [
        {
          "output_type": "execute_result",
          "data": {
            "text/plain": [
              "0         100.00\n",
              "1      250000.00\n",
              "2      250000.00\n",
              "3      250000.00\n",
              "4      250000.00\n",
              "         ...    \n",
              "855     97000.00\n",
              "856      4185.00\n",
              "857       817.00\n",
              "858       408.64\n",
              "859       871.00\n",
              "Name: amount, Length: 860, dtype: float64"
            ]
          },
          "metadata": {
            "tags": []
          },
          "execution_count": 36
        }
      ]
    },
    {
      "cell_type": "markdown",
      "metadata": {
        "id": "ej7zC1Y0cPDQ"
      },
      "source": [
        "そして、合計する。`sum()` を使うのだった。"
      ]
    },
    {
      "cell_type": "code",
      "metadata": {
        "colab": {
          "base_uri": "https://localhost:8080/"
        },
        "id": "Kpg21UyDcXta",
        "outputId": "6567a9e7-a990-41c4-c745-437b2a3c6802"
      },
      "source": [
        "merged.amount.sum()"
      ],
      "execution_count": 37,
      "outputs": [
        {
          "output_type": "execute_result",
          "data": {
            "text/plain": [
              "35177017.64"
            ]
          },
          "metadata": {
            "tags": []
          },
          "execution_count": 37
        }
      ]
    },
    {
      "cell_type": "markdown",
      "metadata": {
        "id": "6OauY-Pscitr"
      },
      "source": [
        "よし、出た。では、早速発信するか！\n",
        "\n",
        "...先走ってはいけない。実は、間違っている。\n",
        "\n",
        "ここで求めた額は、64号議案関連の選挙運動に寄せられた献金額の総計ではなく、必ずそれよりも少なく出る。100ドル超の寄付でなければ、献金者の名前が公表されない制度だからだ。額の多寡など違いはあるが、ほかの州でも、連邦の選挙でも同様なので、注意が必要（開示水準以下も含む本来の合計額は、実は別の報告書に載っている）。初心者がよくはまる落とし穴で、これまでも間違いが繰り返されてきた。\n",
        "\n",
        "<font color = 'gray'>さらに、献金額をよく見ると、マイナスの数字もある。しかも、プラスと同額で打ち消し合っている。カナダなど外国籍の人から違法に献金を受けてしまったことに気づき、後から返金したケースのようだ。ここは突っ込んで調べたらおもしろそう。</font>\n",
        "\n",
        "しかし、それを分かった上で、大口献金者について細かく調べるのには、私たちが加工したデータが役に立つ。\n",
        "\n",
        "ただ合算するのでは芸がない。マリファナ合法化はいったい、賛否どちらの立場からの（大口）献金が多かったのだろうか？　committee_position というカラムを使って、絞り込みをかければ、切り分けることができる。"
      ]
    },
    {
      "cell_type": "code",
      "metadata": {
        "colab": {
          "base_uri": "https://localhost:8080/"
        },
        "id": "F9-9EDRGv10n",
        "outputId": "469162df-6f5d-483e-8616-9607ada3ac99"
      },
      "source": [
        "merged.committee_position.value_counts()"
      ],
      "execution_count": 38,
      "outputs": [
        {
          "output_type": "execute_result",
          "data": {
            "text/plain": [
              "SUPPORT    762\n",
              "OPPOSE      98\n",
              "Name: committee_position, dtype: int64"
            ]
          },
          "metadata": {
            "tags": []
          },
          "execution_count": 38
        }
      ]
    },
    {
      "cell_type": "markdown",
      "metadata": {
        "id": "7Ul0hLE8wYFh"
      },
      "source": [
        "推進の立場だけ取り出すと"
      ]
    },
    {
      "cell_type": "code",
      "metadata": {
        "colab": {
          "base_uri": "https://localhost:8080/",
          "height": 1000
        },
        "id": "IuvmINcmwb9e",
        "outputId": "9ca86a86-46ae-44c9-c170-84a9a3f4a2d5"
      },
      "source": [
        "merged[merged.committee_position == 'SUPPORT']"
      ],
      "execution_count": 39,
      "outputs": [
        {
          "output_type": "execute_result",
          "data": {
            "text/html": [
              "<div>\n",
              "<style scoped>\n",
              "    .dataframe tbody tr th:only-of-type {\n",
              "        vertical-align: middle;\n",
              "    }\n",
              "\n",
              "    .dataframe tbody tr th {\n",
              "        vertical-align: top;\n",
              "    }\n",
              "\n",
              "    .dataframe thead th {\n",
              "        text-align: right;\n",
              "    }\n",
              "</style>\n",
              "<table border=\"1\" class=\"dataframe\">\n",
              "  <thead>\n",
              "    <tr style=\"text-align: right;\">\n",
              "      <th></th>\n",
              "      <th>ocd_prop_id</th>\n",
              "      <th>calaccess_prop_id</th>\n",
              "      <th>ccdc_prop_id</th>\n",
              "      <th>prop_name</th>\n",
              "      <th>ccdc_committee_id</th>\n",
              "      <th>calaccess_committee_id</th>\n",
              "      <th>committee_name_x</th>\n",
              "      <th>committee_position</th>\n",
              "      <th>committee_name_y</th>\n",
              "      <th>calaccess_filing_id</th>\n",
              "      <th>date_received</th>\n",
              "      <th>contributor_lastname</th>\n",
              "      <th>contributor_firstname</th>\n",
              "      <th>contributor_city</th>\n",
              "      <th>contributor_state</th>\n",
              "      <th>contributor_zip</th>\n",
              "      <th>contributor_employer</th>\n",
              "      <th>contributor_occupation</th>\n",
              "      <th>contributor_is_self_employed</th>\n",
              "      <th>amount</th>\n",
              "    </tr>\n",
              "  </thead>\n",
              "  <tbody>\n",
              "    <tr>\n",
              "      <th>0</th>\n",
              "      <td>ocd-contest/232cb72c-1b11-4293-b4e2-a181e80d172e</td>\n",
              "      <td>1381868</td>\n",
              "      <td>83</td>\n",
              "      <td>PROPOSITION 064- MARIJUANA LEGALIZATION. INITI...</td>\n",
              "      <td>456</td>\n",
              "      <td>1381808</td>\n",
              "      <td>YES ON 64, CALIFORNIANS TO CONTROL, REGULATE A...</td>\n",
              "      <td>SUPPORT</td>\n",
              "      <td>YES ON 64, CALIFORNIANS TO CONTROL, REGULATE A...</td>\n",
              "      <td>2038581</td>\n",
              "      <td>2016-02-04</td>\n",
              "      <td>BRADEN QUIGLEY</td>\n",
              "      <td>LAURA</td>\n",
              "      <td>SACRAMENTO</td>\n",
              "      <td>CA</td>\n",
              "      <td>95825</td>\n",
              "      <td>LBQ STRATEGIES</td>\n",
              "      <td>CONSULTANT</td>\n",
              "      <td>False</td>\n",
              "      <td>100.0</td>\n",
              "    </tr>\n",
              "    <tr>\n",
              "      <th>1</th>\n",
              "      <td>ocd-contest/232cb72c-1b11-4293-b4e2-a181e80d172e</td>\n",
              "      <td>1381868</td>\n",
              "      <td>83</td>\n",
              "      <td>PROPOSITION 064- MARIJUANA LEGALIZATION. INITI...</td>\n",
              "      <td>456</td>\n",
              "      <td>1381808</td>\n",
              "      <td>YES ON 64, CALIFORNIANS TO CONTROL, REGULATE A...</td>\n",
              "      <td>SUPPORT</td>\n",
              "      <td>YES ON 64, CALIFORNIANS TO CONTROL, REGULATE A...</td>\n",
              "      <td>2038581</td>\n",
              "      <td>2016-01-05</td>\n",
              "      <td>CALIFORNIANS FOR SENSIBLE REFORM, SPONSORED BY...</td>\n",
              "      <td>NaN</td>\n",
              "      <td>IRVINE</td>\n",
              "      <td>CA</td>\n",
              "      <td>92618</td>\n",
              "      <td>NaN</td>\n",
              "      <td>NaN</td>\n",
              "      <td>False</td>\n",
              "      <td>250000.0</td>\n",
              "    </tr>\n",
              "    <tr>\n",
              "      <th>2</th>\n",
              "      <td>ocd-contest/232cb72c-1b11-4293-b4e2-a181e80d172e</td>\n",
              "      <td>1381868</td>\n",
              "      <td>83</td>\n",
              "      <td>PROPOSITION 064- MARIJUANA LEGALIZATION. INITI...</td>\n",
              "      <td>456</td>\n",
              "      <td>1381808</td>\n",
              "      <td>YES ON 64, CALIFORNIANS TO CONTROL, REGULATE A...</td>\n",
              "      <td>SUPPORT</td>\n",
              "      <td>YES ON 64, CALIFORNIANS TO CONTROL, REGULATE A...</td>\n",
              "      <td>2038581</td>\n",
              "      <td>2016-01-29</td>\n",
              "      <td>CALIFORNIANS FOR SENSIBLE REFORM, SPONSORED BY...</td>\n",
              "      <td>NaN</td>\n",
              "      <td>IRVINE</td>\n",
              "      <td>CA</td>\n",
              "      <td>92618</td>\n",
              "      <td>NaN</td>\n",
              "      <td>NaN</td>\n",
              "      <td>False</td>\n",
              "      <td>250000.0</td>\n",
              "    </tr>\n",
              "    <tr>\n",
              "      <th>3</th>\n",
              "      <td>ocd-contest/232cb72c-1b11-4293-b4e2-a181e80d172e</td>\n",
              "      <td>1381868</td>\n",
              "      <td>83</td>\n",
              "      <td>PROPOSITION 064- MARIJUANA LEGALIZATION. INITI...</td>\n",
              "      <td>456</td>\n",
              "      <td>1381808</td>\n",
              "      <td>YES ON 64, CALIFORNIANS TO CONTROL, REGULATE A...</td>\n",
              "      <td>SUPPORT</td>\n",
              "      <td>YES ON 64, CALIFORNIANS TO CONTROL, REGULATE A...</td>\n",
              "      <td>2038581</td>\n",
              "      <td>2016-03-28</td>\n",
              "      <td>CALIFORNIANS FOR SENSIBLE REFORM, SPONSORED BY...</td>\n",
              "      <td>NaN</td>\n",
              "      <td>IRVINE</td>\n",
              "      <td>CA</td>\n",
              "      <td>92618</td>\n",
              "      <td>NaN</td>\n",
              "      <td>NaN</td>\n",
              "      <td>False</td>\n",
              "      <td>250000.0</td>\n",
              "    </tr>\n",
              "    <tr>\n",
              "      <th>4</th>\n",
              "      <td>ocd-contest/232cb72c-1b11-4293-b4e2-a181e80d172e</td>\n",
              "      <td>1381868</td>\n",
              "      <td>83</td>\n",
              "      <td>PROPOSITION 064- MARIJUANA LEGALIZATION. INITI...</td>\n",
              "      <td>456</td>\n",
              "      <td>1381808</td>\n",
              "      <td>YES ON 64, CALIFORNIANS TO CONTROL, REGULATE A...</td>\n",
              "      <td>SUPPORT</td>\n",
              "      <td>YES ON 64, CALIFORNIANS TO CONTROL, REGULATE A...</td>\n",
              "      <td>2038581</td>\n",
              "      <td>2016-01-05</td>\n",
              "      <td>DRUG POLICY ACTION</td>\n",
              "      <td>NaN</td>\n",
              "      <td>NEW YORK</td>\n",
              "      <td>NY</td>\n",
              "      <td>10001</td>\n",
              "      <td>NaN</td>\n",
              "      <td>NaN</td>\n",
              "      <td>False</td>\n",
              "      <td>250000.0</td>\n",
              "    </tr>\n",
              "    <tr>\n",
              "      <th>...</th>\n",
              "      <td>...</td>\n",
              "      <td>...</td>\n",
              "      <td>...</td>\n",
              "      <td>...</td>\n",
              "      <td>...</td>\n",
              "      <td>...</td>\n",
              "      <td>...</td>\n",
              "      <td>...</td>\n",
              "      <td>...</td>\n",
              "      <td>...</td>\n",
              "      <td>...</td>\n",
              "      <td>...</td>\n",
              "      <td>...</td>\n",
              "      <td>...</td>\n",
              "      <td>...</td>\n",
              "      <td>...</td>\n",
              "      <td>...</td>\n",
              "      <td>...</td>\n",
              "      <td>...</td>\n",
              "      <td>...</td>\n",
              "    </tr>\n",
              "    <tr>\n",
              "      <th>851</th>\n",
              "      <td>ocd-contest/232cb72c-1b11-4293-b4e2-a181e80d172e</td>\n",
              "      <td>1381868</td>\n",
              "      <td>83</td>\n",
              "      <td>PROPOSITION 064- MARIJUANA LEGALIZATION. INITI...</td>\n",
              "      <td>465</td>\n",
              "      <td>1385745</td>\n",
              "      <td>FUND FOR POLICY REFORM (NONPROFIT 501(C)(4))</td>\n",
              "      <td>SUPPORT</td>\n",
              "      <td>FUND FOR POLICY REFORM (NONPROFIT 501(C)(4))</td>\n",
              "      <td>2082414</td>\n",
              "      <td>2016-09-15</td>\n",
              "      <td>FUND FOR POLICY REFORM</td>\n",
              "      <td>NaN</td>\n",
              "      <td>WILMINGTON</td>\n",
              "      <td>DE</td>\n",
              "      <td>19809</td>\n",
              "      <td>NaN</td>\n",
              "      <td>NaN</td>\n",
              "      <td>False</td>\n",
              "      <td>1970000.0</td>\n",
              "    </tr>\n",
              "    <tr>\n",
              "      <th>852</th>\n",
              "      <td>ocd-contest/232cb72c-1b11-4293-b4e2-a181e80d172e</td>\n",
              "      <td>1381868</td>\n",
              "      <td>83</td>\n",
              "      <td>PROPOSITION 064- MARIJUANA LEGALIZATION. INITI...</td>\n",
              "      <td>465</td>\n",
              "      <td>1385745</td>\n",
              "      <td>FUND FOR POLICY REFORM (NONPROFIT 501(C)(4))</td>\n",
              "      <td>SUPPORT</td>\n",
              "      <td>FUND FOR POLICY REFORM (NONPROFIT 501(C)(4))</td>\n",
              "      <td>2096507</td>\n",
              "      <td>2016-09-27</td>\n",
              "      <td>FUND FOR POLICY REFORM</td>\n",
              "      <td>NaN</td>\n",
              "      <td>WILMINGTON</td>\n",
              "      <td>DE</td>\n",
              "      <td>19809</td>\n",
              "      <td>NaN</td>\n",
              "      <td>NaN</td>\n",
              "      <td>False</td>\n",
              "      <td>1403000.0</td>\n",
              "    </tr>\n",
              "    <tr>\n",
              "      <th>853</th>\n",
              "      <td>ocd-contest/232cb72c-1b11-4293-b4e2-a181e80d172e</td>\n",
              "      <td>1381868</td>\n",
              "      <td>83</td>\n",
              "      <td>PROPOSITION 064- MARIJUANA LEGALIZATION. INITI...</td>\n",
              "      <td>465</td>\n",
              "      <td>1385745</td>\n",
              "      <td>FUND FOR POLICY REFORM (NONPROFIT 501(C)(4))</td>\n",
              "      <td>SUPPORT</td>\n",
              "      <td>FUND FOR POLICY REFORM (NONPROFIT 501(C)(4))</td>\n",
              "      <td>2096507</td>\n",
              "      <td>2016-10-19</td>\n",
              "      <td>FUND FOR POLICY REFORM</td>\n",
              "      <td>NaN</td>\n",
              "      <td>WILMINGTON</td>\n",
              "      <td>DE</td>\n",
              "      <td>19809</td>\n",
              "      <td>NaN</td>\n",
              "      <td>NaN</td>\n",
              "      <td>False</td>\n",
              "      <td>500000.0</td>\n",
              "    </tr>\n",
              "    <tr>\n",
              "      <th>854</th>\n",
              "      <td>ocd-contest/232cb72c-1b11-4293-b4e2-a181e80d172e</td>\n",
              "      <td>1381868</td>\n",
              "      <td>83</td>\n",
              "      <td>PROPOSITION 064- MARIJUANA LEGALIZATION. INITI...</td>\n",
              "      <td>465</td>\n",
              "      <td>1385745</td>\n",
              "      <td>FUND FOR POLICY REFORM (NONPROFIT 501(C)(4))</td>\n",
              "      <td>SUPPORT</td>\n",
              "      <td>FUND FOR POLICY REFORM (NONPROFIT 501(C)(4))</td>\n",
              "      <td>2096507</td>\n",
              "      <td>2016-10-07</td>\n",
              "      <td>FUND FOR POLICY REFORM</td>\n",
              "      <td>NaN</td>\n",
              "      <td>WILMINGTON</td>\n",
              "      <td>DE</td>\n",
              "      <td>19809</td>\n",
              "      <td>NaN</td>\n",
              "      <td>NaN</td>\n",
              "      <td>False</td>\n",
              "      <td>200000.0</td>\n",
              "    </tr>\n",
              "    <tr>\n",
              "      <th>855</th>\n",
              "      <td>ocd-contest/232cb72c-1b11-4293-b4e2-a181e80d172e</td>\n",
              "      <td>1381868</td>\n",
              "      <td>83</td>\n",
              "      <td>PROPOSITION 064- MARIJUANA LEGALIZATION. INITI...</td>\n",
              "      <td>465</td>\n",
              "      <td>1385745</td>\n",
              "      <td>FUND FOR POLICY REFORM (NONPROFIT 501(C)(4))</td>\n",
              "      <td>SUPPORT</td>\n",
              "      <td>FUND FOR POLICY REFORM (NONPROFIT 501(C)(4))</td>\n",
              "      <td>2096507</td>\n",
              "      <td>2016-10-14</td>\n",
              "      <td>FUND FOR POLICY REFORM</td>\n",
              "      <td>NaN</td>\n",
              "      <td>WILMINGTON</td>\n",
              "      <td>DE</td>\n",
              "      <td>19809</td>\n",
              "      <td>NaN</td>\n",
              "      <td>NaN</td>\n",
              "      <td>False</td>\n",
              "      <td>97000.0</td>\n",
              "    </tr>\n",
              "  </tbody>\n",
              "</table>\n",
              "<p>762 rows × 20 columns</p>\n",
              "</div>"
            ],
            "text/plain": [
              "                                          ocd_prop_id  ...     amount\n",
              "0    ocd-contest/232cb72c-1b11-4293-b4e2-a181e80d172e  ...      100.0\n",
              "1    ocd-contest/232cb72c-1b11-4293-b4e2-a181e80d172e  ...   250000.0\n",
              "2    ocd-contest/232cb72c-1b11-4293-b4e2-a181e80d172e  ...   250000.0\n",
              "3    ocd-contest/232cb72c-1b11-4293-b4e2-a181e80d172e  ...   250000.0\n",
              "4    ocd-contest/232cb72c-1b11-4293-b4e2-a181e80d172e  ...   250000.0\n",
              "..                                                ...  ...        ...\n",
              "851  ocd-contest/232cb72c-1b11-4293-b4e2-a181e80d172e  ...  1970000.0\n",
              "852  ocd-contest/232cb72c-1b11-4293-b4e2-a181e80d172e  ...  1403000.0\n",
              "853  ocd-contest/232cb72c-1b11-4293-b4e2-a181e80d172e  ...   500000.0\n",
              "854  ocd-contest/232cb72c-1b11-4293-b4e2-a181e80d172e  ...   200000.0\n",
              "855  ocd-contest/232cb72c-1b11-4293-b4e2-a181e80d172e  ...    97000.0\n",
              "\n",
              "[762 rows x 20 columns]"
            ]
          },
          "metadata": {
            "tags": []
          },
          "execution_count": 39
        }
      ]
    },
    {
      "cell_type": "code",
      "metadata": {
        "id": "aY1mdR6pxLmT"
      },
      "source": [
        "support = merged[merged.committee_position == 'SUPPORT']"
      ],
      "execution_count": 40,
      "outputs": []
    },
    {
      "cell_type": "markdown",
      "metadata": {
        "id": "uFq5kPVyxpV3"
      },
      "source": [
        "反対の立場からの献金は"
      ]
    },
    {
      "cell_type": "code",
      "metadata": {
        "colab": {
          "base_uri": "https://localhost:8080/",
          "height": 1000
        },
        "id": "KKLAia4Mxx1J",
        "outputId": "3bdc8b6b-46f2-45ba-bfd0-4d349c7043b0"
      },
      "source": [
        "merged[merged.committee_position == 'OPPOSE']"
      ],
      "execution_count": 41,
      "outputs": [
        {
          "output_type": "execute_result",
          "data": {
            "text/html": [
              "<div>\n",
              "<style scoped>\n",
              "    .dataframe tbody tr th:only-of-type {\n",
              "        vertical-align: middle;\n",
              "    }\n",
              "\n",
              "    .dataframe tbody tr th {\n",
              "        vertical-align: top;\n",
              "    }\n",
              "\n",
              "    .dataframe thead th {\n",
              "        text-align: right;\n",
              "    }\n",
              "</style>\n",
              "<table border=\"1\" class=\"dataframe\">\n",
              "  <thead>\n",
              "    <tr style=\"text-align: right;\">\n",
              "      <th></th>\n",
              "      <th>ocd_prop_id</th>\n",
              "      <th>calaccess_prop_id</th>\n",
              "      <th>ccdc_prop_id</th>\n",
              "      <th>prop_name</th>\n",
              "      <th>ccdc_committee_id</th>\n",
              "      <th>calaccess_committee_id</th>\n",
              "      <th>committee_name_x</th>\n",
              "      <th>committee_position</th>\n",
              "      <th>committee_name_y</th>\n",
              "      <th>calaccess_filing_id</th>\n",
              "      <th>date_received</th>\n",
              "      <th>contributor_lastname</th>\n",
              "      <th>contributor_firstname</th>\n",
              "      <th>contributor_city</th>\n",
              "      <th>contributor_state</th>\n",
              "      <th>contributor_zip</th>\n",
              "      <th>contributor_employer</th>\n",
              "      <th>contributor_occupation</th>\n",
              "      <th>contributor_is_self_employed</th>\n",
              "      <th>amount</th>\n",
              "    </tr>\n",
              "  </thead>\n",
              "  <tbody>\n",
              "    <tr>\n",
              "      <th>261</th>\n",
              "      <td>ocd-contest/232cb72c-1b11-4293-b4e2-a181e80d172e</td>\n",
              "      <td>1381868</td>\n",
              "      <td>83</td>\n",
              "      <td>PROPOSITION 064- MARIJUANA LEGALIZATION. INITI...</td>\n",
              "      <td>459</td>\n",
              "      <td>1382568</td>\n",
              "      <td>PUBLIC AND MENTAL HEALTH ADVOCATES AGAINST 64,...</td>\n",
              "      <td>OPPOSE</td>\n",
              "      <td>PUBLIC AND MENTAL HEALTH ADVOCATES AGAINST 64,...</td>\n",
              "      <td>2040789</td>\n",
              "      <td>2016-02-08</td>\n",
              "      <td>CALIF. POLICE CHIEFS ASSOC.</td>\n",
              "      <td>NaN</td>\n",
              "      <td>SACRAMENTO</td>\n",
              "      <td>CA</td>\n",
              "      <td>95865</td>\n",
              "      <td>NaN</td>\n",
              "      <td>NaN</td>\n",
              "      <td>False</td>\n",
              "      <td>10000.00</td>\n",
              "    </tr>\n",
              "    <tr>\n",
              "      <th>262</th>\n",
              "      <td>ocd-contest/232cb72c-1b11-4293-b4e2-a181e80d172e</td>\n",
              "      <td>1381868</td>\n",
              "      <td>83</td>\n",
              "      <td>PROPOSITION 064- MARIJUANA LEGALIZATION. INITI...</td>\n",
              "      <td>459</td>\n",
              "      <td>1382568</td>\n",
              "      <td>PUBLIC AND MENTAL HEALTH ADVOCATES AGAINST 64,...</td>\n",
              "      <td>OPPOSE</td>\n",
              "      <td>PUBLIC AND MENTAL HEALTH ADVOCATES AGAINST 64,...</td>\n",
              "      <td>2040789</td>\n",
              "      <td>2016-02-22</td>\n",
              "      <td>CALIF. CORRECTIONAL SUPERVISORS ORGANIZATION, ...</td>\n",
              "      <td>NaN</td>\n",
              "      <td>ESCALON</td>\n",
              "      <td>CA</td>\n",
              "      <td>95320</td>\n",
              "      <td>NaN</td>\n",
              "      <td>NaN</td>\n",
              "      <td>False</td>\n",
              "      <td>5000.00</td>\n",
              "    </tr>\n",
              "    <tr>\n",
              "      <th>263</th>\n",
              "      <td>ocd-contest/232cb72c-1b11-4293-b4e2-a181e80d172e</td>\n",
              "      <td>1381868</td>\n",
              "      <td>83</td>\n",
              "      <td>PROPOSITION 064- MARIJUANA LEGALIZATION. INITI...</td>\n",
              "      <td>459</td>\n",
              "      <td>1382568</td>\n",
              "      <td>PUBLIC AND MENTAL HEALTH ADVOCATES AGAINST 64,...</td>\n",
              "      <td>OPPOSE</td>\n",
              "      <td>PUBLIC AND MENTAL HEALTH ADVOCATES AGAINST 64,...</td>\n",
              "      <td>2040789</td>\n",
              "      <td>2016-02-23</td>\n",
              "      <td>ASSOC. FOR LOS ANGELES DEPUTY SHERIFFS STATE PAC</td>\n",
              "      <td>NaN</td>\n",
              "      <td>MONTEREY PARK</td>\n",
              "      <td>CA</td>\n",
              "      <td>91755</td>\n",
              "      <td>NaN</td>\n",
              "      <td>NaN</td>\n",
              "      <td>False</td>\n",
              "      <td>5000.00</td>\n",
              "    </tr>\n",
              "    <tr>\n",
              "      <th>264</th>\n",
              "      <td>ocd-contest/232cb72c-1b11-4293-b4e2-a181e80d172e</td>\n",
              "      <td>1381868</td>\n",
              "      <td>83</td>\n",
              "      <td>PROPOSITION 064- MARIJUANA LEGALIZATION. INITI...</td>\n",
              "      <td>459</td>\n",
              "      <td>1382568</td>\n",
              "      <td>PUBLIC AND MENTAL HEALTH ADVOCATES AGAINST 64,...</td>\n",
              "      <td>OPPOSE</td>\n",
              "      <td>PUBLIC AND MENTAL HEALTH ADVOCATES AGAINST 64,...</td>\n",
              "      <td>2040789</td>\n",
              "      <td>2016-02-23</td>\n",
              "      <td>RIVERSIDE SHERIFFS ASSOC.</td>\n",
              "      <td>NaN</td>\n",
              "      <td>RIVERSIDE</td>\n",
              "      <td>CA</td>\n",
              "      <td>92507</td>\n",
              "      <td>NaN</td>\n",
              "      <td>NaN</td>\n",
              "      <td>False</td>\n",
              "      <td>5000.00</td>\n",
              "    </tr>\n",
              "    <tr>\n",
              "      <th>265</th>\n",
              "      <td>ocd-contest/232cb72c-1b11-4293-b4e2-a181e80d172e</td>\n",
              "      <td>1381868</td>\n",
              "      <td>83</td>\n",
              "      <td>PROPOSITION 064- MARIJUANA LEGALIZATION. INITI...</td>\n",
              "      <td>459</td>\n",
              "      <td>1382568</td>\n",
              "      <td>PUBLIC AND MENTAL HEALTH ADVOCATES AGAINST 64,...</td>\n",
              "      <td>OPPOSE</td>\n",
              "      <td>PUBLIC AND MENTAL HEALTH ADVOCATES AGAINST 64,...</td>\n",
              "      <td>2040789</td>\n",
              "      <td>2016-03-03</td>\n",
              "      <td>CALIF. HOSPITALS COMMITTEE ON ISSUES</td>\n",
              "      <td>NaN</td>\n",
              "      <td>SACRAMENTO</td>\n",
              "      <td>CA</td>\n",
              "      <td>95814</td>\n",
              "      <td>NaN</td>\n",
              "      <td>NaN</td>\n",
              "      <td>False</td>\n",
              "      <td>5000.00</td>\n",
              "    </tr>\n",
              "    <tr>\n",
              "      <th>...</th>\n",
              "      <td>...</td>\n",
              "      <td>...</td>\n",
              "      <td>...</td>\n",
              "      <td>...</td>\n",
              "      <td>...</td>\n",
              "      <td>...</td>\n",
              "      <td>...</td>\n",
              "      <td>...</td>\n",
              "      <td>...</td>\n",
              "      <td>...</td>\n",
              "      <td>...</td>\n",
              "      <td>...</td>\n",
              "      <td>...</td>\n",
              "      <td>...</td>\n",
              "      <td>...</td>\n",
              "      <td>...</td>\n",
              "      <td>...</td>\n",
              "      <td>...</td>\n",
              "      <td>...</td>\n",
              "      <td>...</td>\n",
              "    </tr>\n",
              "    <tr>\n",
              "      <th>840</th>\n",
              "      <td>ocd-contest/232cb72c-1b11-4293-b4e2-a181e80d172e</td>\n",
              "      <td>1381868</td>\n",
              "      <td>83</td>\n",
              "      <td>PROPOSITION 064- MARIJUANA LEGALIZATION. INITI...</td>\n",
              "      <td>463</td>\n",
              "      <td>1387789</td>\n",
              "      <td>SAM ACTION, INC., A COMMITTEE AGAINST PROPOSIT...</td>\n",
              "      <td>OPPOSE</td>\n",
              "      <td>SAM ACTION, INC., A COMMITTEE AGAINST PROPOSIT...</td>\n",
              "      <td>2083142</td>\n",
              "      <td>2016-07-25</td>\n",
              "      <td>SCHAUER</td>\n",
              "      <td>JULIE</td>\n",
              "      <td>OAKS</td>\n",
              "      <td>CA</td>\n",
              "      <td>19456</td>\n",
              "      <td>NaN</td>\n",
              "      <td>RETIRED</td>\n",
              "      <td>False</td>\n",
              "      <td>150000.00</td>\n",
              "    </tr>\n",
              "    <tr>\n",
              "      <th>856</th>\n",
              "      <td>ocd-contest/232cb72c-1b11-4293-b4e2-a181e80d172e</td>\n",
              "      <td>1381868</td>\n",
              "      <td>83</td>\n",
              "      <td>PROPOSITION 064- MARIJUANA LEGALIZATION. INITI...</td>\n",
              "      <td>466</td>\n",
              "      <td>1390962</td>\n",
              "      <td>MOMS STRONG AGAINST PROP 64</td>\n",
              "      <td>OPPOSE</td>\n",
              "      <td>MOMS STRONG AGAINST PROP 64</td>\n",
              "      <td>2095848</td>\n",
              "      <td>2016-09-27</td>\n",
              "      <td>SAM ACTION INC A COMMITTEE AGAINST PROPOSITION 64</td>\n",
              "      <td>NaN</td>\n",
              "      <td>ALEXANDRIA</td>\n",
              "      <td>VA</td>\n",
              "      <td>22314</td>\n",
              "      <td>NaN</td>\n",
              "      <td>NaN</td>\n",
              "      <td>False</td>\n",
              "      <td>4185.00</td>\n",
              "    </tr>\n",
              "    <tr>\n",
              "      <th>857</th>\n",
              "      <td>ocd-contest/232cb72c-1b11-4293-b4e2-a181e80d172e</td>\n",
              "      <td>1381868</td>\n",
              "      <td>83</td>\n",
              "      <td>PROPOSITION 064- MARIJUANA LEGALIZATION. INITI...</td>\n",
              "      <td>466</td>\n",
              "      <td>1390962</td>\n",
              "      <td>MOMS STRONG AGAINST PROP 64</td>\n",
              "      <td>OPPOSE</td>\n",
              "      <td>MOMS STRONG AGAINST PROP 64</td>\n",
              "      <td>2095848</td>\n",
              "      <td>2016-10-04</td>\n",
              "      <td>ROBINSON</td>\n",
              "      <td>LORI</td>\n",
              "      <td>THOUSAND OAKS</td>\n",
              "      <td>CA</td>\n",
              "      <td>91360</td>\n",
              "      <td>SFWKC</td>\n",
              "      <td>DIETITIAN</td>\n",
              "      <td>False</td>\n",
              "      <td>817.00</td>\n",
              "    </tr>\n",
              "    <tr>\n",
              "      <th>858</th>\n",
              "      <td>ocd-contest/232cb72c-1b11-4293-b4e2-a181e80d172e</td>\n",
              "      <td>1381868</td>\n",
              "      <td>83</td>\n",
              "      <td>PROPOSITION 064- MARIJUANA LEGALIZATION. INITI...</td>\n",
              "      <td>466</td>\n",
              "      <td>1390962</td>\n",
              "      <td>MOMS STRONG AGAINST PROP 64</td>\n",
              "      <td>OPPOSE</td>\n",
              "      <td>MOMS STRONG AGAINST PROP 64</td>\n",
              "      <td>2095848</td>\n",
              "      <td>2016-10-11</td>\n",
              "      <td>SAM ACTION INC A COMMITTEE AGAINST PROPOSITION 64</td>\n",
              "      <td>NaN</td>\n",
              "      <td>ALEXANDRIA</td>\n",
              "      <td>VA</td>\n",
              "      <td>22314</td>\n",
              "      <td>NaN</td>\n",
              "      <td>NaN</td>\n",
              "      <td>False</td>\n",
              "      <td>408.64</td>\n",
              "    </tr>\n",
              "    <tr>\n",
              "      <th>859</th>\n",
              "      <td>ocd-contest/232cb72c-1b11-4293-b4e2-a181e80d172e</td>\n",
              "      <td>1381868</td>\n",
              "      <td>83</td>\n",
              "      <td>PROPOSITION 064- MARIJUANA LEGALIZATION. INITI...</td>\n",
              "      <td>466</td>\n",
              "      <td>1390962</td>\n",
              "      <td>MOMS STRONG AGAINST PROP 64</td>\n",
              "      <td>OPPOSE</td>\n",
              "      <td>MOMS STRONG AGAINST PROP 64</td>\n",
              "      <td>2095848</td>\n",
              "      <td>2016-10-04</td>\n",
              "      <td>MILLER</td>\n",
              "      <td>CHRISTINE</td>\n",
              "      <td>BALTIMORE</td>\n",
              "      <td>MD</td>\n",
              "      <td>21239</td>\n",
              "      <td>RETIRED</td>\n",
              "      <td>PHD</td>\n",
              "      <td>False</td>\n",
              "      <td>871.00</td>\n",
              "    </tr>\n",
              "  </tbody>\n",
              "</table>\n",
              "<p>98 rows × 20 columns</p>\n",
              "</div>"
            ],
            "text/plain": [
              "                                          ocd_prop_id  ...     amount\n",
              "261  ocd-contest/232cb72c-1b11-4293-b4e2-a181e80d172e  ...   10000.00\n",
              "262  ocd-contest/232cb72c-1b11-4293-b4e2-a181e80d172e  ...    5000.00\n",
              "263  ocd-contest/232cb72c-1b11-4293-b4e2-a181e80d172e  ...    5000.00\n",
              "264  ocd-contest/232cb72c-1b11-4293-b4e2-a181e80d172e  ...    5000.00\n",
              "265  ocd-contest/232cb72c-1b11-4293-b4e2-a181e80d172e  ...    5000.00\n",
              "..                                                ...  ...        ...\n",
              "840  ocd-contest/232cb72c-1b11-4293-b4e2-a181e80d172e  ...  150000.00\n",
              "856  ocd-contest/232cb72c-1b11-4293-b4e2-a181e80d172e  ...    4185.00\n",
              "857  ocd-contest/232cb72c-1b11-4293-b4e2-a181e80d172e  ...     817.00\n",
              "858  ocd-contest/232cb72c-1b11-4293-b4e2-a181e80d172e  ...     408.64\n",
              "859  ocd-contest/232cb72c-1b11-4293-b4e2-a181e80d172e  ...     871.00\n",
              "\n",
              "[98 rows x 20 columns]"
            ]
          },
          "metadata": {
            "tags": []
          },
          "execution_count": 41
        }
      ]
    },
    {
      "cell_type": "code",
      "metadata": {
        "id": "g6aKp3Nex7TN"
      },
      "source": [
        "oppose = merged[merged.committee_position == 'OPPOSE']"
      ],
      "execution_count": 42,
      "outputs": []
    },
    {
      "cell_type": "markdown",
      "metadata": {
        "id": "8BLJ9SuDyEy7"
      },
      "source": [
        "こうしてから、それぞれの献金額小計を出す。"
      ]
    },
    {
      "cell_type": "code",
      "metadata": {
        "colab": {
          "base_uri": "https://localhost:8080/"
        },
        "id": "2njJGED_yJ59",
        "outputId": "8cf0390e-f55f-4955-f5ed-8100f733a2f4"
      },
      "source": [
        "support.amount.sum()"
      ],
      "execution_count": 43,
      "outputs": [
        {
          "output_type": "execute_result",
          "data": {
            "text/plain": [
              "32675806.0"
            ]
          },
          "metadata": {
            "tags": []
          },
          "execution_count": 43
        }
      ]
    },
    {
      "cell_type": "code",
      "metadata": {
        "colab": {
          "base_uri": "https://localhost:8080/",
          "height": 35
        },
        "id": "EwXIelPu0Vtb",
        "outputId": "acc7c821-6d5c-49cc-81b1-902ec4e9d6b5"
      },
      "source": [
        "# カンマで位取りしないと見にくいので、少し手直ししてみた\n",
        "\"{:,}\".format(support.amount.sum()) "
      ],
      "execution_count": 44,
      "outputs": [
        {
          "output_type": "execute_result",
          "data": {
            "application/vnd.google.colaboratory.intrinsic+json": {
              "type": "string"
            },
            "text/plain": [
              "'32,675,806.0'"
            ]
          },
          "metadata": {
            "tags": []
          },
          "execution_count": 44
        }
      ]
    },
    {
      "cell_type": "code",
      "metadata": {
        "colab": {
          "base_uri": "https://localhost:8080/"
        },
        "id": "fA2azYbZyaa4",
        "outputId": "57e934e1-f1cd-4cac-d8fa-8b040f3e1e8c"
      },
      "source": [
        "oppose.amount.sum()"
      ],
      "execution_count": 45,
      "outputs": [
        {
          "output_type": "execute_result",
          "data": {
            "text/plain": [
              "2501211.64"
            ]
          },
          "metadata": {
            "tags": []
          },
          "execution_count": 45
        }
      ]
    },
    {
      "cell_type": "code",
      "metadata": {
        "colab": {
          "base_uri": "https://localhost:8080/",
          "height": 35
        },
        "id": "q7-4gQae0cS3",
        "outputId": "06e37869-1010-4acd-8bbe-660439829b8f"
      },
      "source": [
        "# こちらも同様に\n",
        "\"{:,}\".format(oppose.amount.sum())"
      ],
      "execution_count": 46,
      "outputs": [
        {
          "output_type": "execute_result",
          "data": {
            "application/vnd.google.colaboratory.intrinsic+json": {
              "type": "string"
            },
            "text/plain": [
              "'2,501,211.64'"
            ]
          },
          "metadata": {
            "tags": []
          },
          "execution_count": 46
        }
      ]
    },
    {
      "cell_type": "markdown",
      "metadata": {
        "id": "b7qtI4HGyc_x"
      },
      "source": [
        "（100ドル超の献金だけを見れば）推進派からの献金のほうが圧倒的に多かったことが分かる。比率が知りたければ、割り算すればよいので、こうなる。"
      ]
    },
    {
      "cell_type": "code",
      "metadata": {
        "colab": {
          "base_uri": "https://localhost:8080/"
        },
        "id": "l7KWTHd-yzPJ",
        "outputId": "98996835-5a6c-4276-8d69-5ca23d532a5c"
      },
      "source": [
        "support.amount.sum() / merged.amount.sum()"
      ],
      "execution_count": 47,
      "outputs": [
        {
          "output_type": "execute_result",
          "data": {
            "text/plain": [
              "0.9288964270479867"
            ]
          },
          "metadata": {
            "tags": []
          },
          "execution_count": 47
        }
      ]
    },
    {
      "cell_type": "markdown",
      "metadata": {
        "id": "6Z79XWYm0xIk"
      },
      "source": [
        "---\n",
        "## 10) ソートする\n",
        "\n",
        "#### [Chpter 10: Hello sorting](https://www.firstpythonnotebook.org/sort_values/index.html)"
      ]
    },
    {
      "cell_type": "markdown",
      "metadata": {
        "id": "oYmVHXkrhG2F"
      },
      "source": [
        "データを分析するときに使い出があるテクニックが、ソートだ。一回あたりの献金額の１０傑を知りたかったら、amount のカラムに基づいてソートすればよい。`sort_values()` を使う。\n",
        "\n",
        "<font color = 'gray'>６章で出てきたカウントは、`values_count()`　だったが、ソートは `sort_values()` で、順番がややこしい。カウントは括弧の中は空っぽで、全カラムについてカウントしてくれた。ソートは括弧の中に基準とするカラム名を入れる。そのカラムに基づいて、全体を並べ替える。</font>"
      ]
    },
    {
      "cell_type": "code",
      "metadata": {
        "colab": {
          "base_uri": "https://localhost:8080/",
          "height": 1000
        },
        "id": "xC9fwmJYh1UA",
        "outputId": "833df227-8059-4740-e8e7-9fb4ecc815a8"
      },
      "source": [
        "merged.sort_values(\"amount\")"
      ],
      "execution_count": 48,
      "outputs": [
        {
          "output_type": "execute_result",
          "data": {
            "text/html": [
              "<div>\n",
              "<style scoped>\n",
              "    .dataframe tbody tr th:only-of-type {\n",
              "        vertical-align: middle;\n",
              "    }\n",
              "\n",
              "    .dataframe tbody tr th {\n",
              "        vertical-align: top;\n",
              "    }\n",
              "\n",
              "    .dataframe thead th {\n",
              "        text-align: right;\n",
              "    }\n",
              "</style>\n",
              "<table border=\"1\" class=\"dataframe\">\n",
              "  <thead>\n",
              "    <tr style=\"text-align: right;\">\n",
              "      <th></th>\n",
              "      <th>ocd_prop_id</th>\n",
              "      <th>calaccess_prop_id</th>\n",
              "      <th>ccdc_prop_id</th>\n",
              "      <th>prop_name</th>\n",
              "      <th>ccdc_committee_id</th>\n",
              "      <th>calaccess_committee_id</th>\n",
              "      <th>committee_name_x</th>\n",
              "      <th>committee_position</th>\n",
              "      <th>committee_name_y</th>\n",
              "      <th>calaccess_filing_id</th>\n",
              "      <th>date_received</th>\n",
              "      <th>contributor_lastname</th>\n",
              "      <th>contributor_firstname</th>\n",
              "      <th>contributor_city</th>\n",
              "      <th>contributor_state</th>\n",
              "      <th>contributor_zip</th>\n",
              "      <th>contributor_employer</th>\n",
              "      <th>contributor_occupation</th>\n",
              "      <th>contributor_is_self_employed</th>\n",
              "      <th>amount</th>\n",
              "    </tr>\n",
              "  </thead>\n",
              "  <tbody>\n",
              "    <tr>\n",
              "      <th>260</th>\n",
              "      <td>ocd-contest/232cb72c-1b11-4293-b4e2-a181e80d172e</td>\n",
              "      <td>1381868</td>\n",
              "      <td>83</td>\n",
              "      <td>PROPOSITION 064- MARIJUANA LEGALIZATION. INITI...</td>\n",
              "      <td>458</td>\n",
              "      <td>1376077</td>\n",
              "      <td>CALIFORNIANS FOR SENSIBLE REFORM, SPONSORED BY...</td>\n",
              "      <td>SUPPORT</td>\n",
              "      <td>CALIFORNIANS FOR SENSIBLE REFORM, SPONSORED BY...</td>\n",
              "      <td>2082735</td>\n",
              "      <td>2016-08-04</td>\n",
              "      <td>GHOST MANAGEMENT GROUP, LLC DBA WEEDMAPS</td>\n",
              "      <td>NaN</td>\n",
              "      <td>IRVINE</td>\n",
              "      <td>CA</td>\n",
              "      <td>92618</td>\n",
              "      <td>NaN</td>\n",
              "      <td>NaN</td>\n",
              "      <td>False</td>\n",
              "      <td>-150000.0</td>\n",
              "    </tr>\n",
              "    <tr>\n",
              "      <th>793</th>\n",
              "      <td>ocd-contest/232cb72c-1b11-4293-b4e2-a181e80d172e</td>\n",
              "      <td>1381868</td>\n",
              "      <td>83</td>\n",
              "      <td>PROPOSITION 064- MARIJUANA LEGALIZATION. INITI...</td>\n",
              "      <td>461</td>\n",
              "      <td>1343793</td>\n",
              "      <td>CALIFORNIANS FOR RESPONSIBLE MARIJUANA REFORM,...</td>\n",
              "      <td>SUPPORT</td>\n",
              "      <td>CALIFORNIANS FOR RESPONSIBLE MARIJUANA REFORM,...</td>\n",
              "      <td>2130986</td>\n",
              "      <td>2016-11-02</td>\n",
              "      <td>ROBINETT</td>\n",
              "      <td>PETER</td>\n",
              "      <td>SAN FRANCISCO</td>\n",
              "      <td>CA</td>\n",
              "      <td>94114</td>\n",
              "      <td>APPLE, INC.</td>\n",
              "      <td>PROGRAMMER</td>\n",
              "      <td>False</td>\n",
              "      <td>-900.0</td>\n",
              "    </tr>\n",
              "    <tr>\n",
              "      <th>806</th>\n",
              "      <td>ocd-contest/232cb72c-1b11-4293-b4e2-a181e80d172e</td>\n",
              "      <td>1381868</td>\n",
              "      <td>83</td>\n",
              "      <td>PROPOSITION 064- MARIJUANA LEGALIZATION. INITI...</td>\n",
              "      <td>461</td>\n",
              "      <td>1343793</td>\n",
              "      <td>CALIFORNIANS FOR RESPONSIBLE MARIJUANA REFORM,...</td>\n",
              "      <td>SUPPORT</td>\n",
              "      <td>CALIFORNIANS FOR RESPONSIBLE MARIJUANA REFORM,...</td>\n",
              "      <td>2130986</td>\n",
              "      <td>2016-10-26</td>\n",
              "      <td>MEDLOCK</td>\n",
              "      <td>MARSTON</td>\n",
              "      <td>ALHAMBRA</td>\n",
              "      <td>CA</td>\n",
              "      <td>91801</td>\n",
              "      <td>NaN</td>\n",
              "      <td>RETIRED</td>\n",
              "      <td>False</td>\n",
              "      <td>-100.0</td>\n",
              "    </tr>\n",
              "    <tr>\n",
              "      <th>727</th>\n",
              "      <td>ocd-contest/232cb72c-1b11-4293-b4e2-a181e80d172e</td>\n",
              "      <td>1381868</td>\n",
              "      <td>83</td>\n",
              "      <td>PROPOSITION 064- MARIJUANA LEGALIZATION. INITI...</td>\n",
              "      <td>461</td>\n",
              "      <td>1343793</td>\n",
              "      <td>CALIFORNIANS FOR RESPONSIBLE MARIJUANA REFORM,...</td>\n",
              "      <td>SUPPORT</td>\n",
              "      <td>CALIFORNIANS FOR RESPONSIBLE MARIJUANA REFORM,...</td>\n",
              "      <td>2083494</td>\n",
              "      <td>2016-07-13</td>\n",
              "      <td>WOOD</td>\n",
              "      <td>DAVID</td>\n",
              "      <td>CALGARY</td>\n",
              "      <td>AB</td>\n",
              "      <td>T2P0R3</td>\n",
              "      <td>BORDEN LADNER GERVAIS</td>\n",
              "      <td>ATTORNEY</td>\n",
              "      <td>False</td>\n",
              "      <td>-100.0</td>\n",
              "    </tr>\n",
              "    <tr>\n",
              "      <th>698</th>\n",
              "      <td>ocd-contest/232cb72c-1b11-4293-b4e2-a181e80d172e</td>\n",
              "      <td>1381868</td>\n",
              "      <td>83</td>\n",
              "      <td>PROPOSITION 064- MARIJUANA LEGALIZATION. INITI...</td>\n",
              "      <td>461</td>\n",
              "      <td>1343793</td>\n",
              "      <td>CALIFORNIANS FOR RESPONSIBLE MARIJUANA REFORM,...</td>\n",
              "      <td>SUPPORT</td>\n",
              "      <td>CALIFORNIANS FOR RESPONSIBLE MARIJUANA REFORM,...</td>\n",
              "      <td>2083494</td>\n",
              "      <td>2016-07-27</td>\n",
              "      <td>SAMIMI-ARDESTAN</td>\n",
              "      <td>AMIRGHASEM</td>\n",
              "      <td>NORTH VANCOUVER</td>\n",
              "      <td>BC</td>\n",
              "      <td>V7J1V2</td>\n",
              "      <td>MEDIGREEN</td>\n",
              "      <td>CHIEF EXECUTIVE OFFICER</td>\n",
              "      <td>False</td>\n",
              "      <td>-100.0</td>\n",
              "    </tr>\n",
              "    <tr>\n",
              "      <th>...</th>\n",
              "      <td>...</td>\n",
              "      <td>...</td>\n",
              "      <td>...</td>\n",
              "      <td>...</td>\n",
              "      <td>...</td>\n",
              "      <td>...</td>\n",
              "      <td>...</td>\n",
              "      <td>...</td>\n",
              "      <td>...</td>\n",
              "      <td>...</td>\n",
              "      <td>...</td>\n",
              "      <td>...</td>\n",
              "      <td>...</td>\n",
              "      <td>...</td>\n",
              "      <td>...</td>\n",
              "      <td>...</td>\n",
              "      <td>...</td>\n",
              "      <td>...</td>\n",
              "      <td>...</td>\n",
              "      <td>...</td>\n",
              "    </tr>\n",
              "    <tr>\n",
              "      <th>852</th>\n",
              "      <td>ocd-contest/232cb72c-1b11-4293-b4e2-a181e80d172e</td>\n",
              "      <td>1381868</td>\n",
              "      <td>83</td>\n",
              "      <td>PROPOSITION 064- MARIJUANA LEGALIZATION. INITI...</td>\n",
              "      <td>465</td>\n",
              "      <td>1385745</td>\n",
              "      <td>FUND FOR POLICY REFORM (NONPROFIT 501(C)(4))</td>\n",
              "      <td>SUPPORT</td>\n",
              "      <td>FUND FOR POLICY REFORM (NONPROFIT 501(C)(4))</td>\n",
              "      <td>2096507</td>\n",
              "      <td>2016-09-27</td>\n",
              "      <td>FUND FOR POLICY REFORM</td>\n",
              "      <td>NaN</td>\n",
              "      <td>WILMINGTON</td>\n",
              "      <td>DE</td>\n",
              "      <td>19809</td>\n",
              "      <td>NaN</td>\n",
              "      <td>NaN</td>\n",
              "      <td>False</td>\n",
              "      <td>1403000.0</td>\n",
              "    </tr>\n",
              "    <tr>\n",
              "      <th>846</th>\n",
              "      <td>ocd-contest/232cb72c-1b11-4293-b4e2-a181e80d172e</td>\n",
              "      <td>1381868</td>\n",
              "      <td>83</td>\n",
              "      <td>PROPOSITION 064- MARIJUANA LEGALIZATION. INITI...</td>\n",
              "      <td>464</td>\n",
              "      <td>1385506</td>\n",
              "      <td>DRUG POLICY ACTION - NON PROFIT 501C4, YES ON ...</td>\n",
              "      <td>SUPPORT</td>\n",
              "      <td>DRUG POLICY ACTION - NON PROFIT 501C4, YES ON ...</td>\n",
              "      <td>2083608</td>\n",
              "      <td>2016-09-15</td>\n",
              "      <td>FUND FOR POLICY REFORM (NONPROFIT 501 (C)(4))</td>\n",
              "      <td>NaN</td>\n",
              "      <td>NEW YORK</td>\n",
              "      <td>NY</td>\n",
              "      <td>10019</td>\n",
              "      <td>NaN</td>\n",
              "      <td>NaN</td>\n",
              "      <td>False</td>\n",
              "      <td>1970000.0</td>\n",
              "    </tr>\n",
              "    <tr>\n",
              "      <th>851</th>\n",
              "      <td>ocd-contest/232cb72c-1b11-4293-b4e2-a181e80d172e</td>\n",
              "      <td>1381868</td>\n",
              "      <td>83</td>\n",
              "      <td>PROPOSITION 064- MARIJUANA LEGALIZATION. INITI...</td>\n",
              "      <td>465</td>\n",
              "      <td>1385745</td>\n",
              "      <td>FUND FOR POLICY REFORM (NONPROFIT 501(C)(4))</td>\n",
              "      <td>SUPPORT</td>\n",
              "      <td>FUND FOR POLICY REFORM (NONPROFIT 501(C)(4))</td>\n",
              "      <td>2082414</td>\n",
              "      <td>2016-09-15</td>\n",
              "      <td>FUND FOR POLICY REFORM</td>\n",
              "      <td>NaN</td>\n",
              "      <td>WILMINGTON</td>\n",
              "      <td>DE</td>\n",
              "      <td>19809</td>\n",
              "      <td>NaN</td>\n",
              "      <td>NaN</td>\n",
              "      <td>False</td>\n",
              "      <td>1970000.0</td>\n",
              "    </tr>\n",
              "    <tr>\n",
              "      <th>79</th>\n",
              "      <td>ocd-contest/232cb72c-1b11-4293-b4e2-a181e80d172e</td>\n",
              "      <td>1381868</td>\n",
              "      <td>83</td>\n",
              "      <td>PROPOSITION 064- MARIJUANA LEGALIZATION. INITI...</td>\n",
              "      <td>456</td>\n",
              "      <td>1381808</td>\n",
              "      <td>YES ON 64, CALIFORNIANS TO CONTROL, REGULATE A...</td>\n",
              "      <td>SUPPORT</td>\n",
              "      <td>YES ON 64, CALIFORNIANS TO CONTROL, REGULATE A...</td>\n",
              "      <td>2083528</td>\n",
              "      <td>2016-09-15</td>\n",
              "      <td>DRUG POLICY ACTION - NON PROFIT 501C4, YES ON ...</td>\n",
              "      <td>NaN</td>\n",
              "      <td>SACRAMENTO</td>\n",
              "      <td>CA</td>\n",
              "      <td>95815</td>\n",
              "      <td>NaN</td>\n",
              "      <td>NaN</td>\n",
              "      <td>False</td>\n",
              "      <td>2000000.0</td>\n",
              "    </tr>\n",
              "    <tr>\n",
              "      <th>142</th>\n",
              "      <td>ocd-contest/232cb72c-1b11-4293-b4e2-a181e80d172e</td>\n",
              "      <td>1381868</td>\n",
              "      <td>83</td>\n",
              "      <td>PROPOSITION 064- MARIJUANA LEGALIZATION. INITI...</td>\n",
              "      <td>456</td>\n",
              "      <td>1381808</td>\n",
              "      <td>YES ON 64, CALIFORNIANS TO CONTROL, REGULATE A...</td>\n",
              "      <td>SUPPORT</td>\n",
              "      <td>YES ON 64, CALIFORNIANS TO CONTROL, REGULATE A...</td>\n",
              "      <td>2083528</td>\n",
              "      <td>2016-09-15</td>\n",
              "      <td>PARKER AND AFFILIATED ENTITIES</td>\n",
              "      <td>SEAN</td>\n",
              "      <td>PALO ALTO</td>\n",
              "      <td>CA</td>\n",
              "      <td>94301</td>\n",
              "      <td>NaN</td>\n",
              "      <td>NaN</td>\n",
              "      <td>False</td>\n",
              "      <td>4000000.0</td>\n",
              "    </tr>\n",
              "  </tbody>\n",
              "</table>\n",
              "<p>860 rows × 20 columns</p>\n",
              "</div>"
            ],
            "text/plain": [
              "                                          ocd_prop_id  ...     amount\n",
              "260  ocd-contest/232cb72c-1b11-4293-b4e2-a181e80d172e  ...  -150000.0\n",
              "793  ocd-contest/232cb72c-1b11-4293-b4e2-a181e80d172e  ...     -900.0\n",
              "806  ocd-contest/232cb72c-1b11-4293-b4e2-a181e80d172e  ...     -100.0\n",
              "727  ocd-contest/232cb72c-1b11-4293-b4e2-a181e80d172e  ...     -100.0\n",
              "698  ocd-contest/232cb72c-1b11-4293-b4e2-a181e80d172e  ...     -100.0\n",
              "..                                                ...  ...        ...\n",
              "852  ocd-contest/232cb72c-1b11-4293-b4e2-a181e80d172e  ...  1403000.0\n",
              "846  ocd-contest/232cb72c-1b11-4293-b4e2-a181e80d172e  ...  1970000.0\n",
              "851  ocd-contest/232cb72c-1b11-4293-b4e2-a181e80d172e  ...  1970000.0\n",
              "79   ocd-contest/232cb72c-1b11-4293-b4e2-a181e80d172e  ...  2000000.0\n",
              "142  ocd-contest/232cb72c-1b11-4293-b4e2-a181e80d172e  ...  4000000.0\n",
              "\n",
              "[860 rows x 20 columns]"
            ]
          },
          "metadata": {
            "tags": []
          },
          "execution_count": 48
        }
      ]
    },
    {
      "cell_type": "markdown",
      "metadata": {
        "id": "dBfNuBhZh90J"
      },
      "source": [
        "\n",
        "<font color = 'gray'>ほら、献金額なのにマイナスになっている。つまり、返金。</font>\n",
        "\n",
        "pandas では、ソートはデフォルトでは昇順、つまり小さいものが先に来るように動作する。私たちが立てた問いの答えを知るには、この動作を降順に変えてやる必要がある。それには、`ascending = False` という指定を足してやる。「降順」と指定するのではなく、「昇順」にしない、というところがトリッキー。"
      ]
    },
    {
      "cell_type": "code",
      "metadata": {
        "colab": {
          "base_uri": "https://localhost:8080/",
          "height": 1000
        },
        "id": "wjaSwDB8ttQ5",
        "outputId": "c46e7882-98ed-4af6-9e1c-c83806bbb3fb"
      },
      "source": [
        "merged.sort_values(\"amount\", ascending = False) "
      ],
      "execution_count": 49,
      "outputs": [
        {
          "output_type": "execute_result",
          "data": {
            "text/html": [
              "<div>\n",
              "<style scoped>\n",
              "    .dataframe tbody tr th:only-of-type {\n",
              "        vertical-align: middle;\n",
              "    }\n",
              "\n",
              "    .dataframe tbody tr th {\n",
              "        vertical-align: top;\n",
              "    }\n",
              "\n",
              "    .dataframe thead th {\n",
              "        text-align: right;\n",
              "    }\n",
              "</style>\n",
              "<table border=\"1\" class=\"dataframe\">\n",
              "  <thead>\n",
              "    <tr style=\"text-align: right;\">\n",
              "      <th></th>\n",
              "      <th>ocd_prop_id</th>\n",
              "      <th>calaccess_prop_id</th>\n",
              "      <th>ccdc_prop_id</th>\n",
              "      <th>prop_name</th>\n",
              "      <th>ccdc_committee_id</th>\n",
              "      <th>calaccess_committee_id</th>\n",
              "      <th>committee_name_x</th>\n",
              "      <th>committee_position</th>\n",
              "      <th>committee_name_y</th>\n",
              "      <th>calaccess_filing_id</th>\n",
              "      <th>date_received</th>\n",
              "      <th>contributor_lastname</th>\n",
              "      <th>contributor_firstname</th>\n",
              "      <th>contributor_city</th>\n",
              "      <th>contributor_state</th>\n",
              "      <th>contributor_zip</th>\n",
              "      <th>contributor_employer</th>\n",
              "      <th>contributor_occupation</th>\n",
              "      <th>contributor_is_self_employed</th>\n",
              "      <th>amount</th>\n",
              "    </tr>\n",
              "  </thead>\n",
              "  <tbody>\n",
              "    <tr>\n",
              "      <th>142</th>\n",
              "      <td>ocd-contest/232cb72c-1b11-4293-b4e2-a181e80d172e</td>\n",
              "      <td>1381868</td>\n",
              "      <td>83</td>\n",
              "      <td>PROPOSITION 064- MARIJUANA LEGALIZATION. INITI...</td>\n",
              "      <td>456</td>\n",
              "      <td>1381808</td>\n",
              "      <td>YES ON 64, CALIFORNIANS TO CONTROL, REGULATE A...</td>\n",
              "      <td>SUPPORT</td>\n",
              "      <td>YES ON 64, CALIFORNIANS TO CONTROL, REGULATE A...</td>\n",
              "      <td>2083528</td>\n",
              "      <td>2016-09-15</td>\n",
              "      <td>PARKER AND AFFILIATED ENTITIES</td>\n",
              "      <td>SEAN</td>\n",
              "      <td>PALO ALTO</td>\n",
              "      <td>CA</td>\n",
              "      <td>94301</td>\n",
              "      <td>NaN</td>\n",
              "      <td>NaN</td>\n",
              "      <td>False</td>\n",
              "      <td>4000000.0</td>\n",
              "    </tr>\n",
              "    <tr>\n",
              "      <th>79</th>\n",
              "      <td>ocd-contest/232cb72c-1b11-4293-b4e2-a181e80d172e</td>\n",
              "      <td>1381868</td>\n",
              "      <td>83</td>\n",
              "      <td>PROPOSITION 064- MARIJUANA LEGALIZATION. INITI...</td>\n",
              "      <td>456</td>\n",
              "      <td>1381808</td>\n",
              "      <td>YES ON 64, CALIFORNIANS TO CONTROL, REGULATE A...</td>\n",
              "      <td>SUPPORT</td>\n",
              "      <td>YES ON 64, CALIFORNIANS TO CONTROL, REGULATE A...</td>\n",
              "      <td>2083528</td>\n",
              "      <td>2016-09-15</td>\n",
              "      <td>DRUG POLICY ACTION - NON PROFIT 501C4, YES ON ...</td>\n",
              "      <td>NaN</td>\n",
              "      <td>SACRAMENTO</td>\n",
              "      <td>CA</td>\n",
              "      <td>95815</td>\n",
              "      <td>NaN</td>\n",
              "      <td>NaN</td>\n",
              "      <td>False</td>\n",
              "      <td>2000000.0</td>\n",
              "    </tr>\n",
              "    <tr>\n",
              "      <th>846</th>\n",
              "      <td>ocd-contest/232cb72c-1b11-4293-b4e2-a181e80d172e</td>\n",
              "      <td>1381868</td>\n",
              "      <td>83</td>\n",
              "      <td>PROPOSITION 064- MARIJUANA LEGALIZATION. INITI...</td>\n",
              "      <td>464</td>\n",
              "      <td>1385506</td>\n",
              "      <td>DRUG POLICY ACTION - NON PROFIT 501C4, YES ON ...</td>\n",
              "      <td>SUPPORT</td>\n",
              "      <td>DRUG POLICY ACTION - NON PROFIT 501C4, YES ON ...</td>\n",
              "      <td>2083608</td>\n",
              "      <td>2016-09-15</td>\n",
              "      <td>FUND FOR POLICY REFORM (NONPROFIT 501 (C)(4))</td>\n",
              "      <td>NaN</td>\n",
              "      <td>NEW YORK</td>\n",
              "      <td>NY</td>\n",
              "      <td>10019</td>\n",
              "      <td>NaN</td>\n",
              "      <td>NaN</td>\n",
              "      <td>False</td>\n",
              "      <td>1970000.0</td>\n",
              "    </tr>\n",
              "    <tr>\n",
              "      <th>851</th>\n",
              "      <td>ocd-contest/232cb72c-1b11-4293-b4e2-a181e80d172e</td>\n",
              "      <td>1381868</td>\n",
              "      <td>83</td>\n",
              "      <td>PROPOSITION 064- MARIJUANA LEGALIZATION. INITI...</td>\n",
              "      <td>465</td>\n",
              "      <td>1385745</td>\n",
              "      <td>FUND FOR POLICY REFORM (NONPROFIT 501(C)(4))</td>\n",
              "      <td>SUPPORT</td>\n",
              "      <td>FUND FOR POLICY REFORM (NONPROFIT 501(C)(4))</td>\n",
              "      <td>2082414</td>\n",
              "      <td>2016-09-15</td>\n",
              "      <td>FUND FOR POLICY REFORM</td>\n",
              "      <td>NaN</td>\n",
              "      <td>WILMINGTON</td>\n",
              "      <td>DE</td>\n",
              "      <td>19809</td>\n",
              "      <td>NaN</td>\n",
              "      <td>NaN</td>\n",
              "      <td>False</td>\n",
              "      <td>1970000.0</td>\n",
              "    </tr>\n",
              "    <tr>\n",
              "      <th>852</th>\n",
              "      <td>ocd-contest/232cb72c-1b11-4293-b4e2-a181e80d172e</td>\n",
              "      <td>1381868</td>\n",
              "      <td>83</td>\n",
              "      <td>PROPOSITION 064- MARIJUANA LEGALIZATION. INITI...</td>\n",
              "      <td>465</td>\n",
              "      <td>1385745</td>\n",
              "      <td>FUND FOR POLICY REFORM (NONPROFIT 501(C)(4))</td>\n",
              "      <td>SUPPORT</td>\n",
              "      <td>FUND FOR POLICY REFORM (NONPROFIT 501(C)(4))</td>\n",
              "      <td>2096507</td>\n",
              "      <td>2016-09-27</td>\n",
              "      <td>FUND FOR POLICY REFORM</td>\n",
              "      <td>NaN</td>\n",
              "      <td>WILMINGTON</td>\n",
              "      <td>DE</td>\n",
              "      <td>19809</td>\n",
              "      <td>NaN</td>\n",
              "      <td>NaN</td>\n",
              "      <td>False</td>\n",
              "      <td>1403000.0</td>\n",
              "    </tr>\n",
              "    <tr>\n",
              "      <th>...</th>\n",
              "      <td>...</td>\n",
              "      <td>...</td>\n",
              "      <td>...</td>\n",
              "      <td>...</td>\n",
              "      <td>...</td>\n",
              "      <td>...</td>\n",
              "      <td>...</td>\n",
              "      <td>...</td>\n",
              "      <td>...</td>\n",
              "      <td>...</td>\n",
              "      <td>...</td>\n",
              "      <td>...</td>\n",
              "      <td>...</td>\n",
              "      <td>...</td>\n",
              "      <td>...</td>\n",
              "      <td>...</td>\n",
              "      <td>...</td>\n",
              "      <td>...</td>\n",
              "      <td>...</td>\n",
              "      <td>...</td>\n",
              "    </tr>\n",
              "    <tr>\n",
              "      <th>806</th>\n",
              "      <td>ocd-contest/232cb72c-1b11-4293-b4e2-a181e80d172e</td>\n",
              "      <td>1381868</td>\n",
              "      <td>83</td>\n",
              "      <td>PROPOSITION 064- MARIJUANA LEGALIZATION. INITI...</td>\n",
              "      <td>461</td>\n",
              "      <td>1343793</td>\n",
              "      <td>CALIFORNIANS FOR RESPONSIBLE MARIJUANA REFORM,...</td>\n",
              "      <td>SUPPORT</td>\n",
              "      <td>CALIFORNIANS FOR RESPONSIBLE MARIJUANA REFORM,...</td>\n",
              "      <td>2130986</td>\n",
              "      <td>2016-10-26</td>\n",
              "      <td>MEDLOCK</td>\n",
              "      <td>MARSTON</td>\n",
              "      <td>ALHAMBRA</td>\n",
              "      <td>CA</td>\n",
              "      <td>91801</td>\n",
              "      <td>NaN</td>\n",
              "      <td>RETIRED</td>\n",
              "      <td>False</td>\n",
              "      <td>-100.0</td>\n",
              "    </tr>\n",
              "    <tr>\n",
              "      <th>727</th>\n",
              "      <td>ocd-contest/232cb72c-1b11-4293-b4e2-a181e80d172e</td>\n",
              "      <td>1381868</td>\n",
              "      <td>83</td>\n",
              "      <td>PROPOSITION 064- MARIJUANA LEGALIZATION. INITI...</td>\n",
              "      <td>461</td>\n",
              "      <td>1343793</td>\n",
              "      <td>CALIFORNIANS FOR RESPONSIBLE MARIJUANA REFORM,...</td>\n",
              "      <td>SUPPORT</td>\n",
              "      <td>CALIFORNIANS FOR RESPONSIBLE MARIJUANA REFORM,...</td>\n",
              "      <td>2083494</td>\n",
              "      <td>2016-07-13</td>\n",
              "      <td>WOOD</td>\n",
              "      <td>DAVID</td>\n",
              "      <td>CALGARY</td>\n",
              "      <td>AB</td>\n",
              "      <td>T2P0R3</td>\n",
              "      <td>BORDEN LADNER GERVAIS</td>\n",
              "      <td>ATTORNEY</td>\n",
              "      <td>False</td>\n",
              "      <td>-100.0</td>\n",
              "    </tr>\n",
              "    <tr>\n",
              "      <th>698</th>\n",
              "      <td>ocd-contest/232cb72c-1b11-4293-b4e2-a181e80d172e</td>\n",
              "      <td>1381868</td>\n",
              "      <td>83</td>\n",
              "      <td>PROPOSITION 064- MARIJUANA LEGALIZATION. INITI...</td>\n",
              "      <td>461</td>\n",
              "      <td>1343793</td>\n",
              "      <td>CALIFORNIANS FOR RESPONSIBLE MARIJUANA REFORM,...</td>\n",
              "      <td>SUPPORT</td>\n",
              "      <td>CALIFORNIANS FOR RESPONSIBLE MARIJUANA REFORM,...</td>\n",
              "      <td>2083494</td>\n",
              "      <td>2016-07-27</td>\n",
              "      <td>SAMIMI-ARDESTAN</td>\n",
              "      <td>AMIRGHASEM</td>\n",
              "      <td>NORTH VANCOUVER</td>\n",
              "      <td>BC</td>\n",
              "      <td>V7J1V2</td>\n",
              "      <td>MEDIGREEN</td>\n",
              "      <td>CHIEF EXECUTIVE OFFICER</td>\n",
              "      <td>False</td>\n",
              "      <td>-100.0</td>\n",
              "    </tr>\n",
              "    <tr>\n",
              "      <th>793</th>\n",
              "      <td>ocd-contest/232cb72c-1b11-4293-b4e2-a181e80d172e</td>\n",
              "      <td>1381868</td>\n",
              "      <td>83</td>\n",
              "      <td>PROPOSITION 064- MARIJUANA LEGALIZATION. INITI...</td>\n",
              "      <td>461</td>\n",
              "      <td>1343793</td>\n",
              "      <td>CALIFORNIANS FOR RESPONSIBLE MARIJUANA REFORM,...</td>\n",
              "      <td>SUPPORT</td>\n",
              "      <td>CALIFORNIANS FOR RESPONSIBLE MARIJUANA REFORM,...</td>\n",
              "      <td>2130986</td>\n",
              "      <td>2016-11-02</td>\n",
              "      <td>ROBINETT</td>\n",
              "      <td>PETER</td>\n",
              "      <td>SAN FRANCISCO</td>\n",
              "      <td>CA</td>\n",
              "      <td>94114</td>\n",
              "      <td>APPLE, INC.</td>\n",
              "      <td>PROGRAMMER</td>\n",
              "      <td>False</td>\n",
              "      <td>-900.0</td>\n",
              "    </tr>\n",
              "    <tr>\n",
              "      <th>260</th>\n",
              "      <td>ocd-contest/232cb72c-1b11-4293-b4e2-a181e80d172e</td>\n",
              "      <td>1381868</td>\n",
              "      <td>83</td>\n",
              "      <td>PROPOSITION 064- MARIJUANA LEGALIZATION. INITI...</td>\n",
              "      <td>458</td>\n",
              "      <td>1376077</td>\n",
              "      <td>CALIFORNIANS FOR SENSIBLE REFORM, SPONSORED BY...</td>\n",
              "      <td>SUPPORT</td>\n",
              "      <td>CALIFORNIANS FOR SENSIBLE REFORM, SPONSORED BY...</td>\n",
              "      <td>2082735</td>\n",
              "      <td>2016-08-04</td>\n",
              "      <td>GHOST MANAGEMENT GROUP, LLC DBA WEEDMAPS</td>\n",
              "      <td>NaN</td>\n",
              "      <td>IRVINE</td>\n",
              "      <td>CA</td>\n",
              "      <td>92618</td>\n",
              "      <td>NaN</td>\n",
              "      <td>NaN</td>\n",
              "      <td>False</td>\n",
              "      <td>-150000.0</td>\n",
              "    </tr>\n",
              "  </tbody>\n",
              "</table>\n",
              "<p>860 rows × 20 columns</p>\n",
              "</div>"
            ],
            "text/plain": [
              "                                          ocd_prop_id  ...     amount\n",
              "142  ocd-contest/232cb72c-1b11-4293-b4e2-a181e80d172e  ...  4000000.0\n",
              "79   ocd-contest/232cb72c-1b11-4293-b4e2-a181e80d172e  ...  2000000.0\n",
              "846  ocd-contest/232cb72c-1b11-4293-b4e2-a181e80d172e  ...  1970000.0\n",
              "851  ocd-contest/232cb72c-1b11-4293-b4e2-a181e80d172e  ...  1970000.0\n",
              "852  ocd-contest/232cb72c-1b11-4293-b4e2-a181e80d172e  ...  1403000.0\n",
              "..                                                ...  ...        ...\n",
              "806  ocd-contest/232cb72c-1b11-4293-b4e2-a181e80d172e  ...     -100.0\n",
              "727  ocd-contest/232cb72c-1b11-4293-b4e2-a181e80d172e  ...     -100.0\n",
              "698  ocd-contest/232cb72c-1b11-4293-b4e2-a181e80d172e  ...     -100.0\n",
              "793  ocd-contest/232cb72c-1b11-4293-b4e2-a181e80d172e  ...     -900.0\n",
              "260  ocd-contest/232cb72c-1b11-4293-b4e2-a181e80d172e  ...  -150000.0\n",
              "\n",
              "[860 rows x 20 columns]"
            ]
          },
          "metadata": {
            "tags": []
          },
          "execution_count": 49
        }
      ]
    },
    {
      "cell_type": "markdown",
      "metadata": {
        "id": "p_lb112QuEid"
      },
      "source": [
        "上位５傑に絞りたければ、`head()` をつないでやる。\n",
        "\n",
        "<font color = 'gray'>デフォルト値は５だが、括弧に数字を入れて指定すれば、変更できる。</font>"
      ]
    },
    {
      "cell_type": "code",
      "metadata": {
        "colab": {
          "base_uri": "https://localhost:8080/",
          "height": 564
        },
        "id": "HKFm-SKLujEI",
        "outputId": "59986f2f-1374-480e-fa3f-8d6605437e3e"
      },
      "source": [
        "merged.sort_values(\"amount\", ascending = False).head()"
      ],
      "execution_count": 50,
      "outputs": [
        {
          "output_type": "execute_result",
          "data": {
            "text/html": [
              "<div>\n",
              "<style scoped>\n",
              "    .dataframe tbody tr th:only-of-type {\n",
              "        vertical-align: middle;\n",
              "    }\n",
              "\n",
              "    .dataframe tbody tr th {\n",
              "        vertical-align: top;\n",
              "    }\n",
              "\n",
              "    .dataframe thead th {\n",
              "        text-align: right;\n",
              "    }\n",
              "</style>\n",
              "<table border=\"1\" class=\"dataframe\">\n",
              "  <thead>\n",
              "    <tr style=\"text-align: right;\">\n",
              "      <th></th>\n",
              "      <th>ocd_prop_id</th>\n",
              "      <th>calaccess_prop_id</th>\n",
              "      <th>ccdc_prop_id</th>\n",
              "      <th>prop_name</th>\n",
              "      <th>ccdc_committee_id</th>\n",
              "      <th>calaccess_committee_id</th>\n",
              "      <th>committee_name_x</th>\n",
              "      <th>committee_position</th>\n",
              "      <th>committee_name_y</th>\n",
              "      <th>calaccess_filing_id</th>\n",
              "      <th>date_received</th>\n",
              "      <th>contributor_lastname</th>\n",
              "      <th>contributor_firstname</th>\n",
              "      <th>contributor_city</th>\n",
              "      <th>contributor_state</th>\n",
              "      <th>contributor_zip</th>\n",
              "      <th>contributor_employer</th>\n",
              "      <th>contributor_occupation</th>\n",
              "      <th>contributor_is_self_employed</th>\n",
              "      <th>amount</th>\n",
              "    </tr>\n",
              "  </thead>\n",
              "  <tbody>\n",
              "    <tr>\n",
              "      <th>142</th>\n",
              "      <td>ocd-contest/232cb72c-1b11-4293-b4e2-a181e80d172e</td>\n",
              "      <td>1381868</td>\n",
              "      <td>83</td>\n",
              "      <td>PROPOSITION 064- MARIJUANA LEGALIZATION. INITI...</td>\n",
              "      <td>456</td>\n",
              "      <td>1381808</td>\n",
              "      <td>YES ON 64, CALIFORNIANS TO CONTROL, REGULATE A...</td>\n",
              "      <td>SUPPORT</td>\n",
              "      <td>YES ON 64, CALIFORNIANS TO CONTROL, REGULATE A...</td>\n",
              "      <td>2083528</td>\n",
              "      <td>2016-09-15</td>\n",
              "      <td>PARKER AND AFFILIATED ENTITIES</td>\n",
              "      <td>SEAN</td>\n",
              "      <td>PALO ALTO</td>\n",
              "      <td>CA</td>\n",
              "      <td>94301</td>\n",
              "      <td>NaN</td>\n",
              "      <td>NaN</td>\n",
              "      <td>False</td>\n",
              "      <td>4000000.0</td>\n",
              "    </tr>\n",
              "    <tr>\n",
              "      <th>79</th>\n",
              "      <td>ocd-contest/232cb72c-1b11-4293-b4e2-a181e80d172e</td>\n",
              "      <td>1381868</td>\n",
              "      <td>83</td>\n",
              "      <td>PROPOSITION 064- MARIJUANA LEGALIZATION. INITI...</td>\n",
              "      <td>456</td>\n",
              "      <td>1381808</td>\n",
              "      <td>YES ON 64, CALIFORNIANS TO CONTROL, REGULATE A...</td>\n",
              "      <td>SUPPORT</td>\n",
              "      <td>YES ON 64, CALIFORNIANS TO CONTROL, REGULATE A...</td>\n",
              "      <td>2083528</td>\n",
              "      <td>2016-09-15</td>\n",
              "      <td>DRUG POLICY ACTION - NON PROFIT 501C4, YES ON ...</td>\n",
              "      <td>NaN</td>\n",
              "      <td>SACRAMENTO</td>\n",
              "      <td>CA</td>\n",
              "      <td>95815</td>\n",
              "      <td>NaN</td>\n",
              "      <td>NaN</td>\n",
              "      <td>False</td>\n",
              "      <td>2000000.0</td>\n",
              "    </tr>\n",
              "    <tr>\n",
              "      <th>846</th>\n",
              "      <td>ocd-contest/232cb72c-1b11-4293-b4e2-a181e80d172e</td>\n",
              "      <td>1381868</td>\n",
              "      <td>83</td>\n",
              "      <td>PROPOSITION 064- MARIJUANA LEGALIZATION. INITI...</td>\n",
              "      <td>464</td>\n",
              "      <td>1385506</td>\n",
              "      <td>DRUG POLICY ACTION - NON PROFIT 501C4, YES ON ...</td>\n",
              "      <td>SUPPORT</td>\n",
              "      <td>DRUG POLICY ACTION - NON PROFIT 501C4, YES ON ...</td>\n",
              "      <td>2083608</td>\n",
              "      <td>2016-09-15</td>\n",
              "      <td>FUND FOR POLICY REFORM (NONPROFIT 501 (C)(4))</td>\n",
              "      <td>NaN</td>\n",
              "      <td>NEW YORK</td>\n",
              "      <td>NY</td>\n",
              "      <td>10019</td>\n",
              "      <td>NaN</td>\n",
              "      <td>NaN</td>\n",
              "      <td>False</td>\n",
              "      <td>1970000.0</td>\n",
              "    </tr>\n",
              "    <tr>\n",
              "      <th>851</th>\n",
              "      <td>ocd-contest/232cb72c-1b11-4293-b4e2-a181e80d172e</td>\n",
              "      <td>1381868</td>\n",
              "      <td>83</td>\n",
              "      <td>PROPOSITION 064- MARIJUANA LEGALIZATION. INITI...</td>\n",
              "      <td>465</td>\n",
              "      <td>1385745</td>\n",
              "      <td>FUND FOR POLICY REFORM (NONPROFIT 501(C)(4))</td>\n",
              "      <td>SUPPORT</td>\n",
              "      <td>FUND FOR POLICY REFORM (NONPROFIT 501(C)(4))</td>\n",
              "      <td>2082414</td>\n",
              "      <td>2016-09-15</td>\n",
              "      <td>FUND FOR POLICY REFORM</td>\n",
              "      <td>NaN</td>\n",
              "      <td>WILMINGTON</td>\n",
              "      <td>DE</td>\n",
              "      <td>19809</td>\n",
              "      <td>NaN</td>\n",
              "      <td>NaN</td>\n",
              "      <td>False</td>\n",
              "      <td>1970000.0</td>\n",
              "    </tr>\n",
              "    <tr>\n",
              "      <th>852</th>\n",
              "      <td>ocd-contest/232cb72c-1b11-4293-b4e2-a181e80d172e</td>\n",
              "      <td>1381868</td>\n",
              "      <td>83</td>\n",
              "      <td>PROPOSITION 064- MARIJUANA LEGALIZATION. INITI...</td>\n",
              "      <td>465</td>\n",
              "      <td>1385745</td>\n",
              "      <td>FUND FOR POLICY REFORM (NONPROFIT 501(C)(4))</td>\n",
              "      <td>SUPPORT</td>\n",
              "      <td>FUND FOR POLICY REFORM (NONPROFIT 501(C)(4))</td>\n",
              "      <td>2096507</td>\n",
              "      <td>2016-09-27</td>\n",
              "      <td>FUND FOR POLICY REFORM</td>\n",
              "      <td>NaN</td>\n",
              "      <td>WILMINGTON</td>\n",
              "      <td>DE</td>\n",
              "      <td>19809</td>\n",
              "      <td>NaN</td>\n",
              "      <td>NaN</td>\n",
              "      <td>False</td>\n",
              "      <td>1403000.0</td>\n",
              "    </tr>\n",
              "  </tbody>\n",
              "</table>\n",
              "</div>"
            ],
            "text/plain": [
              "                                          ocd_prop_id  ...     amount\n",
              "142  ocd-contest/232cb72c-1b11-4293-b4e2-a181e80d172e  ...  4000000.0\n",
              "79   ocd-contest/232cb72c-1b11-4293-b4e2-a181e80d172e  ...  2000000.0\n",
              "846  ocd-contest/232cb72c-1b11-4293-b4e2-a181e80d172e  ...  1970000.0\n",
              "851  ocd-contest/232cb72c-1b11-4293-b4e2-a181e80d172e  ...  1970000.0\n",
              "852  ocd-contest/232cb72c-1b11-4293-b4e2-a181e80d172e  ...  1403000.0\n",
              "\n",
              "[5 rows x 20 columns]"
            ]
          },
          "metadata": {
            "tags": []
          },
          "execution_count": 50
        }
      ]
    },
    {
      "cell_type": "markdown",
      "metadata": {
        "id": "tKewqForvO9o"
      },
      "source": [
        "支持する立場だけで、上位５傑を知りたければ、"
      ]
    },
    {
      "cell_type": "code",
      "metadata": {
        "colab": {
          "base_uri": "https://localhost:8080/",
          "height": 564
        },
        "id": "LXOdbLmrvaCc",
        "outputId": "6a23b38f-9ae8-40ed-b148-d1df2f5eca05"
      },
      "source": [
        "support.sort_values(\"amount\", ascending = False).head()"
      ],
      "execution_count": 51,
      "outputs": [
        {
          "output_type": "execute_result",
          "data": {
            "text/html": [
              "<div>\n",
              "<style scoped>\n",
              "    .dataframe tbody tr th:only-of-type {\n",
              "        vertical-align: middle;\n",
              "    }\n",
              "\n",
              "    .dataframe tbody tr th {\n",
              "        vertical-align: top;\n",
              "    }\n",
              "\n",
              "    .dataframe thead th {\n",
              "        text-align: right;\n",
              "    }\n",
              "</style>\n",
              "<table border=\"1\" class=\"dataframe\">\n",
              "  <thead>\n",
              "    <tr style=\"text-align: right;\">\n",
              "      <th></th>\n",
              "      <th>ocd_prop_id</th>\n",
              "      <th>calaccess_prop_id</th>\n",
              "      <th>ccdc_prop_id</th>\n",
              "      <th>prop_name</th>\n",
              "      <th>ccdc_committee_id</th>\n",
              "      <th>calaccess_committee_id</th>\n",
              "      <th>committee_name_x</th>\n",
              "      <th>committee_position</th>\n",
              "      <th>committee_name_y</th>\n",
              "      <th>calaccess_filing_id</th>\n",
              "      <th>date_received</th>\n",
              "      <th>contributor_lastname</th>\n",
              "      <th>contributor_firstname</th>\n",
              "      <th>contributor_city</th>\n",
              "      <th>contributor_state</th>\n",
              "      <th>contributor_zip</th>\n",
              "      <th>contributor_employer</th>\n",
              "      <th>contributor_occupation</th>\n",
              "      <th>contributor_is_self_employed</th>\n",
              "      <th>amount</th>\n",
              "    </tr>\n",
              "  </thead>\n",
              "  <tbody>\n",
              "    <tr>\n",
              "      <th>142</th>\n",
              "      <td>ocd-contest/232cb72c-1b11-4293-b4e2-a181e80d172e</td>\n",
              "      <td>1381868</td>\n",
              "      <td>83</td>\n",
              "      <td>PROPOSITION 064- MARIJUANA LEGALIZATION. INITI...</td>\n",
              "      <td>456</td>\n",
              "      <td>1381808</td>\n",
              "      <td>YES ON 64, CALIFORNIANS TO CONTROL, REGULATE A...</td>\n",
              "      <td>SUPPORT</td>\n",
              "      <td>YES ON 64, CALIFORNIANS TO CONTROL, REGULATE A...</td>\n",
              "      <td>2083528</td>\n",
              "      <td>2016-09-15</td>\n",
              "      <td>PARKER AND AFFILIATED ENTITIES</td>\n",
              "      <td>SEAN</td>\n",
              "      <td>PALO ALTO</td>\n",
              "      <td>CA</td>\n",
              "      <td>94301</td>\n",
              "      <td>NaN</td>\n",
              "      <td>NaN</td>\n",
              "      <td>False</td>\n",
              "      <td>4000000.0</td>\n",
              "    </tr>\n",
              "    <tr>\n",
              "      <th>79</th>\n",
              "      <td>ocd-contest/232cb72c-1b11-4293-b4e2-a181e80d172e</td>\n",
              "      <td>1381868</td>\n",
              "      <td>83</td>\n",
              "      <td>PROPOSITION 064- MARIJUANA LEGALIZATION. INITI...</td>\n",
              "      <td>456</td>\n",
              "      <td>1381808</td>\n",
              "      <td>YES ON 64, CALIFORNIANS TO CONTROL, REGULATE A...</td>\n",
              "      <td>SUPPORT</td>\n",
              "      <td>YES ON 64, CALIFORNIANS TO CONTROL, REGULATE A...</td>\n",
              "      <td>2083528</td>\n",
              "      <td>2016-09-15</td>\n",
              "      <td>DRUG POLICY ACTION - NON PROFIT 501C4, YES ON ...</td>\n",
              "      <td>NaN</td>\n",
              "      <td>SACRAMENTO</td>\n",
              "      <td>CA</td>\n",
              "      <td>95815</td>\n",
              "      <td>NaN</td>\n",
              "      <td>NaN</td>\n",
              "      <td>False</td>\n",
              "      <td>2000000.0</td>\n",
              "    </tr>\n",
              "    <tr>\n",
              "      <th>851</th>\n",
              "      <td>ocd-contest/232cb72c-1b11-4293-b4e2-a181e80d172e</td>\n",
              "      <td>1381868</td>\n",
              "      <td>83</td>\n",
              "      <td>PROPOSITION 064- MARIJUANA LEGALIZATION. INITI...</td>\n",
              "      <td>465</td>\n",
              "      <td>1385745</td>\n",
              "      <td>FUND FOR POLICY REFORM (NONPROFIT 501(C)(4))</td>\n",
              "      <td>SUPPORT</td>\n",
              "      <td>FUND FOR POLICY REFORM (NONPROFIT 501(C)(4))</td>\n",
              "      <td>2082414</td>\n",
              "      <td>2016-09-15</td>\n",
              "      <td>FUND FOR POLICY REFORM</td>\n",
              "      <td>NaN</td>\n",
              "      <td>WILMINGTON</td>\n",
              "      <td>DE</td>\n",
              "      <td>19809</td>\n",
              "      <td>NaN</td>\n",
              "      <td>NaN</td>\n",
              "      <td>False</td>\n",
              "      <td>1970000.0</td>\n",
              "    </tr>\n",
              "    <tr>\n",
              "      <th>846</th>\n",
              "      <td>ocd-contest/232cb72c-1b11-4293-b4e2-a181e80d172e</td>\n",
              "      <td>1381868</td>\n",
              "      <td>83</td>\n",
              "      <td>PROPOSITION 064- MARIJUANA LEGALIZATION. INITI...</td>\n",
              "      <td>464</td>\n",
              "      <td>1385506</td>\n",
              "      <td>DRUG POLICY ACTION - NON PROFIT 501C4, YES ON ...</td>\n",
              "      <td>SUPPORT</td>\n",
              "      <td>DRUG POLICY ACTION - NON PROFIT 501C4, YES ON ...</td>\n",
              "      <td>2083608</td>\n",
              "      <td>2016-09-15</td>\n",
              "      <td>FUND FOR POLICY REFORM (NONPROFIT 501 (C)(4))</td>\n",
              "      <td>NaN</td>\n",
              "      <td>NEW YORK</td>\n",
              "      <td>NY</td>\n",
              "      <td>10019</td>\n",
              "      <td>NaN</td>\n",
              "      <td>NaN</td>\n",
              "      <td>False</td>\n",
              "      <td>1970000.0</td>\n",
              "    </tr>\n",
              "    <tr>\n",
              "      <th>852</th>\n",
              "      <td>ocd-contest/232cb72c-1b11-4293-b4e2-a181e80d172e</td>\n",
              "      <td>1381868</td>\n",
              "      <td>83</td>\n",
              "      <td>PROPOSITION 064- MARIJUANA LEGALIZATION. INITI...</td>\n",
              "      <td>465</td>\n",
              "      <td>1385745</td>\n",
              "      <td>FUND FOR POLICY REFORM (NONPROFIT 501(C)(4))</td>\n",
              "      <td>SUPPORT</td>\n",
              "      <td>FUND FOR POLICY REFORM (NONPROFIT 501(C)(4))</td>\n",
              "      <td>2096507</td>\n",
              "      <td>2016-09-27</td>\n",
              "      <td>FUND FOR POLICY REFORM</td>\n",
              "      <td>NaN</td>\n",
              "      <td>WILMINGTON</td>\n",
              "      <td>DE</td>\n",
              "      <td>19809</td>\n",
              "      <td>NaN</td>\n",
              "      <td>NaN</td>\n",
              "      <td>False</td>\n",
              "      <td>1403000.0</td>\n",
              "    </tr>\n",
              "  </tbody>\n",
              "</table>\n",
              "</div>"
            ],
            "text/plain": [
              "                                          ocd_prop_id  ...     amount\n",
              "142  ocd-contest/232cb72c-1b11-4293-b4e2-a181e80d172e  ...  4000000.0\n",
              "79   ocd-contest/232cb72c-1b11-4293-b4e2-a181e80d172e  ...  2000000.0\n",
              "851  ocd-contest/232cb72c-1b11-4293-b4e2-a181e80d172e  ...  1970000.0\n",
              "846  ocd-contest/232cb72c-1b11-4293-b4e2-a181e80d172e  ...  1970000.0\n",
              "852  ocd-contest/232cb72c-1b11-4293-b4e2-a181e80d172e  ...  1403000.0\n",
              "\n",
              "[5 rows x 20 columns]"
            ]
          },
          "metadata": {
            "tags": []
          },
          "execution_count": 51
        }
      ]
    },
    {
      "cell_type": "markdown",
      "metadata": {
        "id": "ILcQRcYEvlhC"
      },
      "source": [
        "反対する立場の５傑なら"
      ]
    },
    {
      "cell_type": "code",
      "metadata": {
        "colab": {
          "base_uri": "https://localhost:8080/",
          "height": 564
        },
        "id": "znx0nY_kvy9P",
        "outputId": "5288e97f-2f00-4e84-e9ee-c92aaab7b8c9"
      },
      "source": [
        "oppose.sort_values(\"amount\", ascending = False).head()"
      ],
      "execution_count": 52,
      "outputs": [
        {
          "output_type": "execute_result",
          "data": {
            "text/html": [
              "<div>\n",
              "<style scoped>\n",
              "    .dataframe tbody tr th:only-of-type {\n",
              "        vertical-align: middle;\n",
              "    }\n",
              "\n",
              "    .dataframe tbody tr th {\n",
              "        vertical-align: top;\n",
              "    }\n",
              "\n",
              "    .dataframe thead th {\n",
              "        text-align: right;\n",
              "    }\n",
              "</style>\n",
              "<table border=\"1\" class=\"dataframe\">\n",
              "  <thead>\n",
              "    <tr style=\"text-align: right;\">\n",
              "      <th></th>\n",
              "      <th>ocd_prop_id</th>\n",
              "      <th>calaccess_prop_id</th>\n",
              "      <th>ccdc_prop_id</th>\n",
              "      <th>prop_name</th>\n",
              "      <th>ccdc_committee_id</th>\n",
              "      <th>calaccess_committee_id</th>\n",
              "      <th>committee_name_x</th>\n",
              "      <th>committee_position</th>\n",
              "      <th>committee_name_y</th>\n",
              "      <th>calaccess_filing_id</th>\n",
              "      <th>date_received</th>\n",
              "      <th>contributor_lastname</th>\n",
              "      <th>contributor_firstname</th>\n",
              "      <th>contributor_city</th>\n",
              "      <th>contributor_state</th>\n",
              "      <th>contributor_zip</th>\n",
              "      <th>contributor_employer</th>\n",
              "      <th>contributor_occupation</th>\n",
              "      <th>contributor_is_self_employed</th>\n",
              "      <th>amount</th>\n",
              "    </tr>\n",
              "  </thead>\n",
              "  <tbody>\n",
              "    <tr>\n",
              "      <th>839</th>\n",
              "      <td>ocd-contest/232cb72c-1b11-4293-b4e2-a181e80d172e</td>\n",
              "      <td>1381868</td>\n",
              "      <td>83</td>\n",
              "      <td>PROPOSITION 064- MARIJUANA LEGALIZATION. INITI...</td>\n",
              "      <td>463</td>\n",
              "      <td>1387789</td>\n",
              "      <td>SAM ACTION, INC., A COMMITTEE AGAINST PROPOSIT...</td>\n",
              "      <td>OPPOSE</td>\n",
              "      <td>SAM ACTION, INC., A COMMITTEE AGAINST PROPOSIT...</td>\n",
              "      <td>2083142</td>\n",
              "      <td>2016-07-20</td>\n",
              "      <td>SCHAUER</td>\n",
              "      <td>JULIE</td>\n",
              "      <td>OAKS</td>\n",
              "      <td>PA</td>\n",
              "      <td>19456</td>\n",
              "      <td>NaN</td>\n",
              "      <td>RETIRED</td>\n",
              "      <td>False</td>\n",
              "      <td>1000000.0</td>\n",
              "    </tr>\n",
              "    <tr>\n",
              "      <th>312</th>\n",
              "      <td>ocd-contest/232cb72c-1b11-4293-b4e2-a181e80d172e</td>\n",
              "      <td>1381868</td>\n",
              "      <td>83</td>\n",
              "      <td>PROPOSITION 064- MARIJUANA LEGALIZATION. INITI...</td>\n",
              "      <td>459</td>\n",
              "      <td>1382568</td>\n",
              "      <td>PUBLIC AND MENTAL HEALTH ADVOCATES AGAINST 64,...</td>\n",
              "      <td>OPPOSE</td>\n",
              "      <td>PUBLIC AND MENTAL HEALTH ADVOCATES AGAINST 64,...</td>\n",
              "      <td>2098048</td>\n",
              "      <td>2016-09-27</td>\n",
              "      <td>SAM ACTION, INC.</td>\n",
              "      <td>NaN</td>\n",
              "      <td>ALEXANDRIA</td>\n",
              "      <td>VA</td>\n",
              "      <td>22314</td>\n",
              "      <td>NaN</td>\n",
              "      <td>NaN</td>\n",
              "      <td>False</td>\n",
              "      <td>400000.0</td>\n",
              "    </tr>\n",
              "    <tr>\n",
              "      <th>310</th>\n",
              "      <td>ocd-contest/232cb72c-1b11-4293-b4e2-a181e80d172e</td>\n",
              "      <td>1381868</td>\n",
              "      <td>83</td>\n",
              "      <td>PROPOSITION 064- MARIJUANA LEGALIZATION. INITI...</td>\n",
              "      <td>459</td>\n",
              "      <td>1382568</td>\n",
              "      <td>PUBLIC AND MENTAL HEALTH ADVOCATES AGAINST 64,...</td>\n",
              "      <td>OPPOSE</td>\n",
              "      <td>PUBLIC AND MENTAL HEALTH ADVOCATES AGAINST 64,...</td>\n",
              "      <td>2083071</td>\n",
              "      <td>2016-09-15</td>\n",
              "      <td>SAM ACTION, INC.</td>\n",
              "      <td>NaN</td>\n",
              "      <td>ALEXANDRIA</td>\n",
              "      <td>VA</td>\n",
              "      <td>22314</td>\n",
              "      <td>NaN</td>\n",
              "      <td>NaN</td>\n",
              "      <td>False</td>\n",
              "      <td>225000.0</td>\n",
              "    </tr>\n",
              "    <tr>\n",
              "      <th>308</th>\n",
              "      <td>ocd-contest/232cb72c-1b11-4293-b4e2-a181e80d172e</td>\n",
              "      <td>1381868</td>\n",
              "      <td>83</td>\n",
              "      <td>PROPOSITION 064- MARIJUANA LEGALIZATION. INITI...</td>\n",
              "      <td>459</td>\n",
              "      <td>1382568</td>\n",
              "      <td>PUBLIC AND MENTAL HEALTH ADVOCATES AGAINST 64,...</td>\n",
              "      <td>OPPOSE</td>\n",
              "      <td>PUBLIC AND MENTAL HEALTH ADVOCATES AGAINST 64,...</td>\n",
              "      <td>2083071</td>\n",
              "      <td>2016-09-12</td>\n",
              "      <td>SAM ACTION, INC.</td>\n",
              "      <td>NaN</td>\n",
              "      <td>ALEXANDRIA</td>\n",
              "      <td>VA</td>\n",
              "      <td>22314</td>\n",
              "      <td>NaN</td>\n",
              "      <td>NaN</td>\n",
              "      <td>False</td>\n",
              "      <td>200000.0</td>\n",
              "    </tr>\n",
              "    <tr>\n",
              "      <th>840</th>\n",
              "      <td>ocd-contest/232cb72c-1b11-4293-b4e2-a181e80d172e</td>\n",
              "      <td>1381868</td>\n",
              "      <td>83</td>\n",
              "      <td>PROPOSITION 064- MARIJUANA LEGALIZATION. INITI...</td>\n",
              "      <td>463</td>\n",
              "      <td>1387789</td>\n",
              "      <td>SAM ACTION, INC., A COMMITTEE AGAINST PROPOSIT...</td>\n",
              "      <td>OPPOSE</td>\n",
              "      <td>SAM ACTION, INC., A COMMITTEE AGAINST PROPOSIT...</td>\n",
              "      <td>2083142</td>\n",
              "      <td>2016-07-25</td>\n",
              "      <td>SCHAUER</td>\n",
              "      <td>JULIE</td>\n",
              "      <td>OAKS</td>\n",
              "      <td>CA</td>\n",
              "      <td>19456</td>\n",
              "      <td>NaN</td>\n",
              "      <td>RETIRED</td>\n",
              "      <td>False</td>\n",
              "      <td>150000.0</td>\n",
              "    </tr>\n",
              "  </tbody>\n",
              "</table>\n",
              "</div>"
            ],
            "text/plain": [
              "                                          ocd_prop_id  ...     amount\n",
              "839  ocd-contest/232cb72c-1b11-4293-b4e2-a181e80d172e  ...  1000000.0\n",
              "312  ocd-contest/232cb72c-1b11-4293-b4e2-a181e80d172e  ...   400000.0\n",
              "310  ocd-contest/232cb72c-1b11-4293-b4e2-a181e80d172e  ...   225000.0\n",
              "308  ocd-contest/232cb72c-1b11-4293-b4e2-a181e80d172e  ...   200000.0\n",
              "840  ocd-contest/232cb72c-1b11-4293-b4e2-a181e80d172e  ...   150000.0\n",
              "\n",
              "[5 rows x 20 columns]"
            ]
          },
          "metadata": {
            "tags": []
          },
          "execution_count": 52
        }
      ]
    },
    {
      "cell_type": "markdown",
      "metadata": {
        "id": "7ed0nPMWv6L3"
      },
      "source": [
        "となる。\n",
        "\n",
        "<font color = 'gray'>ここで名前の出てきた Sean Parker 氏とは誰だろう？　各自、調べてみて。</font>"
      ]
    },
    {
      "cell_type": "markdown",
      "metadata": {
        "id": "UmnugC0oxx1F"
      },
      "source": [
        "---\n",
        "## 11) GROUP BY を使う \n",
        "#### [Capter 11: Hello groupby](https://www.firstpythonnotebook.org/groupby/index.html)"
      ]
    },
    {
      "cell_type": "markdown",
      "metadata": {
        "id": "qpKYHINjUZC9"
      },
      "source": [
        "ある人物が何回も献金している場合に、各回の献金額ではなく、その人物が合計でいくら献金しているか\n",
        "を突き止めたい。これには、GROUP BY と呼ばれる、必須のテクニックを新たに使う。pandas では `groupby()` と書く。\n",
        "\n",
        "献金のうち、カリフォルニア州以外から寄せられたものは、どのぐらいあったのだろう。表をみてみると、contirbutor_state というカラムがあるので、ここに `groupby()` を適用してみよう。"
      ]
    },
    {
      "cell_type": "code",
      "metadata": {
        "colab": {
          "base_uri": "https://localhost:8080/"
        },
        "id": "Pn0zNDZqWatB",
        "outputId": "6eb5ec63-6961-46ea-ab71-24c92926d5f9"
      },
      "source": [
        "merged.groupby(\"contributor_state\")"
      ],
      "execution_count": 53,
      "outputs": [
        {
          "output_type": "execute_result",
          "data": {
            "text/plain": [
              "<pandas.core.groupby.generic.DataFrameGroupBy object at 0x7f39b4a13950>"
            ]
          },
          "metadata": {
            "tags": []
          },
          "execution_count": 53
        }
      ]
    },
    {
      "cell_type": "markdown",
      "metadata": {
        "id": "y-p0hQKEWlXE"
      },
      "source": [
        "これだけでは、有益な情報は得られない。指定したカラムの値でグループ化しただけで、それでどうするか、を指示していないからだ。州ごとの献金額を集計するよう、つなげてメソッドを書いてやる。"
      ]
    },
    {
      "cell_type": "code",
      "metadata": {
        "colab": {
          "base_uri": "https://localhost:8080/"
        },
        "id": "77WxVJtJX60w",
        "outputId": "f0c6d177-0ce1-4fd7-dc05-af3c02a85feb"
      },
      "source": [
        "merged.groupby(\"contributor_state\").amount.sum()"
      ],
      "execution_count": 54,
      "outputs": [
        {
          "output_type": "execute_result",
          "data": {
            "text/plain": [
              "contributor_state\n",
              "AB           0.00\n",
              "AL         100.00\n",
              "AZ         500.00\n",
              "BC           0.00\n",
              "CA    17491193.00\n",
              "CO       39300.00\n",
              "CT         100.00\n",
              "DC     2618600.00\n",
              "DE     6140100.00\n",
              "FL     1250850.00\n",
              "GA         100.00\n",
              "ID        1000.00\n",
              "IL        7000.00\n",
              "LA         100.00\n",
              "MA         600.00\n",
              "MD        2971.00\n",
              "MI         400.00\n",
              "MO         550.00\n",
              "NC         200.00\n",
              "NV        1800.00\n",
              "NY     5446985.00\n",
              "OH        2950.00\n",
              "OK         200.00\n",
              "OR        1400.00\n",
              "PA     1215475.00\n",
              "RI        6700.00\n",
              "TX        1800.00\n",
              "VA      895243.64\n",
              "WA       50800.00\n",
              "Name: amount, dtype: float64"
            ]
          },
          "metadata": {
            "tags": []
          },
          "execution_count": 54
        }
      ]
    },
    {
      "cell_type": "markdown",
      "metadata": {
        "id": "IOlzf2VAYEuz"
      },
      "source": [
        "１カラムだけ取り出してシリーズになったので、pandas の癖のせいで、見にくい。`reset_index()` を使うと、こうなる。"
      ]
    },
    {
      "cell_type": "code",
      "metadata": {
        "colab": {
          "base_uri": "https://localhost:8080/",
          "height": 948
        },
        "id": "96pcSfLZY_bV",
        "outputId": "018d071c-c63a-4d1c-ce23-ebdc5705e2d8"
      },
      "source": [
        "merged.groupby(\"contributor_state\").amount.sum().reset_index()"
      ],
      "execution_count": 55,
      "outputs": [
        {
          "output_type": "execute_result",
          "data": {
            "text/html": [
              "<div>\n",
              "<style scoped>\n",
              "    .dataframe tbody tr th:only-of-type {\n",
              "        vertical-align: middle;\n",
              "    }\n",
              "\n",
              "    .dataframe tbody tr th {\n",
              "        vertical-align: top;\n",
              "    }\n",
              "\n",
              "    .dataframe thead th {\n",
              "        text-align: right;\n",
              "    }\n",
              "</style>\n",
              "<table border=\"1\" class=\"dataframe\">\n",
              "  <thead>\n",
              "    <tr style=\"text-align: right;\">\n",
              "      <th></th>\n",
              "      <th>contributor_state</th>\n",
              "      <th>amount</th>\n",
              "    </tr>\n",
              "  </thead>\n",
              "  <tbody>\n",
              "    <tr>\n",
              "      <th>0</th>\n",
              "      <td>AB</td>\n",
              "      <td>0.00</td>\n",
              "    </tr>\n",
              "    <tr>\n",
              "      <th>1</th>\n",
              "      <td>AL</td>\n",
              "      <td>100.00</td>\n",
              "    </tr>\n",
              "    <tr>\n",
              "      <th>2</th>\n",
              "      <td>AZ</td>\n",
              "      <td>500.00</td>\n",
              "    </tr>\n",
              "    <tr>\n",
              "      <th>3</th>\n",
              "      <td>BC</td>\n",
              "      <td>0.00</td>\n",
              "    </tr>\n",
              "    <tr>\n",
              "      <th>4</th>\n",
              "      <td>CA</td>\n",
              "      <td>17491193.00</td>\n",
              "    </tr>\n",
              "    <tr>\n",
              "      <th>5</th>\n",
              "      <td>CO</td>\n",
              "      <td>39300.00</td>\n",
              "    </tr>\n",
              "    <tr>\n",
              "      <th>6</th>\n",
              "      <td>CT</td>\n",
              "      <td>100.00</td>\n",
              "    </tr>\n",
              "    <tr>\n",
              "      <th>7</th>\n",
              "      <td>DC</td>\n",
              "      <td>2618600.00</td>\n",
              "    </tr>\n",
              "    <tr>\n",
              "      <th>8</th>\n",
              "      <td>DE</td>\n",
              "      <td>6140100.00</td>\n",
              "    </tr>\n",
              "    <tr>\n",
              "      <th>9</th>\n",
              "      <td>FL</td>\n",
              "      <td>1250850.00</td>\n",
              "    </tr>\n",
              "    <tr>\n",
              "      <th>10</th>\n",
              "      <td>GA</td>\n",
              "      <td>100.00</td>\n",
              "    </tr>\n",
              "    <tr>\n",
              "      <th>11</th>\n",
              "      <td>ID</td>\n",
              "      <td>1000.00</td>\n",
              "    </tr>\n",
              "    <tr>\n",
              "      <th>12</th>\n",
              "      <td>IL</td>\n",
              "      <td>7000.00</td>\n",
              "    </tr>\n",
              "    <tr>\n",
              "      <th>13</th>\n",
              "      <td>LA</td>\n",
              "      <td>100.00</td>\n",
              "    </tr>\n",
              "    <tr>\n",
              "      <th>14</th>\n",
              "      <td>MA</td>\n",
              "      <td>600.00</td>\n",
              "    </tr>\n",
              "    <tr>\n",
              "      <th>15</th>\n",
              "      <td>MD</td>\n",
              "      <td>2971.00</td>\n",
              "    </tr>\n",
              "    <tr>\n",
              "      <th>16</th>\n",
              "      <td>MI</td>\n",
              "      <td>400.00</td>\n",
              "    </tr>\n",
              "    <tr>\n",
              "      <th>17</th>\n",
              "      <td>MO</td>\n",
              "      <td>550.00</td>\n",
              "    </tr>\n",
              "    <tr>\n",
              "      <th>18</th>\n",
              "      <td>NC</td>\n",
              "      <td>200.00</td>\n",
              "    </tr>\n",
              "    <tr>\n",
              "      <th>19</th>\n",
              "      <td>NV</td>\n",
              "      <td>1800.00</td>\n",
              "    </tr>\n",
              "    <tr>\n",
              "      <th>20</th>\n",
              "      <td>NY</td>\n",
              "      <td>5446985.00</td>\n",
              "    </tr>\n",
              "    <tr>\n",
              "      <th>21</th>\n",
              "      <td>OH</td>\n",
              "      <td>2950.00</td>\n",
              "    </tr>\n",
              "    <tr>\n",
              "      <th>22</th>\n",
              "      <td>OK</td>\n",
              "      <td>200.00</td>\n",
              "    </tr>\n",
              "    <tr>\n",
              "      <th>23</th>\n",
              "      <td>OR</td>\n",
              "      <td>1400.00</td>\n",
              "    </tr>\n",
              "    <tr>\n",
              "      <th>24</th>\n",
              "      <td>PA</td>\n",
              "      <td>1215475.00</td>\n",
              "    </tr>\n",
              "    <tr>\n",
              "      <th>25</th>\n",
              "      <td>RI</td>\n",
              "      <td>6700.00</td>\n",
              "    </tr>\n",
              "    <tr>\n",
              "      <th>26</th>\n",
              "      <td>TX</td>\n",
              "      <td>1800.00</td>\n",
              "    </tr>\n",
              "    <tr>\n",
              "      <th>27</th>\n",
              "      <td>VA</td>\n",
              "      <td>895243.64</td>\n",
              "    </tr>\n",
              "    <tr>\n",
              "      <th>28</th>\n",
              "      <td>WA</td>\n",
              "      <td>50800.00</td>\n",
              "    </tr>\n",
              "  </tbody>\n",
              "</table>\n",
              "</div>"
            ],
            "text/plain": [
              "   contributor_state       amount\n",
              "0                 AB         0.00\n",
              "1                 AL       100.00\n",
              "2                 AZ       500.00\n",
              "3                 BC         0.00\n",
              "4                 CA  17491193.00\n",
              "5                 CO     39300.00\n",
              "6                 CT       100.00\n",
              "7                 DC   2618600.00\n",
              "8                 DE   6140100.00\n",
              "9                 FL   1250850.00\n",
              "10                GA       100.00\n",
              "11                ID      1000.00\n",
              "12                IL      7000.00\n",
              "13                LA       100.00\n",
              "14                MA       600.00\n",
              "15                MD      2971.00\n",
              "16                MI       400.00\n",
              "17                MO       550.00\n",
              "18                NC       200.00\n",
              "19                NV      1800.00\n",
              "20                NY   5446985.00\n",
              "21                OH      2950.00\n",
              "22                OK       200.00\n",
              "23                OR      1400.00\n",
              "24                PA   1215475.00\n",
              "25                RI      6700.00\n",
              "26                TX      1800.00\n",
              "27                VA    895243.64\n",
              "28                WA     50800.00"
            ]
          },
          "metadata": {
            "tags": []
          },
          "execution_count": 55
        }
      ]
    },
    {
      "cell_type": "markdown",
      "metadata": {
        "id": "Z3CO7NXeZMEg"
      },
      "source": [
        "<font color = 'gray'>見慣れない AB や BC というのはどこの略号？ これはアルバータとブリティッシュコロンビアで、カナダの州だ。合計金額がゼロになっているのは、米国外から献金を受けてしまったことに気づいて返金したため、相殺されているからだろう。</font>\n",
        "\n",
        "今は GROUP BY したカラム、つまり州名略号の辞書額に並んでいる。金額が大きい順に並べるには、amount のカラムに基づいたソートで降順にすればよい。"
      ]
    },
    {
      "cell_type": "code",
      "metadata": {
        "colab": {
          "base_uri": "https://localhost:8080/",
          "height": 948
        },
        "id": "NWWZVbFCbV14",
        "outputId": "eed70a7d-79a4-4c0b-b1f4-d64f89966845"
      },
      "source": [
        "# reset_index()を抜いたり、後ろに回すとエラーする。中と末尾で２度使う分には動くが……\n",
        "merged.groupby(\"contributor_state\").amount.sum().reset_index().sort_values(\"amount\", ascending = False)"
      ],
      "execution_count": 56,
      "outputs": [
        {
          "output_type": "execute_result",
          "data": {
            "text/html": [
              "<div>\n",
              "<style scoped>\n",
              "    .dataframe tbody tr th:only-of-type {\n",
              "        vertical-align: middle;\n",
              "    }\n",
              "\n",
              "    .dataframe tbody tr th {\n",
              "        vertical-align: top;\n",
              "    }\n",
              "\n",
              "    .dataframe thead th {\n",
              "        text-align: right;\n",
              "    }\n",
              "</style>\n",
              "<table border=\"1\" class=\"dataframe\">\n",
              "  <thead>\n",
              "    <tr style=\"text-align: right;\">\n",
              "      <th></th>\n",
              "      <th>contributor_state</th>\n",
              "      <th>amount</th>\n",
              "    </tr>\n",
              "  </thead>\n",
              "  <tbody>\n",
              "    <tr>\n",
              "      <th>4</th>\n",
              "      <td>CA</td>\n",
              "      <td>17491193.00</td>\n",
              "    </tr>\n",
              "    <tr>\n",
              "      <th>8</th>\n",
              "      <td>DE</td>\n",
              "      <td>6140100.00</td>\n",
              "    </tr>\n",
              "    <tr>\n",
              "      <th>20</th>\n",
              "      <td>NY</td>\n",
              "      <td>5446985.00</td>\n",
              "    </tr>\n",
              "    <tr>\n",
              "      <th>7</th>\n",
              "      <td>DC</td>\n",
              "      <td>2618600.00</td>\n",
              "    </tr>\n",
              "    <tr>\n",
              "      <th>9</th>\n",
              "      <td>FL</td>\n",
              "      <td>1250850.00</td>\n",
              "    </tr>\n",
              "    <tr>\n",
              "      <th>24</th>\n",
              "      <td>PA</td>\n",
              "      <td>1215475.00</td>\n",
              "    </tr>\n",
              "    <tr>\n",
              "      <th>27</th>\n",
              "      <td>VA</td>\n",
              "      <td>895243.64</td>\n",
              "    </tr>\n",
              "    <tr>\n",
              "      <th>28</th>\n",
              "      <td>WA</td>\n",
              "      <td>50800.00</td>\n",
              "    </tr>\n",
              "    <tr>\n",
              "      <th>5</th>\n",
              "      <td>CO</td>\n",
              "      <td>39300.00</td>\n",
              "    </tr>\n",
              "    <tr>\n",
              "      <th>12</th>\n",
              "      <td>IL</td>\n",
              "      <td>7000.00</td>\n",
              "    </tr>\n",
              "    <tr>\n",
              "      <th>25</th>\n",
              "      <td>RI</td>\n",
              "      <td>6700.00</td>\n",
              "    </tr>\n",
              "    <tr>\n",
              "      <th>15</th>\n",
              "      <td>MD</td>\n",
              "      <td>2971.00</td>\n",
              "    </tr>\n",
              "    <tr>\n",
              "      <th>21</th>\n",
              "      <td>OH</td>\n",
              "      <td>2950.00</td>\n",
              "    </tr>\n",
              "    <tr>\n",
              "      <th>26</th>\n",
              "      <td>TX</td>\n",
              "      <td>1800.00</td>\n",
              "    </tr>\n",
              "    <tr>\n",
              "      <th>19</th>\n",
              "      <td>NV</td>\n",
              "      <td>1800.00</td>\n",
              "    </tr>\n",
              "    <tr>\n",
              "      <th>23</th>\n",
              "      <td>OR</td>\n",
              "      <td>1400.00</td>\n",
              "    </tr>\n",
              "    <tr>\n",
              "      <th>11</th>\n",
              "      <td>ID</td>\n",
              "      <td>1000.00</td>\n",
              "    </tr>\n",
              "    <tr>\n",
              "      <th>14</th>\n",
              "      <td>MA</td>\n",
              "      <td>600.00</td>\n",
              "    </tr>\n",
              "    <tr>\n",
              "      <th>17</th>\n",
              "      <td>MO</td>\n",
              "      <td>550.00</td>\n",
              "    </tr>\n",
              "    <tr>\n",
              "      <th>2</th>\n",
              "      <td>AZ</td>\n",
              "      <td>500.00</td>\n",
              "    </tr>\n",
              "    <tr>\n",
              "      <th>16</th>\n",
              "      <td>MI</td>\n",
              "      <td>400.00</td>\n",
              "    </tr>\n",
              "    <tr>\n",
              "      <th>18</th>\n",
              "      <td>NC</td>\n",
              "      <td>200.00</td>\n",
              "    </tr>\n",
              "    <tr>\n",
              "      <th>22</th>\n",
              "      <td>OK</td>\n",
              "      <td>200.00</td>\n",
              "    </tr>\n",
              "    <tr>\n",
              "      <th>1</th>\n",
              "      <td>AL</td>\n",
              "      <td>100.00</td>\n",
              "    </tr>\n",
              "    <tr>\n",
              "      <th>13</th>\n",
              "      <td>LA</td>\n",
              "      <td>100.00</td>\n",
              "    </tr>\n",
              "    <tr>\n",
              "      <th>10</th>\n",
              "      <td>GA</td>\n",
              "      <td>100.00</td>\n",
              "    </tr>\n",
              "    <tr>\n",
              "      <th>6</th>\n",
              "      <td>CT</td>\n",
              "      <td>100.00</td>\n",
              "    </tr>\n",
              "    <tr>\n",
              "      <th>3</th>\n",
              "      <td>BC</td>\n",
              "      <td>0.00</td>\n",
              "    </tr>\n",
              "    <tr>\n",
              "      <th>0</th>\n",
              "      <td>AB</td>\n",
              "      <td>0.00</td>\n",
              "    </tr>\n",
              "  </tbody>\n",
              "</table>\n",
              "</div>"
            ],
            "text/plain": [
              "   contributor_state       amount\n",
              "4                 CA  17491193.00\n",
              "8                 DE   6140100.00\n",
              "20                NY   5446985.00\n",
              "7                 DC   2618600.00\n",
              "9                 FL   1250850.00\n",
              "24                PA   1215475.00\n",
              "27                VA    895243.64\n",
              "28                WA     50800.00\n",
              "5                 CO     39300.00\n",
              "12                IL      7000.00\n",
              "25                RI      6700.00\n",
              "15                MD      2971.00\n",
              "21                OH      2950.00\n",
              "26                TX      1800.00\n",
              "19                NV      1800.00\n",
              "23                OR      1400.00\n",
              "11                ID      1000.00\n",
              "14                MA       600.00\n",
              "17                MO       550.00\n",
              "2                 AZ       500.00\n",
              "16                MI       400.00\n",
              "18                NC       200.00\n",
              "22                OK       200.00\n",
              "1                 AL       100.00\n",
              "13                LA       100.00\n",
              "10                GA       100.00\n",
              "6                 CT       100.00\n",
              "3                 BC         0.00\n",
              "0                 AB         0.00"
            ]
          },
          "metadata": {
            "tags": []
          },
          "execution_count": 56
        }
      ]
    },
    {
      "cell_type": "code",
      "metadata": {
        "id": "7gBeCWL0br-R"
      },
      "source": [
        ""
      ],
      "execution_count": 56,
      "outputs": []
    }
  ]
}